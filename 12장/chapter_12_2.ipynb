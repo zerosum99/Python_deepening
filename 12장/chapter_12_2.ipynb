{
 "cells": [
  {
   "cell_type": "markdown",
   "metadata": {},
   "source": [
    "## 예제 12-2-1 고정 과 가변 매개변수  연계"
   ]
  },
  {
   "cell_type": "code",
   "execution_count": 15,
   "metadata": {},
   "outputs": [],
   "source": [
    "def func_pa(x,y,z, *args) :              ## 매개변수 정의 순서는 고정 위치, 가변 위치 \n",
    "    print(\"locals\",locals())\n",
    "    result = x+y+z\n",
    "    for i in args :\n",
    "        result += i\n",
    "    return result"
   ]
  },
  {
   "cell_type": "code",
   "execution_count": 16,
   "metadata": {},
   "outputs": [
    {
     "name": "stdout",
     "output_type": "stream",
     "text": [
      "locals {'args': (), 'z': 3, 'y': 2, 'x': 1}\n"
     ]
    },
    {
     "data": {
      "text/plain": [
       "6"
      ]
     },
     "execution_count": 16,
     "metadata": {},
     "output_type": "execute_result"
    }
   ],
   "source": [
    "func_pa(1,2,3)                                ## 3개의 인자를 전달하면 고정 위치 매개변수와 일대일로 매핑\n",
    "                                              ## 가변 위치 매개변수는 아무것도 없는 튜플이 할당"
   ]
  },
  {
   "cell_type": "code",
   "execution_count": 17,
   "metadata": {},
   "outputs": [
    {
     "name": "stdout",
     "output_type": "stream",
     "text": [
      "locals {'args': (4, 5, 6, 7), 'z': 3, 'y': 2, 'x': 1}\n"
     ]
    },
    {
     "data": {
      "text/plain": [
       "28"
      ]
     },
     "execution_count": 17,
     "metadata": {},
     "output_type": "execute_result"
    }
   ],
   "source": [
    "func_pa(1,2,3,4,5,6,7)                                  ## 7개의 인자를 전달해서 실행\n",
    "                                                        ## 3개는 매개변수에 할당된다\n",
    "                                                        ## 나머지 4개는 하나의 튜플에 들어간다"
   ]
  },
  {
   "cell_type": "code",
   "execution_count": null,
   "metadata": {},
   "outputs": [],
   "source": []
  },
  {
   "cell_type": "code",
   "execution_count": 13,
   "metadata": {},
   "outputs": [],
   "source": [
    "def func_pak(x,y,z, *args, a=1,b=2) :                   ## 3개의 고정 위치 매개변수, 하나의 가변 위치 매개변수, 2개의 고정 키워드 매개변수\n",
    "    print(\"locals\",locals())                            ## 두 개의 고정 키워드 매개변수에 2 개의 초기값을 할당한다\n",
    "    result = x+y+z+a+b                                  ## 고정은 지역이름공간에 같이 관리해서 변수를 그대로 사용해서 합산한다\n",
    "    for i in args :\n",
    "        result += i\n",
    "    return result"
   ]
  },
  {
   "cell_type": "code",
   "execution_count": 14,
   "metadata": {},
   "outputs": [
    {
     "name": "stdout",
     "output_type": "stream",
     "text": [
      "locals {'args': (), 'b': 2, 'a': 1, 'z': 3, 'y': 2, 'x': 1}\n"
     ]
    },
    {
     "data": {
      "text/plain": [
       "9"
      ]
     },
     "execution_count": 14,
     "metadata": {},
     "output_type": "execute_result"
    }
   ],
   "source": [
    "func_pak(1,2,3)                                               ## 3개의 인자를 전달했지만 5개의 인자가 매핑\n",
    "                                                    "
   ]
  },
  {
   "cell_type": "code",
   "execution_count": null,
   "metadata": {},
   "outputs": [],
   "source": []
  },
  {
   "cell_type": "code",
   "execution_count": 18,
   "metadata": {},
   "outputs": [],
   "source": [
    "def func_pak(x,y,z, *, a,b) :                         ## 3개의 고정 위치 매개변수, 가변 위치 매개변수는 별표만 정의, 고정 키워드 매개변수 정의\n",
    "    print(\"locals\",locals())                          ## 가변 위치 매개변수에 이름이 없어서 가변위치 매개변수는 사용할 수 없다\n",
    "    result = x+y+z+a+b\n",
    "    return result"
   ]
  },
  {
   "cell_type": "code",
   "execution_count": 19,
   "metadata": {},
   "outputs": [
    {
     "name": "stdout",
     "output_type": "stream",
     "text": [
      "locals {'b': 20, 'a': 10, 'z': 3, 'y': 2, 'x': 1}\n"
     ]
    },
    {
     "data": {
      "text/plain": [
       "36"
      ]
     },
     "execution_count": 19,
     "metadata": {},
     "output_type": "execute_result"
    }
   ],
   "source": [
    "func_pak(1,2,3,a=10,b=20)                            ## 3개의 인자와 두 개의 키워드 인자를 전달"
   ]
  },
  {
   "cell_type": "code",
   "execution_count": null,
   "metadata": {},
   "outputs": [],
   "source": []
  },
  {
   "cell_type": "code",
   "execution_count": 20,
   "metadata": {},
   "outputs": [
    {
     "ename": "TypeError",
     "evalue": "func_pak() takes 3 positional arguments but 5 were given",
     "output_type": "error",
     "traceback": [
      "\u001b[1;31m---------------------------------------------------------------------------\u001b[0m",
      "\u001b[1;31mTypeError\u001b[0m                                 Traceback (most recent call last)",
      "\u001b[1;32m<ipython-input-20-108aaa705501>\u001b[0m in \u001b[0;36m<module>\u001b[1;34m\u001b[0m\n\u001b[1;32m----> 1\u001b[1;33m \u001b[0mfunc_pak\u001b[0m\u001b[1;33m(\u001b[0m\u001b[1;36m1\u001b[0m\u001b[1;33m,\u001b[0m\u001b[1;36m2\u001b[0m\u001b[1;33m,\u001b[0m\u001b[1;36m3\u001b[0m\u001b[1;33m,\u001b[0m\u001b[1;36m10\u001b[0m\u001b[1;33m,\u001b[0m\u001b[1;36m20\u001b[0m\u001b[1;33m)\u001b[0m\u001b[1;33m\u001b[0m\u001b[1;33m\u001b[0m\u001b[0m\n\u001b[0m",
      "\u001b[1;31mTypeError\u001b[0m: func_pak() takes 3 positional arguments but 5 were given"
     ]
    }
   ],
   "source": [
    "func_pak(1,2,3,10,20)                                                         ## 5개의 위치인자를 전달하면 가변위치인자를 인식하지 못해\n",
    "                                                                              ## 예외를 발생시킨다."
   ]
  },
  {
   "cell_type": "code",
   "execution_count": null,
   "metadata": {},
   "outputs": [],
   "source": []
  },
  {
   "cell_type": "code",
   "execution_count": 21,
   "metadata": {},
   "outputs": [],
   "source": [
    "def func_pakw(x,y,z, *args, a,b,**kwargs) :                 ## 고정 위치, 가변, 고정 키워드, 가변 키워드 총 4개의 매개변수를 순서대로 정의\n",
    "    print(\"locals\",locals())\n",
    "    result = x+y+z+a+b\n",
    "    for i in args :                               \n",
    "        result += i\n",
    "    for k,v in kwargs.items() :\n",
    "        result += v\n",
    "    return result"
   ]
  },
  {
   "cell_type": "code",
   "execution_count": null,
   "metadata": {},
   "outputs": [],
   "source": []
  },
  {
   "cell_type": "code",
   "execution_count": 22,
   "metadata": {},
   "outputs": [
    {
     "name": "stdout",
     "output_type": "stream",
     "text": [
      "locals {'kwargs': {}, 'args': (), 'b': 11, 'a': 10, 'z': 3, 'y': 2, 'x': 1}\n"
     ]
    },
    {
     "data": {
      "text/plain": [
       "27"
      ]
     },
     "execution_count": 22,
     "metadata": {},
     "output_type": "execute_result"
    }
   ],
   "source": [
    "func_pakw(1,2,3,a=10,b=11)                                                  ## 고정 매개변수와 매핑이 되면 실행이 가능"
   ]
  },
  {
   "cell_type": "code",
   "execution_count": 23,
   "metadata": {},
   "outputs": [
    {
     "name": "stdout",
     "output_type": "stream",
     "text": [
      "locals {'kwargs': {'c': 100}, 'args': (4, 5, 6), 'b': 11, 'a': 10, 'z': 3, 'y': 2, 'x': 1}\n"
     ]
    },
    {
     "data": {
      "text/plain": [
       "142"
      ]
     },
     "execution_count": 23,
     "metadata": {},
     "output_type": "execute_result"
    }
   ],
   "source": [
    "func_pakw(1,2,3,4,5,6,a=10,b=11,c=100)                                                    ## 가변 키워드 인자도 추가해도 실행된다"
   ]
  },
  {
   "cell_type": "code",
   "execution_count": 24,
   "metadata": {},
   "outputs": [
    {
     "ename": "TypeError",
     "evalue": "func_pakw() missing 1 required keyword-only argument: 'b'",
     "output_type": "error",
     "traceback": [
      "\u001b[1;31m---------------------------------------------------------------------------\u001b[0m",
      "\u001b[1;31mTypeError\u001b[0m                                 Traceback (most recent call last)",
      "\u001b[1;32m<ipython-input-24-d4589eac51b1>\u001b[0m in \u001b[0;36m<module>\u001b[1;34m\u001b[0m\n\u001b[1;32m----> 1\u001b[1;33m \u001b[0mfunc_pakw\u001b[0m\u001b[1;33m(\u001b[0m\u001b[1;36m1\u001b[0m\u001b[1;33m,\u001b[0m\u001b[1;36m2\u001b[0m\u001b[1;33m,\u001b[0m\u001b[1;36m3\u001b[0m\u001b[1;33m,\u001b[0m\u001b[1;36m4\u001b[0m\u001b[1;33m,\u001b[0m\u001b[1;36m5\u001b[0m\u001b[1;33m,\u001b[0m\u001b[1;36m6\u001b[0m\u001b[1;33m,\u001b[0m\u001b[0ma\u001b[0m\u001b[1;33m=\u001b[0m\u001b[1;36m10\u001b[0m\u001b[1;33m,\u001b[0m\u001b[0mc\u001b[0m\u001b[1;33m=\u001b[0m\u001b[1;36m100\u001b[0m\u001b[1;33m)\u001b[0m\u001b[1;33m\u001b[0m\u001b[1;33m\u001b[0m\u001b[0m\n\u001b[0m",
      "\u001b[1;31mTypeError\u001b[0m: func_pakw() missing 1 required keyword-only argument: 'b'"
     ]
    }
   ],
   "source": [
    "func_pakw(1,2,3,4,5,6,a=10,c=100)                                              ## 고정 키워드 인자를 하나 빼면 예외를 발생시킨다"
   ]
  },
  {
   "cell_type": "code",
   "execution_count": null,
   "metadata": {},
   "outputs": [],
   "source": []
  },
  {
   "cell_type": "markdown",
   "metadata": {},
   "source": [
    "## 예제 12-2-2  모든 매개변수가 가능한 구조 "
   ]
  },
  {
   "cell_type": "code",
   "execution_count": 27,
   "metadata": {},
   "outputs": [],
   "source": [
    "def func_apply(*args,**kwargs) :                      ## 모든 매개변수를 가변으로 처리하면 다양한 매개변수를 처리할 수 있다.\n",
    "    result = 0\n",
    "    print(\"locals\",locals())\n",
    "    for i in args :\n",
    "        result += i\n",
    "    for k,v in kwargs.items() :\n",
    "        result += v\n",
    "    return result"
   ]
  },
  {
   "cell_type": "code",
   "execution_count": 28,
   "metadata": {},
   "outputs": [
    {
     "name": "stdout",
     "output_type": "stream",
     "text": [
      "locals {'result': 0, 'kwargs': {'a': 10, 'b': 20}, 'args': (1, 2, 3, 4, 5)}\n"
     ]
    },
    {
     "data": {
      "text/plain": [
       "45"
      ]
     },
     "execution_count": 28,
     "metadata": {},
     "output_type": "execute_result"
    }
   ],
   "source": [
    "func_apply(1,2,3,4,5,a=10,b=20)                                            ## 가변 인자와 키워드 인자 순으로 전달한다"
   ]
  },
  {
   "cell_type": "code",
   "execution_count": 29,
   "metadata": {},
   "outputs": [
    {
     "ename": "SyntaxError",
     "evalue": "positional argument follows keyword argument (<ipython-input-29-e2ad5c86e892>, line 1)",
     "output_type": "error",
     "traceback": [
      "\u001b[1;36m  File \u001b[1;32m\"<ipython-input-29-e2ad5c86e892>\"\u001b[1;36m, line \u001b[1;32m1\u001b[0m\n\u001b[1;33m    func_apply(1,2,3,4,5,a=10,b=20,6)\u001b[0m\n\u001b[1;37m                                  ^\u001b[0m\n\u001b[1;31mSyntaxError\u001b[0m\u001b[1;31m:\u001b[0m positional argument follows keyword argument\n"
     ]
    }
   ],
   "source": [
    "func_apply(1,2,3,4,5,a=10,b=20,6)                        ## 가변 위치인자를 고정 위치 인자 뒤에 넣을 수 없다"
   ]
  },
  {
   "cell_type": "code",
   "execution_count": null,
   "metadata": {},
   "outputs": [],
   "source": []
  }
 ],
 "metadata": {
  "kernelspec": {
   "display_name": "Python 3",
   "language": "python",
   "name": "python3"
  },
  "language_info": {
   "codemirror_mode": {
    "name": "ipython",
    "version": 3
   },
   "file_extension": ".py",
   "mimetype": "text/x-python",
   "name": "python",
   "nbconvert_exporter": "python",
   "pygments_lexer": "ipython3",
   "version": "3.7.3"
  }
 },
 "nbformat": 4,
 "nbformat_minor": 2
}
