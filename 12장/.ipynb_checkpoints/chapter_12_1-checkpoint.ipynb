{
 "cells": [
  {
   "cell_type": "markdown",
   "metadata": {},
   "source": [
    "## 예제 12-1-1 고정 위치 매개변수 처리"
   ]
  },
  {
   "cell_type": "code",
   "execution_count": 1,
   "metadata": {},
   "outputs": [],
   "source": [
    "def func_p(x,y,z) :                 ## 함수의 매개변수 3개를 고정으로 정의합ㄴ다\n",
    "    print(\"locals\",locals())        ## 함수가 실행될 때 지역 이름공간의 상태를 출력합니다\n",
    "    return x+y+z                    ## 3개의 매개변수를 합산해서 결과를 반환합니다"
   ]
  },
  {
   "cell_type": "code",
   "execution_count": 2,
   "metadata": {},
   "outputs": [
    {
     "name": "stdout",
     "output_type": "stream",
     "text": [
      "locals {'z': 3, 'y': 2, 'x': 1}\n"
     ]
    },
    {
     "data": {
      "text/plain": [
       "6"
      ]
     },
     "execution_count": 2,
     "metadata": {},
     "output_type": "execute_result"
    }
   ],
   "source": [
    "func_p(1,2,3)                       ## 함수에 3 개의 인자를 넣고 전달하면 매개변수에 일대일로 매핑된다"
   ]
  },
  {
   "cell_type": "code",
   "execution_count": 3,
   "metadata": {},
   "outputs": [],
   "source": [
    "def func_d(x=1,y=1,z=1) :       ## 함수 정의할 때 매개변수에 값을 할당하면 초기값으로 할당된다\n",
    "    print(\"locals\",locals())\n",
    "    return x+y+z"
   ]
  },
  {
   "cell_type": "code",
   "execution_count": 5,
   "metadata": {},
   "outputs": [
    {
     "name": "stdout",
     "output_type": "stream",
     "text": [
      "locals {'z': 1, 'y': 1, 'x': 1}\n"
     ]
    },
    {
     "data": {
      "text/plain": [
       "3"
      ]
     },
     "execution_count": 5,
     "metadata": {},
     "output_type": "execute_result"
    }
   ],
   "source": [
    "func_d()                         ## 아무런 인자없이 함수를 실행해도 초기값이 있어 매개변수에 할당된다"
   ]
  },
  {
   "cell_type": "code",
   "execution_count": 7,
   "metadata": {},
   "outputs": [
    {
     "name": "stdout",
     "output_type": "stream",
     "text": [
      "locals {'z': 1, 'y': 1, 'x': 10}\n"
     ]
    },
    {
     "data": {
      "text/plain": [
       "12"
      ]
     },
     "execution_count": 7,
     "metadata": {},
     "output_type": "execute_result"
    }
   ],
   "source": [
    "func_d(10)                         ## 하나의 인자를 넣고 함수를 실행하면 나머지 두 개 매개변수에 초기값이 할당된다"
   ]
  },
  {
   "cell_type": "code",
   "execution_count": 8,
   "metadata": {},
   "outputs": [
    {
     "name": "stdout",
     "output_type": "stream",
     "text": [
      "locals {'z': 1, 'y': 20, 'x': 10}\n"
     ]
    },
    {
     "data": {
      "text/plain": [
       "31"
      ]
     },
     "execution_count": 8,
     "metadata": {},
     "output_type": "execute_result"
    }
   ],
   "source": [
    "func_d(10,20)                       ## 두 개의 인자를 넣고 함수를 실행하면 나머지 한 개 매개변수에 초기값이 할당된다"
   ]
  },
  {
   "cell_type": "code",
   "execution_count": 9,
   "metadata": {},
   "outputs": [
    {
     "data": {
      "text/plain": [
       "(1, 1, 1)"
      ]
     },
     "execution_count": 9,
     "metadata": {},
     "output_type": "execute_result"
    }
   ],
   "source": [
    "func_d.__defaults__                 ## 초기값을 보관하는 속성을 __defaults__에 관리한다.\n",
    "                                    ## 함수가 호출될 때 마다 초기값은 항상 유지되어 사용된다."
   ]
  },
  {
   "cell_type": "code",
   "execution_count": null,
   "metadata": {},
   "outputs": [],
   "source": []
  },
  {
   "cell_type": "markdown",
   "metadata": {},
   "source": [
    "## 예제 12-1-2 가변 위치 매개변수 처리"
   ]
  },
  {
   "cell_type": "code",
   "execution_count": 15,
   "metadata": {},
   "outputs": [],
   "source": [
    "b, *a = [1,2,3,4,5]                 ##  두 개의 변수에 5개의 원소를 가지는 리스트를 할당한다. 하나의 변수에 별표를 붙여서 \n",
    "                                    ## 나머지 원소를 받는다"
   ]
  },
  {
   "cell_type": "code",
   "execution_count": 16,
   "metadata": {},
   "outputs": [
    {
     "data": {
      "text/plain": [
       "(1, [2, 3, 4, 5])"
      ]
     },
     "execution_count": 16,
     "metadata": {},
     "output_type": "execute_result"
    }
   ],
   "source": [
    "b, a                                ## 두 개의 변수를 확인하면 하나의 원소가 할당된 것과 4개의 원소를 가진 리스트가 할당"
   ]
  },
  {
   "cell_type": "code",
   "execution_count": null,
   "metadata": {},
   "outputs": [],
   "source": []
  },
  {
   "cell_type": "code",
   "execution_count": 10,
   "metadata": {},
   "outputs": [],
   "source": [
    "def func_a(*args) :                  ## 하나의 매개변수에 여러 개의 인자를  받을 수 있다고 매개변수 이름앞에 별표를 붙인다\n",
    "    print(\" 가변 \", locals())\n",
    "    result = 0\n",
    "    for i in args :                  ## 가변인자들은 하나의 변수에 할당되어서 사용할 때는 원소를 하나씩 꺼내는 순환문을 사용한다\n",
    "        result += i\n",
    "    return result"
   ]
  },
  {
   "cell_type": "code",
   "execution_count": 11,
   "metadata": {},
   "outputs": [
    {
     "name": "stdout",
     "output_type": "stream",
     "text": [
      " 가변  {'args': (1, 2, 3, 4, 5)}\n"
     ]
    },
    {
     "data": {
      "text/plain": [
       "15"
      ]
     },
     "execution_count": 11,
     "metadata": {},
     "output_type": "execute_result"
    }
   ],
   "source": [
    "func_a(1,2,3,4,5)                    ## 5개의 인자를 전달한다\n",
    "                                     ## 하나의 매개변수에 5개의 원소를 가진 튜플이 할당된다"
   ]
  },
  {
   "cell_type": "code",
   "execution_count": 17,
   "metadata": {},
   "outputs": [
    {
     "name": "stdout",
     "output_type": "stream",
     "text": [
      " 가변  {'args': (1, 2, 3, 4, 5, 6, 7, 8, 9)}\n"
     ]
    },
    {
     "data": {
      "text/plain": [
       "45"
      ]
     },
     "execution_count": 17,
     "metadata": {},
     "output_type": "execute_result"
    }
   ],
   "source": [
    "func_a(1,2,3,4,5,6,7,8,9)                        ## 9개의 원소를 인자로 전달한다.\n",
    "                                                 ## 하나의 매개변수에 9개의 원소를 가진 튜플이 할당된다"
   ]
  },
  {
   "cell_type": "code",
   "execution_count": null,
   "metadata": {},
   "outputs": [],
   "source": []
  },
  {
   "cell_type": "markdown",
   "metadata": {},
   "source": [
    "## 예제 12-1-3 가변 키워드 매개변수 처리"
   ]
  },
  {
   "cell_type": "code",
   "execution_count": 28,
   "metadata": {},
   "outputs": [
    {
     "name": "stdout",
     "output_type": "stream",
     "text": [
      "a 1\n"
     ]
    }
   ],
   "source": [
    "for k,v in {'a':1}.items() :                  ## 딕셔너리 원소를 키와 값을 쌍으로 순환을 실행할 수 있다.\n",
    "    print(k,v)"
   ]
  },
  {
   "cell_type": "code",
   "execution_count": null,
   "metadata": {},
   "outputs": [],
   "source": []
  },
  {
   "cell_type": "code",
   "execution_count": 26,
   "metadata": {},
   "outputs": [],
   "source": [
    "def func_kw(**kwargs) :                        ## 하나의 매개변수에 가변의 키워드 인자를 받으려면 별표를 2개 붙인다\n",
    "    print(\" 가변 \", locals())\n",
    "    result = 0\n",
    "    for k,v in kwargs.items() :                ## 이 매개변수의 값을 쌍으로 꺼낼때는 item 메소드를 사용한다\n",
    "        result += v\n",
    "    return result"
   ]
  },
  {
   "cell_type": "code",
   "execution_count": 27,
   "metadata": {},
   "outputs": [
    {
     "name": "stdout",
     "output_type": "stream",
     "text": [
      " 가변  {'kwargs': {'x': 1, 'y': 2, 'z': 3}}\n"
     ]
    },
    {
     "data": {
      "text/plain": [
       "6"
      ]
     },
     "execution_count": 27,
     "metadata": {},
     "output_type": "execute_result"
    }
   ],
   "source": [
    "func_kw(x=1,y=2,z=3)                           ## 함수를 실행할 때 3개의 키워드 인자를 전달한다\n",
    "                                               ## 지역 이름공간에 키워드 인자를 딕셔너리에 저장한다"
   ]
  },
  {
   "cell_type": "code",
   "execution_count": 29,
   "metadata": {},
   "outputs": [
    {
     "name": "stdout",
     "output_type": "stream",
     "text": [
      " 가변  {'kwargs': {'x': 1, 'y': 2, 'z': 3, 'a': 10}}\n"
     ]
    },
    {
     "data": {
      "text/plain": [
       "16"
      ]
     },
     "execution_count": 29,
     "metadata": {},
     "output_type": "execute_result"
    }
   ],
   "source": [
    "func_kw(x=1,y=2,z=3, a=10)                        ## 4개의 키워드 인자를 전달한다"
   ]
  },
  {
   "cell_type": "code",
   "execution_count": null,
   "metadata": {},
   "outputs": [],
   "source": []
  }
 ],
 "metadata": {
  "kernelspec": {
   "display_name": "Python 3",
   "language": "python",
   "name": "python3"
  },
  "language_info": {
   "codemirror_mode": {
    "name": "ipython",
    "version": 3
   },
   "file_extension": ".py",
   "mimetype": "text/x-python",
   "name": "python",
   "nbconvert_exporter": "python",
   "pygments_lexer": "ipython3",
   "version": "3.7.3"
  }
 },
 "nbformat": 4,
 "nbformat_minor": 2
}
