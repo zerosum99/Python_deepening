{
 "cells": [
  {
   "cell_type": "markdown",
   "metadata": {},
   "source": [
    "##  예제 12-3-1  인덱스 검색 함수를 메소드로 처리하기"
   ]
  },
  {
   "cell_type": "code",
   "execution_count": 1,
   "metadata": {},
   "outputs": [],
   "source": [
    "ll = [1,2,3,4,5,6]"
   ]
  },
  {
   "cell_type": "code",
   "execution_count": null,
   "metadata": {},
   "outputs": [],
   "source": []
  },
  {
   "cell_type": "code",
   "execution_count": 4,
   "metadata": {},
   "outputs": [],
   "source": [
    "class Index :                                    ## 클래스를 정의할 때 상속을 표시하지 않으면 자동으로 object 클래스를 상속한다\n",
    "    @staticmethod                                ##  데코레이터로 함수를 정적메소드로 변환한다\n",
    "    def index(iterable, *args) :                 ##  정적 메소드는 클래스에서 함수를 그대로 사용하도록 정의한다\n",
    "        result = []\n",
    "        for i in args :\n",
    "            if i < len(iterable) :\n",
    "                result.append(iterable[i])\n",
    "            else :\n",
    "                continue\n",
    "        return result\n"
   ]
  },
  {
   "cell_type": "code",
   "execution_count": 5,
   "metadata": {},
   "outputs": [
    {
     "name": "stdout",
     "output_type": "stream",
     "text": [
      "[2, 3, 6]\n"
     ]
    }
   ],
   "source": [
    "print(Index.index(ll,1,2,5))                    ## 이 클래스에서 정적메소드를 호출하면 함수를 호출해서 실행하는 것과 동일하다"
   ]
  },
  {
   "cell_type": "code",
   "execution_count": null,
   "metadata": {},
   "outputs": [],
   "source": []
  },
  {
   "cell_type": "code",
   "execution_count": 6,
   "metadata": {},
   "outputs": [],
   "source": [
    "class Index_ :                                  ## 클래스를 정의\n",
    "    \n",
    "    def __init__(self, iterable) :              ## 객체가 생길 때 __init__ 함수에  self, iterable을 인자로 넣는다\n",
    "        self.iterable = iterable                ##  이 객체가 만들어질 때 iterable 속성에 iterable을 할당한다\n",
    "    \n",
    "\n",
    "    def index(self, *args) :                      ## 인스턴스 메소드도 함수로 정의한다. 이때 self, *args를 지정한다\n",
    "        result = []\n",
    "        for i in args :\n",
    "            if i < len(self.iterable) :\n",
    "                result.append(self.iterable[i])\n",
    "            else :\n",
    "                continue\n",
    "        return result"
   ]
  },
  {
   "cell_type": "code",
   "execution_count": 7,
   "metadata": {},
   "outputs": [
    {
     "name": "stdout",
     "output_type": "stream",
     "text": [
      "[2, 3, 6]\n"
     ]
    }
   ],
   "source": [
    "x = Index_(ll)                                    ## 객체를 하나 만든다\n",
    "    \n",
    "print(x.index(1,2,5))                             ## 이 객체로 메소드에 인자를 넣고 실행한다 "
   ]
  },
  {
   "cell_type": "code",
   "execution_count": null,
   "metadata": {},
   "outputs": [],
   "source": []
  },
  {
   "cell_type": "code",
   "execution_count": 8,
   "metadata": {},
   "outputs": [],
   "source": [
    "class Index__:\n",
    "    \n",
    "    def __init__(self, iterable) :\n",
    "        self.iterable = iterable\n",
    "    \n",
    "\n",
    "    def index(self, *args) :                                                    ## 이번 함수에는 if 제어문을 인라인 삼항연산자로 변환한다\n",
    "        result = []\n",
    "        for i in args :\n",
    "            result.append(self.iterable[i]) if i < len(self.iterable) else _\n",
    "        return result"
   ]
  },
  {
   "cell_type": "code",
   "execution_count": 9,
   "metadata": {},
   "outputs": [
    {
     "name": "stdout",
     "output_type": "stream",
     "text": [
      "[2, 3, 6]\n"
     ]
    }
   ],
   "source": [
    "y = Index__(ll)\n",
    "    \n",
    "print(y.index(1,2,5))"
   ]
  },
  {
   "cell_type": "code",
   "execution_count": null,
   "metadata": {},
   "outputs": [],
   "source": []
  }
 ],
 "metadata": {
  "kernelspec": {
   "display_name": "Python 3",
   "language": "python",
   "name": "python3"
  },
  "language_info": {
   "codemirror_mode": {
    "name": "ipython",
    "version": 3
   },
   "file_extension": ".py",
   "mimetype": "text/x-python",
   "name": "python",
   "nbconvert_exporter": "python",
   "pygments_lexer": "ipython3",
   "version": "3.7.3"
  }
 },
 "nbformat": 4,
 "nbformat_minor": 2
}
