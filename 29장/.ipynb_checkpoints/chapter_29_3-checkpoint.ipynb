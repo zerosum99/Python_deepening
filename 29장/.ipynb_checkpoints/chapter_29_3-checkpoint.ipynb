{
 "cells": [
  {
   "cell_type": "markdown",
   "metadata": {},
   "source": [
    "## 예제 29-3-1 클래스 이름공간 접근 알아보기"
   ]
  },
  {
   "cell_type": "code",
   "execution_count": 1,
   "metadata": {},
   "outputs": [],
   "source": [
    "class UserMeta(type) :\n",
    "    def __getattribute__(self,name) :\n",
    "        print(\"사용자 메타 클래스 접근\",super())\n",
    "        return super().__getattribute__(name)"
   ]
  },
  {
   "cell_type": "code",
   "execution_count": null,
   "metadata": {},
   "outputs": [],
   "source": []
  },
  {
   "cell_type": "code",
   "execution_count": 2,
   "metadata": {},
   "outputs": [],
   "source": [
    "class InvolvedParty(metaclass=UserMeta):\n",
    "    \n",
    "    name = \"IP\"\n",
    "    \n",
    "    def __init__(self,name) :\n",
    "        self.name = name\n",
    "    \n",
    "    def __getattribute__(self,name) :\n",
    "        print(\" 인스턴스 접근 \",super())\n",
    "        return super().__getattribute__(name)\n",
    "        "
   ]
  },
  {
   "cell_type": "code",
   "execution_count": 3,
   "metadata": {},
   "outputs": [
    {
     "name": "stdout",
     "output_type": "stream",
     "text": [
      "사용자 메타 클래스 접근 <super: <class 'UserMeta'>, <UserMeta object>>\n"
     ]
    },
    {
     "data": {
      "text/plain": [
       "'IP'"
      ]
     },
     "execution_count": 3,
     "metadata": {},
     "output_type": "execute_result"
    }
   ],
   "source": [
    "InvolvedParty.name"
   ]
  },
  {
   "cell_type": "code",
   "execution_count": 5,
   "metadata": {},
   "outputs": [
    {
     "name": "stdout",
     "output_type": "stream",
     "text": [
      "사용자 메타 클래스 접근 <super: <class 'UserMeta'>, <UserMeta object>>\n",
      "사용자 메타 클래스 접근 <super: <class 'UserMeta'>, <UserMeta object>>\n",
      "사용자 메타 클래스 접근 <super: <class 'UserMeta'>, <UserMeta object>>\n",
      "사용자 메타 클래스 접근 <super: <class 'UserMeta'>, <UserMeta object>>\n"
     ]
    },
    {
     "data": {
      "text/plain": [
       "[__main__.InvolvedParty, object]"
      ]
     },
     "execution_count": 5,
     "metadata": {},
     "output_type": "execute_result"
    }
   ],
   "source": [
    "InvolvedParty.mro()"
   ]
  },
  {
   "cell_type": "code",
   "execution_count": null,
   "metadata": {},
   "outputs": [],
   "source": []
  },
  {
   "cell_type": "code",
   "execution_count": 4,
   "metadata": {},
   "outputs": [],
   "source": [
    "i = InvolvedParty(\"DahlMoon\")"
   ]
  },
  {
   "cell_type": "code",
   "execution_count": 6,
   "metadata": {},
   "outputs": [
    {
     "name": "stdout",
     "output_type": "stream",
     "text": [
      " 인스턴스 접근  <super: <class 'InvolvedParty'>, <InvolvedParty object>>\n"
     ]
    },
    {
     "data": {
      "text/plain": [
       "'DahlMoon'"
      ]
     },
     "execution_count": 6,
     "metadata": {},
     "output_type": "execute_result"
    }
   ],
   "source": [
    "i.name"
   ]
  }
 ],
 "metadata": {
  "kernelspec": {
   "display_name": "Python 3",
   "language": "python",
   "name": "python3"
  },
  "language_info": {
   "codemirror_mode": {
    "name": "ipython",
    "version": 3
   },
   "file_extension": ".py",
   "mimetype": "text/x-python",
   "name": "python",
   "nbconvert_exporter": "python",
   "pygments_lexer": "ipython3",
   "version": "3.6.7"
  }
 },
 "nbformat": 4,
 "nbformat_minor": 2
}
