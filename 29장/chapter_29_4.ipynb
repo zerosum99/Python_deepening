{
 "cells": [
  {
   "cell_type": "markdown",
   "metadata": {},
   "source": [
    "## 예제 29-4-1  데코레이터 함수 내에 클래스 정의해서 처리하기"
   ]
  },
  {
   "cell_type": "code",
   "execution_count": 1,
   "metadata": {},
   "outputs": [],
   "source": [
    "def decorator(cls) :                              ## 클래스를 매개변수로 받는 데코레이터 함수를 정의한다\n",
    "    class Decoator :                              ## 내부 함수 대신 내부 클래스를 정의한다\n",
    "        def __new__(cls, *args) :                 ## 클래스의 생성자를 정의한다. 생성자는 클래스를 첫번째 인자로 받는다\n",
    "            self = object.__new__(cls)            ## 최상위 클래스의 생성자를 사용해서 객체를 만든다\n",
    "            print(\" __new__ self \", self)\n",
    "            return self                           ## 만들어진 객체를 반환한다\n",
    "             \n",
    "        def __init__(self,*args) :              ## 객체가 생성된 후에 객체의 속성을 추가한다 \n",
    "            print(\"__init__\",self)\n",
    "            self.__class__ = cls                ## 이 클래스가 아닌 전달 받은 클래스로 객체의 클래스명을 조정한다\n",
    "            cls.__init__(self,*args)            ## 초기화도 전달을 받은 클래스의 초기화 함수를 실행한다\n",
    "        \n",
    "        \n",
    "    return Decoator                              ##  내부 클래스를 전달한다"
   ]
  },
  {
   "cell_type": "code",
   "execution_count": null,
   "metadata": {},
   "outputs": [],
   "source": []
  },
  {
   "cell_type": "code",
   "execution_count": 2,
   "metadata": {},
   "outputs": [],
   "source": [
    "@decorator                                   ## 클래스에 데코레이터를 처리한다\n",
    "class Person :                              ## 클래스에는 초기화 함수를 사용해서 두 개의 속성을 할당한다\n",
    "    def __init__(self, name, age) :\n",
    "        self.name = name\n",
    "        self.age = age"
   ]
  },
  {
   "cell_type": "code",
   "execution_count": null,
   "metadata": {},
   "outputs": [],
   "source": []
  },
  {
   "cell_type": "code",
   "execution_count": 3,
   "metadata": {},
   "outputs": [
    {
     "data": {
      "text/plain": [
       "'Decoator'"
      ]
     },
     "execution_count": 3,
     "metadata": {},
     "output_type": "execute_result"
    }
   ],
   "source": [
    "Person.__name__                            ## 클래스의 이름을 확인하면 테코레이터 함수 내부에 정의된 클래스"
   ]
  },
  {
   "cell_type": "code",
   "execution_count": 4,
   "metadata": {},
   "outputs": [
    {
     "name": "stdout",
     "output_type": "stream",
     "text": [
      " __new__ self  <__main__.decorator.<locals>.Decoator object at 0x110ec0fd0>\n",
      "__init__ <__main__.decorator.<locals>.Decoator object at 0x110ec0fd0>\n"
     ]
    }
   ],
   "source": [
    "p = Person(\"dahl\",30)                                                       ## 객체를 생성하면 생성자가 먼저 실행되고 초기화가 그 다음에 \n",
    "                                                                            ## 실행된다. 이 규칙은 객체를 생성할 때 항상 동일하다"
   ]
  },
  {
   "cell_type": "code",
   "execution_count": null,
   "metadata": {},
   "outputs": [],
   "source": []
  },
  {
   "cell_type": "code",
   "execution_count": 5,
   "metadata": {},
   "outputs": [
    {
     "data": {
      "text/plain": [
       "<__main__.Person at 0x110ec0fd0>"
      ]
     },
     "execution_count": 5,
     "metadata": {},
     "output_type": "execute_result"
    }
   ],
   "source": [
    "p                                        ## 객체를 확인하면 Person  클래스의 객체이지 Decorator 클래스의 객체가 아니다\n",
    "                                         "
   ]
  },
  {
   "cell_type": "code",
   "execution_count": 7,
   "metadata": {},
   "outputs": [
    {
     "data": {
      "text/plain": [
       "__main__.Person"
      ]
     },
     "execution_count": 7,
     "metadata": {},
     "output_type": "execute_result"
    }
   ],
   "source": [
    "type(p)                            ## 클래스를 확인하면 Person이다 "
   ]
  },
  {
   "cell_type": "code",
   "execution_count": 8,
   "metadata": {},
   "outputs": [
    {
     "data": {
      "text/plain": [
       "True"
      ]
     },
     "execution_count": 8,
     "metadata": {},
     "output_type": "execute_result"
    }
   ],
   "source": [
    "isinstance(p, type(p))"
   ]
  },
  {
   "cell_type": "code",
   "execution_count": 6,
   "metadata": {},
   "outputs": [
    {
     "data": {
      "text/plain": [
       "{'name': 'dahl', 'age': 30}"
      ]
     },
     "execution_count": 6,
     "metadata": {},
     "output_type": "execute_result"
    }
   ],
   "source": [
    "p.__dict__"
   ]
  },
  {
   "cell_type": "code",
   "execution_count": null,
   "metadata": {},
   "outputs": [],
   "source": []
  }
 ],
 "metadata": {
  "kernelspec": {
   "display_name": "Python 3",
   "language": "python",
   "name": "python3"
  },
  "language_info": {
   "codemirror_mode": {
    "name": "ipython",
    "version": 3
   },
   "file_extension": ".py",
   "mimetype": "text/x-python",
   "name": "python",
   "nbconvert_exporter": "python",
   "pygments_lexer": "ipython3",
   "version": "3.7.3"
  }
 },
 "nbformat": 4,
 "nbformat_minor": 2
}
