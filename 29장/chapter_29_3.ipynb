{
 "cells": [
  {
   "cell_type": "markdown",
   "metadata": {},
   "source": [
    "## 예제 29-3-1 클래스 이름공간 접근 알아보기"
   ]
  },
  {
   "cell_type": "code",
   "execution_count": 1,
   "metadata": {},
   "outputs": [],
   "source": [
    "class UserMeta(type) :                               ## 사용자 메타 클래스를 정의한다\n",
    "    def __getattribute__(self,name) :                ## 클래스 이름으로 속성이나 메소드 등을 접근하는 점연산에 대한 스페셜 메소드를 정의\n",
    "        print(\"사용자 메타 클래스 접근\",super())     ##  이 메소드가 언제 호출되는 지를 확인하기  출력한다\n",
    "        return super().__getattribute__(name)        ## type 클래스의 스페셜 메소드로 이름공간을 참조한다"
   ]
  },
  {
   "cell_type": "code",
   "execution_count": null,
   "metadata": {},
   "outputs": [],
   "source": []
  },
  {
   "cell_type": "code",
   "execution_count": 2,
   "metadata": {},
   "outputs": [],
   "source": [
    "class InvolvedParty(metaclass=UserMeta):              ## 클래스를 정의할 때 메타 클래스를 사용자 정의 메타클래스로 변경한다\n",
    "     \n",
    "    name = \"IP\"                                       ## 클래스 속성을 만든다\n",
    "    \n",
    "    def __init__(self,name) :                         ## 객체의 속성을 초기화 하는 함수를 정의한다. 객체 속성의 이름도 클래스 속성과 같다\n",
    "        self.name = name\n",
    "    \n",
    "    def __getattribute__(self,name) :               ## 객체가 내부의 속성과 메소드를 접근하는 점 연산자를 정의한다\n",
    "        print(\" 인스턴스 접근 \",super())            ##  이 메소드가 호출이 언제 되는지를 확인하기 위해 print 함수로 출력한다\n",
    "        return super().__getattribute__(name)       ## super 클래스의 객체를 만들어서 상속한 클래스에 정의된 점연산을 사용해서 속성이나 \n",
    "                                                     ## 메소드를 접근한다\n",
    "        "
   ]
  },
  {
   "cell_type": "code",
   "execution_count": 3,
   "metadata": {},
   "outputs": [
    {
     "name": "stdout",
     "output_type": "stream",
     "text": [
      "사용자 메타 클래스 접근 <super: <class 'UserMeta'>, <UserMeta object>>\n"
     ]
    },
    {
     "data": {
      "text/plain": [
       "'IP'"
      ]
     },
     "execution_count": 3,
     "metadata": {},
     "output_type": "execute_result"
    }
   ],
   "source": [
    "InvolvedParty.name                                                      ## 클래스로 클래스 속성을 접근하면 메타 클래스의 점연산이 실행된다"
   ]
  },
  {
   "cell_type": "code",
   "execution_count": 5,
   "metadata": {},
   "outputs": [
    {
     "name": "stdout",
     "output_type": "stream",
     "text": [
      "사용자 메타 클래스 접근 <super: <class 'UserMeta'>, <UserMeta object>>\n",
      "사용자 메타 클래스 접근 <super: <class 'UserMeta'>, <UserMeta object>>\n",
      "사용자 메타 클래스 접근 <super: <class 'UserMeta'>, <UserMeta object>>\n",
      "사용자 메타 클래스 접근 <super: <class 'UserMeta'>, <UserMeta object>>\n"
     ]
    },
    {
     "data": {
      "text/plain": [
       "[__main__.InvolvedParty, object]"
      ]
     },
     "execution_count": 5,
     "metadata": {},
     "output_type": "execute_result"
    }
   ],
   "source": [
    "InvolvedParty.mro()                                                     ## 클래스에서 상속되는 관계를 확인해도 점연산을 사용하므로 \n",
    "                                                                         ## 내부적인 점연산자가 실행되는 것을 출력한다.\n",
    "                                                                        ## 결과는 자기 자신과 최상위 클래스 object만 나온다. "
   ]
  },
  {
   "cell_type": "code",
   "execution_count": null,
   "metadata": {},
   "outputs": [],
   "source": []
  },
  {
   "cell_type": "code",
   "execution_count": 4,
   "metadata": {},
   "outputs": [],
   "source": [
    "i = InvolvedParty(\"DahlMoon\")                                             ## 객체를 하나 생성한다"
   ]
  },
  {
   "cell_type": "code",
   "execution_count": 6,
   "metadata": {},
   "outputs": [
    {
     "name": "stdout",
     "output_type": "stream",
     "text": [
      " 인스턴스 접근  <super: <class 'InvolvedParty'>, <InvolvedParty object>>\n"
     ]
    },
    {
     "data": {
      "text/plain": [
       "'DahlMoon'"
      ]
     },
     "execution_count": 6,
     "metadata": {},
     "output_type": "execute_result"
    }
   ],
   "source": [
    "i.name                                                                     ## 객체의 속성을 접근할 때는 클래스에 정의된 점 연산을 접근한다\n",
    "                                                                        "
   ]
  }
 ],
 "metadata": {
  "kernelspec": {
   "display_name": "Python 3",
   "language": "python",
   "name": "python3"
  },
  "language_info": {
   "codemirror_mode": {
    "name": "ipython",
    "version": 3
   },
   "file_extension": ".py",
   "mimetype": "text/x-python",
   "name": "python",
   "nbconvert_exporter": "python",
   "pygments_lexer": "ipython3",
   "version": "3.7.3"
  }
 },
 "nbformat": 4,
 "nbformat_minor": 2
}
