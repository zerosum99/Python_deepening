{
 "cells": [
  {
   "cell_type": "markdown",
   "metadata": {},
   "source": [
    "## 예제 26-1-1  메모이제이션 알아보기"
   ]
  },
  {
   "cell_type": "code",
   "execution_count": 42,
   "metadata": {},
   "outputs": [],
   "source": [
    "def fact(n) :                             ## 특정 수를 받아서 연속적으로 곱셈을 하는 팩토리얼 함수를 정의한다\n",
    "    if (n == 0) or (n==1) :          ## 마지막 값을 반환해서 재귀호출을 종료한다\n",
    "        return 1\n",
    "\n",
    "    return n * fact(n-1)             ## 재귀호출을 실행한다"
   ]
  },
  {
   "cell_type": "code",
   "execution_count": 43,
   "metadata": {},
   "outputs": [
    {
     "data": {
      "text/plain": [
       "3628800"
      ]
     },
     "execution_count": 43,
     "metadata": {},
     "output_type": "execute_result"
    }
   ],
   "source": [
    "fact(10)                                  ## 함수를 실행할 때마다 모든 값을 다시 계산한다"
   ]
  },
  {
   "cell_type": "code",
   "execution_count": 44,
   "metadata": {},
   "outputs": [
    {
     "data": {
      "text/plain": [
       "3628800"
      ]
     },
     "execution_count": 44,
     "metadata": {},
     "output_type": "execute_result"
    }
   ],
   "source": [
    "fact(10)"
   ]
  },
  {
   "cell_type": "code",
   "execution_count": null,
   "metadata": {},
   "outputs": [],
   "source": []
  },
  {
   "cell_type": "code",
   "execution_count": 83,
   "metadata": {},
   "outputs": [],
   "source": [
    "def factorial(k):\n",
    "    if not hasattr(factorial,'_memo') :                  ##  계산된 값을 저장하도록 함수 객체의 속성을 정의한다\n",
    "        factorial._memo = {1:1}\n",
    "        \n",
    "    if k not in factorial._memo:\n",
    "        factorial._memo[k] = k * factorial(k-1)              ## 계산된 결과가 없다면 먼저 함수의 속성에 팩토리얼을 계산에서 할당한다\n",
    "    return factorial._memo.setdefault(k,1)                 ## 내부의 계산된 결과가 있으면  조회한다."
   ]
  },
  {
   "cell_type": "code",
   "execution_count": null,
   "metadata": {},
   "outputs": [],
   "source": []
  },
  {
   "cell_type": "code",
   "execution_count": 84,
   "metadata": {},
   "outputs": [
    {
     "data": {
      "text/plain": [
       "120"
      ]
     },
     "execution_count": 84,
     "metadata": {},
     "output_type": "execute_result"
    }
   ],
   "source": [
    "factorial(5)                                                                ##  팩토리얼을 실행한다"
   ]
  },
  {
   "cell_type": "code",
   "execution_count": 85,
   "metadata": {},
   "outputs": [
    {
     "data": {
      "text/plain": [
       "{1: 1, 2: 2, 3: 6, 4: 24, 5: 120}"
      ]
     },
     "execution_count": 85,
     "metadata": {},
     "output_type": "execute_result"
    }
   ],
   "source": [
    "factorial._memo                                                         ## 팩토리얼을 계산한 값들이 딕셔너리에 들어가 있다"
   ]
  },
  {
   "cell_type": "code",
   "execution_count": null,
   "metadata": {},
   "outputs": [],
   "source": []
  },
  {
   "cell_type": "code",
   "execution_count": 81,
   "metadata": {},
   "outputs": [
    {
     "data": {
      "text/plain": [
       "6"
      ]
     },
     "execution_count": 81,
     "metadata": {},
     "output_type": "execute_result"
    }
   ],
   "source": [
    "factorial(3)                                                              ## 다시 함수를 호출한다. 앞에서 실행한 것보다 작은 수를 인자로 전달한다."
   ]
  },
  {
   "cell_type": "code",
   "execution_count": 82,
   "metadata": {},
   "outputs": [
    {
     "data": {
      "text/plain": [
       "{1: 1, 2: 2, 3: 6, 4: 24, 5: 120}"
      ]
     },
     "execution_count": 82,
     "metadata": {},
     "output_type": "execute_result"
    }
   ],
   "source": [
    "factorial._memo                                                      ## 기존 결과가 있어  검색한 후에 결과를 반환한 다  "
   ]
  },
  {
   "cell_type": "code",
   "execution_count": null,
   "metadata": {},
   "outputs": [],
   "source": []
  },
  {
   "cell_type": "code",
   "execution_count": 113,
   "metadata": {},
   "outputs": [],
   "source": [
    "def memoize(func) :                                         ## 외부 함수에서 다른 함수를 전달을 받는다\n",
    "    memoize.cache = {}                                       ## 외부 함수 객체 속성을 하나 만든다\n",
    "    \n",
    "    def inner(x) :                                                  ## 내부 함수로 인자를 받는다\n",
    "        \n",
    "        if x not in memoize.cache :                        ## 저장된 값이 없으면 객체 속성에 저장하도록 함수를 실행해서 속성에 저장한다\n",
    "            print(\" 계산함\")\n",
    "            for i in range(0,x+1) : \n",
    "                if i  not in memoize.cache :\n",
    "                    memoize.cache[i] = func(i)\n",
    "       \n",
    "        return memoize.cache[x]                            ## 저장된 값이 있으면 검색해서 반환한다\n",
    "    return inner"
   ]
  },
  {
   "cell_type": "code",
   "execution_count": 114,
   "metadata": {},
   "outputs": [],
   "source": [
    "a = memoize(fact)                                        ## 메모이제이션만 처리하는 함수에 팩토리얼 계산하는 함수를 전한다"
   ]
  },
  {
   "cell_type": "code",
   "execution_count": null,
   "metadata": {},
   "outputs": [],
   "source": []
  },
  {
   "cell_type": "code",
   "execution_count": 115,
   "metadata": {},
   "outputs": [
    {
     "name": "stdout",
     "output_type": "stream",
     "text": [
      " 계산함\n"
     ]
    },
    {
     "data": {
      "text/plain": [
       "120"
      ]
     },
     "execution_count": 115,
     "metadata": {},
     "output_type": "execute_result"
    }
   ],
   "source": [
    "a(5)                                                                 ## 내부 함수를 실행하면 전달된 팩토리얼 함수가 실행된다"
   ]
  },
  {
   "cell_type": "code",
   "execution_count": 116,
   "metadata": {},
   "outputs": [
    {
     "data": {
      "text/plain": [
       "{'cache': {0: 1, 1: 1, 2: 2, 3: 6, 4: 24, 5: 120}}"
      ]
     },
     "execution_count": 116,
     "metadata": {},
     "output_type": "execute_result"
    }
   ],
   "source": [
    "memoize.__dict__                                                 ## 실행된 결과를 보관하는 함수의 객체 속성을 확인한다"
   ]
  },
  {
   "cell_type": "code",
   "execution_count": 117,
   "metadata": {},
   "outputs": [
    {
     "name": "stdout",
     "output_type": "stream",
     "text": [
      " 계산함\n"
     ]
    },
    {
     "data": {
      "text/plain": [
       "720"
      ]
     },
     "execution_count": 117,
     "metadata": {},
     "output_type": "execute_result"
    }
   ],
   "source": [
    "a(6)                                                                   ## 기존에 실행한 것보다 큰 수를 전달해서 함수를 실행한다"
   ]
  },
  {
   "cell_type": "code",
   "execution_count": 119,
   "metadata": {},
   "outputs": [
    {
     "data": {
      "text/plain": [
       "{'cache': {0: 1, 1: 1, 2: 2, 3: 6, 4: 24, 5: 120, 6: 720}}"
      ]
     },
     "execution_count": 119,
     "metadata": {},
     "output_type": "execute_result"
    }
   ],
   "source": [
    "memoize.__dict__                                                         ## 더 큰 값에 대한 결과를 저장한다"
   ]
  },
  {
   "cell_type": "code",
   "execution_count": 118,
   "metadata": {},
   "outputs": [
    {
     "data": {
      "text/plain": [
       "120"
      ]
     },
     "execution_count": 118,
     "metadata": {},
     "output_type": "execute_result"
    }
   ],
   "source": [
    "a(5)                                                                               ## 다시 함수를 실행한다. 전달된 인자가 기존에 저장된 값에서 검색할 수 있어서 계산을 하지 않고 검색만 한다"
   ]
  },
  {
   "cell_type": "code",
   "execution_count": null,
   "metadata": {},
   "outputs": [],
   "source": []
  },
  {
   "cell_type": "code",
   "execution_count": 120,
   "metadata": {},
   "outputs": [],
   "source": [
    "import functools                                         ## 메모이제션 처리를 위한 사용한다\n",
    "\n",
    "@functools.lru_cache(maxsize=None)        ## 팩토리얼 구하는 실행함수에 메모이제인션을 처리하는 lru_cache로 데코레이터를 처리한다\n",
    "def fact(n) :\n",
    "    if (n == 0) or (n==1) :\n",
    "        return 1\n",
    "\n",
    "    return n * fact(n-1)"
   ]
  },
  {
   "cell_type": "code",
   "execution_count": null,
   "metadata": {},
   "outputs": [],
   "source": []
  },
  {
   "cell_type": "code",
   "execution_count": 122,
   "metadata": {},
   "outputs": [
    {
     "data": {
      "text/plain": [
       "3628800"
      ]
     },
     "execution_count": 122,
     "metadata": {},
     "output_type": "execute_result"
    }
   ],
   "source": [
    "fact(10)                                                  ## 실행함수를 실행한다"
   ]
  },
  {
   "cell_type": "code",
   "execution_count": 123,
   "metadata": {},
   "outputs": [
    {
     "data": {
      "text/plain": [
       "120"
      ]
     },
     "execution_count": 123,
     "metadata": {},
     "output_type": "execute_result"
    }
   ],
   "source": [
    "fact(5)"
   ]
  },
  {
   "cell_type": "code",
   "execution_count": 124,
   "metadata": {},
   "outputs": [
    {
     "data": {
      "text/plain": [
       "CacheInfo(hits=2, misses=10, maxsize=None, currsize=10)"
      ]
     },
     "execution_count": 124,
     "metadata": {},
     "output_type": "execute_result"
    }
   ],
   "source": [
    "fact.cache_info()                                                                      ## 메모이제이션 처리된 결과를 조회하면 2개가 저장된 것을 알 수 있다"
   ]
  },
  {
   "cell_type": "code",
   "execution_count": null,
   "metadata": {},
   "outputs": [],
   "source": []
  },
  {
   "cell_type": "code",
   "execution_count": 126,
   "metadata": {},
   "outputs": [
    {
     "data": {
      "text/plain": [
       "{'__module__': '__main__',\n",
       " '__name__': 'fact',\n",
       " '__qualname__': 'fact',\n",
       " '__doc__': None,\n",
       " '__annotations__': {},\n",
       " '__wrapped__': <function __main__.fact(n)>}"
      ]
     },
     "execution_count": 126,
     "metadata": {},
     "output_type": "execute_result"
    }
   ],
   "source": [
    "fact.__dict__                                                        ## 객체의 이름공간을 확인한다"
   ]
  },
  {
   "cell_type": "code",
   "execution_count": 127,
   "metadata": {},
   "outputs": [
    {
     "data": {
      "text/plain": [
       "120"
      ]
     },
     "execution_count": 127,
     "metadata": {},
     "output_type": "execute_result"
    }
   ],
   "source": [
    "fact.__wrapped__(5)                                             ## 실행함수는 __wrapped__ 내에 저장되어 있다"
   ]
  },
  {
   "cell_type": "code",
   "execution_count": null,
   "metadata": {},
   "outputs": [],
   "source": []
  }
 ],
 "metadata": {
  "kernelspec": {
   "display_name": "Python 3",
   "language": "python",
   "name": "python3"
  },
  "language_info": {
   "codemirror_mode": {
    "name": "ipython",
    "version": 3
   },
   "file_extension": ".py",
   "mimetype": "text/x-python",
   "name": "python",
   "nbconvert_exporter": "python",
   "pygments_lexer": "ipython3",
   "version": "3.6.8"
  }
 },
 "nbformat": 4,
 "nbformat_minor": 2
}
