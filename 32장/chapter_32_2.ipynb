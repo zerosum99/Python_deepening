{
 "cells": [
  {
   "cell_type": "markdown",
   "metadata": {},
   "source": [
    "## 예제 32-2-1 메소드 체인 만들기"
   ]
  },
  {
   "cell_type": "code",
   "execution_count": 13,
   "metadata": {},
   "outputs": [
    {
     "data": {
      "text/plain": [
       "138.33333333333334"
      ]
     },
     "execution_count": 13,
     "metadata": {},
     "output_type": "execute_result"
    }
   ],
   "source": [
    "(100).__add__(5).__mul__(4).__sub__(5).__truediv__(3)           ## 스페셜 메소드를 연속적으로 호출해서 계산을 한다"
   ]
  },
  {
   "cell_type": "code",
   "execution_count": 14,
   "metadata": {},
   "outputs": [
    {
     "data": {
      "text/plain": [
       "138.33333333333334"
      ]
     },
     "execution_count": 14,
     "metadata": {},
     "output_type": "execute_result"
    }
   ],
   "source": [
    "((100+5) * 4 -5)/3                                      ## 연산자로 처리해서 결과를 확인한다"
   ]
  },
  {
   "cell_type": "code",
   "execution_count": null,
   "metadata": {},
   "outputs": [],
   "source": []
  },
  {
   "cell_type": "code",
   "execution_count": 15,
   "metadata": {},
   "outputs": [],
   "source": [
    "class Int :                                                 ##  메소드를 연속으로 처리할 수 있도록 클래스를 정의한다\n",
    "    def __init__(self, value=0):                    ## 객체를 생성해서 값을 가지는 속성을 하나 만든다\n",
    "        self.value = value\n",
    "        \n",
    "    def add(self, value) :                           ## 덧셈은 하나의 인자를 받아서 속성에 있는 값과 더한 후에 객체를 반환해서 다음 메소드를 연속해서 처리할 수 있도록 한다\n",
    "        self.value += value\n",
    "        return self\n",
    "    \n",
    "    def mul(self, value) :                          ## 곱셈은 하나의 인자를 받아서 속성에 있는 값과 곱한 후에 객체를 반환해서 다음 메소드를 연속해서 처리할 수 있도록 한다\n",
    "        self.value *= value\n",
    "        return self\n",
    "    \n",
    "    def sub(self, value) :                          ## 뺄셈은 하나의 인자를 받아서 속성에 있는 값과 뺀 후에 객체를 반환해서 다음 메소드를 연속해서 처리할 수 있도록 한다\n",
    "        self.value -= value\n",
    "        return self\n",
    "    \n",
    "    def div(self, value) :                          ## 나눗셈은 하나의 인자를 받아서 속성에 있는 값과 나눈 후에 객체를 반환해서 다음 메소드를 연속해서 처리할 수 있도록 한다\n",
    "        self.value /= value\n",
    "        return self"
   ]
  },
  {
   "cell_type": "code",
   "execution_count": null,
   "metadata": {},
   "outputs": [],
   "source": []
  },
  {
   "cell_type": "code",
   "execution_count": 16,
   "metadata": {},
   "outputs": [],
   "source": [
    "a = Int(100)                                          ## 하나의 객체를 생성한다"
   ]
  },
  {
   "cell_type": "code",
   "execution_count": 17,
   "metadata": {},
   "outputs": [],
   "source": [
    "b = a.add(5).mul(4).sub(5).div(3)          ##  메소드를 사용해서 사칙연산을 수행한다"
   ]
  },
  {
   "cell_type": "code",
   "execution_count": 18,
   "metadata": {},
   "outputs": [
    {
     "data": {
      "text/plain": [
       "{'value': 138.33333333333334}"
      ]
     },
     "execution_count": 18,
     "metadata": {},
     "output_type": "execute_result"
    }
   ],
   "source": [
    "b.__dict__                                               ## 실행된 결과를 객체 이름공간으로 확인한다"
   ]
  },
  {
   "cell_type": "code",
   "execution_count": null,
   "metadata": {},
   "outputs": [],
   "source": []
  }
 ],
 "metadata": {
  "kernelspec": {
   "display_name": "Python 3",
   "language": "python",
   "name": "python3"
  },
  "language_info": {
   "codemirror_mode": {
    "name": "ipython",
    "version": 3
   },
   "file_extension": ".py",
   "mimetype": "text/x-python",
   "name": "python",
   "nbconvert_exporter": "python",
   "pygments_lexer": "ipython3",
   "version": "3.6.8"
  }
 },
 "nbformat": 4,
 "nbformat_minor": 2
}
