{
 "cells": [
  {
   "cell_type": "markdown",
   "metadata": {},
   "source": [
    "## 예제 32-3-1  :   메소드 오버로딩   "
   ]
  },
  {
   "cell_type": "code",
   "execution_count": 1,
   "metadata": {},
   "outputs": [],
   "source": [
    "class  overload :                                                                        ## 클래스에 정의된 동일한 함수를  재정의를 처리하는 클래스를 정의한다\n",
    "    def __init__(self,fget1=None,fget2=None, fget3=None) :      ## 3개의 동일한 메소드를 저장하도록 객체의 속성을 3개를 정의한다\n",
    "        self.fget1 = fget1                                                                ## 객체를 생성할 때 첫번째 속성에 값을 저장한다\n",
    "        self.fget2 = fget2\n",
    "        self.fget3 = fget3\n",
    "        \n",
    "    def __get__(self,other,owner) :                                               ##  디스크립터 클래스를 만들어서 이름으로 조회하면 객체를 반환한다\n",
    "        self._other = other\n",
    "        return self\n",
    "              \n",
    "    def add(self,func) :                                                               ## 두번째외 세번째  함수를 등록하는 함수를 정의한다\n",
    "        if not self.fget2 :\n",
    "            self.fget2 = func\n",
    "        else :         \n",
    "            if not self.fget3 :\n",
    "                self.fget3 = func\n",
    "        return self\n",
    "    \n",
    "    def __call__(self,*args) :                                                        ## 이 클래스의 객체를 실행하면 들어온 인자에 따라 저장된 함수를 실행한다\n",
    "        if len(args) == 0 :                                                            ## overload 객체를 인자 없이 호출하면 실행된다\n",
    "            print(self.fget1(self._other,*args))\n",
    "        elif len(args) == 1 :                                                           ## overload 객체에 인자를 하나 넣고 호출하면 실행된다 \n",
    "            print(self.fget2(self._other,*args))\n",
    "        elif len(args) == 2 :                                                          ## overload 객체에 인자를 두개 넣고 호출하면 실행된다\n",
    "             print(self.fget3(self._other,*args))\n",
    "        else :\n",
    "            print(\"해당사항 없음\")\n",
    "        "
   ]
  },
  {
   "cell_type": "code",
   "execution_count": null,
   "metadata": {},
   "outputs": [],
   "source": []
  },
  {
   "cell_type": "code",
   "execution_count": 2,
   "metadata": {},
   "outputs": [],
   "source": [
    "class Overload :                                               ## 오버로디을 사용하는 클래스를 정의한다\n",
    "\n",
    "    \n",
    "    def __init__(self,x,y) :                                   ##  이 클래스의 두 개의 속성을 초기화한다\n",
    "        self.x = x\n",
    "        self.y = y\n",
    "              \n",
    "    @overload                                                  ## 처음 함수는 overload 클래스를 데코레이터로 처리해서 등록한다. \n",
    "    def add(self) :\n",
    "        return self.x + self.y                                ## 객체에 저장된 2개의 속성을 더한다\n",
    "    \n",
    "    @add.add                                                     ## 하나의 매개변수를 받는 동일한 함수를 추가적으로 등록한다\n",
    "    def add(self,z) :\n",
    "        return self.x + self.y + z                          ##  하나의 매개변수와  기존 객체의 속성과 합산한다\n",
    "    \n",
    "    @add.add                                                    ## 두 개의 매개변수 받는 함수를 정의해서 등록한다\n",
    "    def add(self,a,b) :\n",
    "        return self.x + self.y + a + b                    ##  객체의 속성과 두 개의 매개변수를 합산한다\n"
   ]
  },
  {
   "cell_type": "code",
   "execution_count": null,
   "metadata": {},
   "outputs": [],
   "source": []
  },
  {
   "cell_type": "code",
   "execution_count": 3,
   "metadata": {},
   "outputs": [
    {
     "data": {
      "text/plain": [
       "mappingproxy({'__module__': '__main__',\n",
       "              '__init__': <function __main__.Overload.__init__(self, x, y)>,\n",
       "              'add': <__main__.overload at 0x1d29e5b4a58>,\n",
       "              '__dict__': <attribute '__dict__' of 'Overload' objects>,\n",
       "              '__weakref__': <attribute '__weakref__' of 'Overload' objects>,\n",
       "              '__doc__': None})"
      ]
     },
     "execution_count": 3,
     "metadata": {},
     "output_type": "execute_result"
    }
   ],
   "source": [
    "Overload.__dict__                                                                                ## 클래스의 이름공간을 확인하면  동일한 이름 함수가 없고 overload 객체 하나만 있다"
   ]
  },
  {
   "cell_type": "code",
   "execution_count": null,
   "metadata": {},
   "outputs": [],
   "source": []
  },
  {
   "cell_type": "code",
   "execution_count": 4,
   "metadata": {},
   "outputs": [],
   "source": [
    "o = Overload(5,5)                                            ## 객체를 하나 생성한다"
   ]
  },
  {
   "cell_type": "code",
   "execution_count": 5,
   "metadata": {},
   "outputs": [
    {
     "data": {
      "text/plain": [
       "<__main__.overload at 0x1d29e5b4a58>"
      ]
     },
     "execution_count": 5,
     "metadata": {},
     "output_type": "execute_result"
    }
   ],
   "source": [
    "o.add                                                                  ## 객체에서 add를 접근하면 overload 객체이다"
   ]
  },
  {
   "cell_type": "code",
   "execution_count": null,
   "metadata": {},
   "outputs": [],
   "source": []
  },
  {
   "cell_type": "code",
   "execution_count": 6,
   "metadata": {},
   "outputs": [
    {
     "data": {
      "text/plain": [
       "{'fget1': <function __main__.Overload.add(self)>,\n",
       " 'fget2': <function __main__.Overload.add(self, z)>,\n",
       " 'fget3': <function __main__.Overload.add(self, a, b)>,\n",
       " '_other': <__main__.Overload at 0x1d29e595a20>}"
      ]
     },
     "execution_count": 6,
     "metadata": {},
     "output_type": "execute_result"
    }
   ],
   "source": [
    "o.add.__dict__                                                                   ## overload 객체의 이름공간을 확인하면 4개의 속성이 있다.\n",
    "                                                                                        ## 클래스에 정의된 3개는 함수이고  클래스로 객체를 만든 정보를 관리하는 속성이다"
   ]
  },
  {
   "cell_type": "code",
   "execution_count": null,
   "metadata": {},
   "outputs": [],
   "source": []
  },
  {
   "cell_type": "code",
   "execution_count": 7,
   "metadata": {},
   "outputs": [
    {
     "name": "stdout",
     "output_type": "stream",
     "text": [
      "10\n"
     ]
    }
   ],
   "source": [
    "o.add()           ## 인자 없이 객체를 실행하면  객체 내의 두 개의 속성의 값을 합산한다"
   ]
  },
  {
   "cell_type": "code",
   "execution_count": 8,
   "metadata": {},
   "outputs": [
    {
     "name": "stdout",
     "output_type": "stream",
     "text": [
      "11\n"
     ]
    }
   ],
   "source": [
    "o.add(1)         ## 하나의 인자를 넣으면 두 개의 속성과 추가된 인자를 합산한다"
   ]
  },
  {
   "cell_type": "code",
   "execution_count": 9,
   "metadata": {},
   "outputs": [
    {
     "name": "stdout",
     "output_type": "stream",
     "text": [
      "13\n"
     ]
    }
   ],
   "source": [
    "o.add(1,2)     ## 두 개의 인자를 전달하면 두 개의 속성과 추가된 인자를  합산한다"
   ]
  },
  {
   "cell_type": "code",
   "execution_count": null,
   "metadata": {},
   "outputs": [],
   "source": []
  },
  {
   "cell_type": "code",
   "execution_count": 10,
   "metadata": {},
   "outputs": [],
   "source": [
    "o1 = Overload(15,15)            ## 다시 객체를 만든다"
   ]
  },
  {
   "cell_type": "code",
   "execution_count": 11,
   "metadata": {},
   "outputs": [
    {
     "name": "stdout",
     "output_type": "stream",
     "text": [
      "30\n"
     ]
    }
   ],
   "source": [
    "o1.add()                                ## 새로운 객체의 합산은 기존 객체의 합산과 다른 결과를 보여준다"
   ]
  },
  {
   "cell_type": "code",
   "execution_count": 12,
   "metadata": {},
   "outputs": [
    {
     "name": "stdout",
     "output_type": "stream",
     "text": [
      "10\n"
     ]
    }
   ],
   "source": [
    "o.add()"
   ]
  },
  {
   "cell_type": "code",
   "execution_count": null,
   "metadata": {},
   "outputs": [],
   "source": []
  },
  {
   "cell_type": "code",
   "execution_count": null,
   "metadata": {},
   "outputs": [],
   "source": []
  }
 ],
 "metadata": {
  "kernelspec": {
   "display_name": "Python 3",
   "language": "python",
   "name": "python3"
  },
  "language_info": {
   "codemirror_mode": {
    "name": "ipython",
    "version": 3
   },
   "file_extension": ".py",
   "mimetype": "text/x-python",
   "name": "python",
   "nbconvert_exporter": "python",
   "pygments_lexer": "ipython3",
   "version": "3.6.8"
  }
 },
 "nbformat": 4,
 "nbformat_minor": 2
}
