{
 "cells": [
  {
   "cell_type": "markdown",
   "metadata": {},
   "source": [
    "## 예제 30-3-1  :   싱글턴 패턴  "
   ]
  },
  {
   "cell_type": "code",
   "execution_count": 115,
   "metadata": {},
   "outputs": [],
   "source": [
    "class Single :                                                       ##  하나의 객체만을 만드는 클래스를 정의한다\n",
    "    @staticmethod\n",
    "    def __new__(cls,name,age) :                             ## 실제 생성자 __new__는 정적메소드이다. 데코레이터를 처리하지 않아도 내부적으로 정적메소드로 처리한다\n",
    "        print(\" 객체를 하나 만듭니다.\")\n",
    "        if hasattr(cls, \"_instance\") :                          ## 객체를 생성하는 생성자에서 하나의 객체가 생성되면 보관하는 속성이 있는 지를 확인하고 있으면 이 객체만 사용한다\n",
    "            instance = cls._instance\n",
    "        else :                                                            ## 객체를 보관하는 속성이 없으면 객체를 하나 생성한 후에 클래스 속성에 저장한다\n",
    "            instance = object.__new__(cls)\n",
    "            cls._instance = instance\n",
    "        return instance\n",
    "    \n",
    "    def __init__(self,name,age) :                              ## 초기화 함수를  정의한다\n",
    "        print(\" 객체의 속성을  초기화합니다.\")\n",
    "        if hasattr(type(self), \"_init\") :                       ## 객체 속성을 변경하지 않도록 클래스 속성에 객체 초기화 여부를 확인한다\n",
    "            pass\n",
    "        else :                                                           ## 초기화 여부가 없을 때 객체 속성을 추가한다\n",
    "            self.name = name\n",
    "            self.age = age\n",
    "            type(self)._init = \"1\"\n"
   ]
  },
  {
   "cell_type": "code",
   "execution_count": null,
   "metadata": {},
   "outputs": [],
   "source": []
  },
  {
   "cell_type": "code",
   "execution_count": 116,
   "metadata": {},
   "outputs": [
    {
     "name": "stdout",
     "output_type": "stream",
     "text": [
      " 객체를 하나 만듭니다.\n",
      " 객체의 속성을  초기화합니다.\n"
     ]
    }
   ],
   "source": [
    "a = Single(\"혼자만 있기\", 20)                           ## 하나의 객체를 만든다"
   ]
  },
  {
   "cell_type": "code",
   "execution_count": 117,
   "metadata": {},
   "outputs": [
    {
     "name": "stdout",
     "output_type": "stream",
     "text": [
      " 객체를 하나 만듭니다.\n",
      " 객체의 속성을  초기화합니다.\n"
     ]
    }
   ],
   "source": [
    "b = Single(\"같이 있기\", 30)                             ## 다른 인자를 전달해서 객체를 다시 만들지만 하나의 객체가 만들어져서 더 이상 객체를 만들지 않는다"
   ]
  },
  {
   "cell_type": "code",
   "execution_count": null,
   "metadata": {},
   "outputs": [],
   "source": []
  },
  {
   "cell_type": "code",
   "execution_count": 118,
   "metadata": {},
   "outputs": [
    {
     "data": {
      "text/plain": [
       "'혼자만 있기'"
      ]
     },
     "execution_count": 118,
     "metadata": {},
     "output_type": "execute_result"
    }
   ],
   "source": [
    "a.name"
   ]
  },
  {
   "cell_type": "code",
   "execution_count": 119,
   "metadata": {},
   "outputs": [
    {
     "data": {
      "text/plain": [
       "'혼자만 있기'"
      ]
     },
     "execution_count": 119,
     "metadata": {},
     "output_type": "execute_result"
    }
   ],
   "source": [
    "b.name"
   ]
  },
  {
   "cell_type": "code",
   "execution_count": 120,
   "metadata": {},
   "outputs": [
    {
     "data": {
      "text/plain": [
       "True"
      ]
     },
     "execution_count": 120,
     "metadata": {},
     "output_type": "execute_result"
    }
   ],
   "source": [
    "a is b                    ## 두 개의 객체는 동일한 레퍼런스이다 이 클래스로 객체를 만들면 하나의 객체만 반환한다."
   ]
  },
  {
   "cell_type": "code",
   "execution_count": null,
   "metadata": {},
   "outputs": [],
   "source": []
  }
 ],
 "metadata": {
  "kernelspec": {
   "display_name": "Python 3",
   "language": "python",
   "name": "python3"
  },
  "language_info": {
   "codemirror_mode": {
    "name": "ipython",
    "version": 3
   },
   "file_extension": ".py",
   "mimetype": "text/x-python",
   "name": "python",
   "nbconvert_exporter": "python",
   "pygments_lexer": "ipython3",
   "version": "3.6.8"
  }
 },
 "nbformat": 4,
 "nbformat_minor": 2
}
