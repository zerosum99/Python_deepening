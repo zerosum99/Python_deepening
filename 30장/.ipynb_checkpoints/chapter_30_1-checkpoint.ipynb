{
 "cells": [
  {
   "cell_type": "markdown",
   "metadata": {},
   "source": [
    "## 예제 30-1-1 생성자 알아보기"
   ]
  },
  {
   "cell_type": "code",
   "execution_count": 2,
   "metadata": {},
   "outputs": [],
   "source": [
    "class Agreement :                                     ## 클래스를 정의한다\n",
    "    def __new__(cls,*args,**kwagrs) :           ## 생성자를 작성한다\n",
    "        return super().__new__(cls)                ## 생성자는 객체를 만들어서 반환한다. object 클래스의 __new__에 현재 클래스를 인자로 전달해서 객체를 생성한다\n",
    "  \n",
    "    def __init__(self,name,age) :                   ## 초기화 함수를 정의한다. 객체의 속성을 2개 만든다\n",
    "        self.name =  name\n",
    "        self.age = age"
   ]
  },
  {
   "cell_type": "code",
   "execution_count": null,
   "metadata": {},
   "outputs": [],
   "source": []
  },
  {
   "cell_type": "code",
   "execution_count": 3,
   "metadata": {},
   "outputs": [],
   "source": [
    "a = Agreement(\"Dahl\",35)                         ## 초기화 함수에 맞는 두 개의 인자를 전달한다"
   ]
  },
  {
   "cell_type": "code",
   "execution_count": 4,
   "metadata": {},
   "outputs": [
    {
     "data": {
      "text/plain": [
       "{'name': 'Dahl', 'age': 35}"
      ]
     },
     "execution_count": 4,
     "metadata": {},
     "output_type": "execute_result"
    }
   ],
   "source": [
    "a.__dict__                                                    ## 객체의 이름공간을 확인하면 두 개의 속성이 만들어진다"
   ]
  },
  {
   "cell_type": "code",
   "execution_count": 5,
   "metadata": {},
   "outputs": [
    {
     "data": {
      "text/plain": [
       "__main__.Agreement"
      ]
     },
     "execution_count": 5,
     "metadata": {},
     "output_type": "execute_result"
    }
   ],
   "source": [
    "type(a)                                                      ## 객체의 클래스를 확인한다"
   ]
  },
  {
   "cell_type": "code",
   "execution_count": null,
   "metadata": {},
   "outputs": [],
   "source": []
  },
  {
   "cell_type": "code",
   "execution_count": 16,
   "metadata": {},
   "outputs": [],
   "source": [
    "class Meta(type) :                                                            ## 사용자 메타 클래스를 만든다\n",
    "    def __call__(self,*args,**kwargs) :                                  ## 클래스를 호출하면 메타 클래스의 __call__이 실행된다\n",
    "        print(\" 메타 클래스 call 호출 \")\n",
    "        instance =  self.__new__(self,*args, **kwargs)            ## 사용자 정의 클래스의 생성자를 호출한다. \n",
    "        instance.__init__(*args, **kwargs)                               ## 사용자 정의 클래스의 초기화를 호출한다\n",
    "        return instance                                                         ## 생성된 객체를 반환한다"
   ]
  },
  {
   "cell_type": "code",
   "execution_count": 19,
   "metadata": {},
   "outputs": [],
   "source": [
    "class Cond(metaclass=Meta) :                                           ## 사용자 정의 클래스를 작성한다. 메타클래스를 위해서 정의한 Meta로 정의한다\n",
    "    def __new__(cls,*args,**kwagrs) :                                    ## 메타 클래스 __call__에서 호출할 생성자 함수를 정의한다\n",
    "        return super().__new__(cls)\n",
    "    \n",
    "    def __init__(self,title,condition ) :                                     ## 메타 클래스 __call__에서 호출할 초기화 함수를 정의한다\n",
    "        self.title =  title\n",
    "        self.condition = condition "
   ]
  },
  {
   "cell_type": "code",
   "execution_count": null,
   "metadata": {},
   "outputs": [],
   "source": []
  },
  {
   "cell_type": "code",
   "execution_count": 20,
   "metadata": {},
   "outputs": [
    {
     "name": "stdout",
     "output_type": "stream",
     "text": [
      " 메타 클래스 call 호출 \n"
     ]
    }
   ],
   "source": [
    "a = Cond(\"가입연령\",\"0세 이상\")                                         ## 사용자 클래스로 객체를 생성한다\n",
    "                                                                                          ## 클래스를 실행해서 메타 클래스의 __call__ 이 실행되어 내부에 정의한 print 함수가 실행된다"
   ]
  },
  {
   "cell_type": "code",
   "execution_count": null,
   "metadata": {},
   "outputs": [],
   "source": []
  },
  {
   "cell_type": "code",
   "execution_count": 21,
   "metadata": {},
   "outputs": [
    {
     "data": {
      "text/plain": [
       "<__main__.Cond at 0x186ba0d0128>"
      ]
     },
     "execution_count": 21,
     "metadata": {},
     "output_type": "execute_result"
    }
   ],
   "source": [
    "a                                                                                        ## 객체를 조회한다"
   ]
  },
  {
   "cell_type": "code",
   "execution_count": 22,
   "metadata": {},
   "outputs": [
    {
     "data": {
      "text/plain": [
       "{'title': '가입연령', 'condition': '0세 이상'}"
      ]
     },
     "execution_count": 22,
     "metadata": {},
     "output_type": "execute_result"
    }
   ],
   "source": [
    "a.__dict__                                                                            ## 객체 이름공간을 확인하면 두 개의 속성이 만들어진 것을 알 수 있다"
   ]
  },
  {
   "cell_type": "code",
   "execution_count": null,
   "metadata": {},
   "outputs": [],
   "source": []
  },
  {
   "cell_type": "code",
   "execution_count": 25,
   "metadata": {},
   "outputs": [],
   "source": [
    "class Cond_(metaclass=Meta) :                                        ## 다른 사용자 정의 클래스를 만든다\n",
    "    def __new__(cls,*args,**kwagrs) :\n",
    "        return super().__new__(cls)\n",
    "    \n",
    "    def __init__(self,title,condition ) :\n",
    "        self.title =  title\n",
    "        self.condition = condition \n",
    "        \n",
    "    def __del__(self) :                                                          ## 객체를 삭제하는 소멸자를 만든다\n",
    "        del self"
   ]
  },
  {
   "cell_type": "code",
   "execution_count": 26,
   "metadata": {},
   "outputs": [
    {
     "name": "stdout",
     "output_type": "stream",
     "text": [
      " 메타 클래스 call 호출 \n"
     ]
    }
   ],
   "source": [
    "c = Cond(\"금리\",\"0.1\")                                                     ## 객체를 하나 생성한다"
   ]
  },
  {
   "cell_type": "code",
   "execution_count": 27,
   "metadata": {},
   "outputs": [],
   "source": [
    "del c                                                                              ## 예약어 del로 변수를 삭제하면 __del__ 스페셜 메소드가 실행되어 객체를 삭제한다"
   ]
  },
  {
   "cell_type": "code",
   "execution_count": 28,
   "metadata": {},
   "outputs": [
    {
     "ename": "NameError",
     "evalue": "name 'c' is not defined",
     "output_type": "error",
     "traceback": [
      "\u001b[1;31m---------------------------------------------------------------------------\u001b[0m",
      "\u001b[1;31mNameError\u001b[0m                                 Traceback (most recent call last)",
      "\u001b[1;32m<ipython-input-28-2b66fd261ee5>\u001b[0m in \u001b[0;36m<module>\u001b[1;34m\u001b[0m\n\u001b[1;32m----> 1\u001b[1;33m \u001b[0mc\u001b[0m\u001b[1;33m\u001b[0m\u001b[1;33m\u001b[0m\u001b[0m\n\u001b[0m",
      "\u001b[1;31mNameError\u001b[0m: name 'c' is not defined"
     ]
    }
   ],
   "source": [
    "c                                                                                                                ## 변수가 삭제되어 객체를 참조할 수 없다"
   ]
  },
  {
   "cell_type": "code",
   "execution_count": null,
   "metadata": {},
   "outputs": [],
   "source": []
  }
 ],
 "metadata": {
  "kernelspec": {
   "display_name": "Python 3",
   "language": "python",
   "name": "python3"
  },
  "language_info": {
   "codemirror_mode": {
    "name": "ipython",
    "version": 3
   },
   "file_extension": ".py",
   "mimetype": "text/x-python",
   "name": "python",
   "nbconvert_exporter": "python",
   "pygments_lexer": "ipython3",
   "version": "3.6.8"
  }
 },
 "nbformat": 4,
 "nbformat_minor": 2
}
