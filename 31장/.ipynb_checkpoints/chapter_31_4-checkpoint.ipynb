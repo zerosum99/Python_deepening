{
 "cells": [
  {
   "cell_type": "markdown",
   "metadata": {},
   "source": [
    "## 예제 31-4-1  :   사용자 정의 메소드 클래스 만들기 "
   ]
  },
  {
   "cell_type": "code",
   "execution_count": null,
   "metadata": {},
   "outputs": [],
   "source": []
  },
  {
   "cell_type": "code",
   "execution_count": 1,
   "metadata": {},
   "outputs": [],
   "source": [
    "class Method :                                                      ## 메소드를 만드는 클래스를 정의한다\n",
    "    def __init__(self,func) :                                       ##  초기화 함수에 객체가 생성될 때 함수를 객체의 속성에 저장한다\n",
    "        self._func = func\n",
    "        \n",
    "    def __call__(self, *args, **kwargs) :                     ## 클래스 내에 __call__은 이 클래스로 만든 객체가 호출되면 실행된다.  \n",
    "        return self._func(self,*args, **kwargs)          ##  객체 내부에 있는 속성인 함수를 실행한다 \n",
    "    \n",
    "    def method(self) :                                             ## 이 메소드 클래스의 객체도 메소드를 호출해서 실행시킬 수 있도록 함수를 정의한다\n",
    "        return 100"
   ]
  },
  {
   "cell_type": "code",
   "execution_count": null,
   "metadata": {},
   "outputs": [],
   "source": []
  },
  {
   "cell_type": "code",
   "execution_count": 2,
   "metadata": {},
   "outputs": [],
   "source": [
    "class A :                                                               ## 클래스를 정의한다\n",
    "    @Method                                                         ## 데코페이터를 통해  클래스에 정의된 함수를 메소드의 객체로 변환한다\n",
    "    def a(self) :\n",
    "        return 10"
   ]
  },
  {
   "cell_type": "code",
   "execution_count": 3,
   "metadata": {},
   "outputs": [
    {
     "data": {
      "text/plain": [
       "mappingproxy({'__module__': '__main__',\n",
       "              'a': <__main__.Method at 0x1926e693358>,\n",
       "              '__dict__': <attribute '__dict__' of 'A' objects>,\n",
       "              '__weakref__': <attribute '__weakref__' of 'A' objects>,\n",
       "              '__doc__': None})"
      ]
     },
     "execution_count": 3,
     "metadata": {},
     "output_type": "execute_result"
    }
   ],
   "source": [
    "A.__dict__                                                                                ## 클래스의 이름공간을 확인하면  a 가 메소드 클래스의 객체이다"
   ]
  },
  {
   "cell_type": "code",
   "execution_count": null,
   "metadata": {},
   "outputs": [],
   "source": []
  },
  {
   "cell_type": "code",
   "execution_count": 4,
   "metadata": {},
   "outputs": [],
   "source": [
    "bb = A()                                                          ## 객체를 하나 만든다"
   ]
  },
  {
   "cell_type": "code",
   "execution_count": 5,
   "metadata": {},
   "outputs": [
    {
     "data": {
      "text/plain": [
       "<__main__.Method at 0x1926e693358>"
      ]
     },
     "execution_count": 5,
     "metadata": {},
     "output_type": "execute_result"
    }
   ],
   "source": [
    "bb.a                                                                 ## 객체 내의 메소드 객체를 접근한다"
   ]
  },
  {
   "cell_type": "code",
   "execution_count": 6,
   "metadata": {},
   "outputs": [
    {
     "data": {
      "text/plain": [
       "10"
      ]
     },
     "execution_count": 6,
     "metadata": {},
     "output_type": "execute_result"
    }
   ],
   "source": [
    "bb.a()                                                               ## 객체에서 메소드 객체를 실행하면 __call__이 호출되어 내부에 저장된 함수가 실행된다"
   ]
  },
  {
   "cell_type": "code",
   "execution_count": 7,
   "metadata": {},
   "outputs": [
    {
     "data": {
      "text/plain": [
       "100"
      ]
     },
     "execution_count": 7,
     "metadata": {},
     "output_type": "execute_result"
    }
   ],
   "source": [
    "bb.a.method()                                               ##  메소드 클래스의 객체도 내부의 메소드를 사용할 수 있어 이를 실행해서 결과를 확인할 수 있다"
   ]
  }
 ],
 "metadata": {
  "kernelspec": {
   "display_name": "Python 3",
   "language": "python",
   "name": "python3"
  },
  "language_info": {
   "codemirror_mode": {
    "name": "ipython",
    "version": 3
   },
   "file_extension": ".py",
   "mimetype": "text/x-python",
   "name": "python",
   "nbconvert_exporter": "python",
   "pygments_lexer": "ipython3",
   "version": "3.6.8"
  }
 },
 "nbformat": 4,
 "nbformat_minor": 2
}
