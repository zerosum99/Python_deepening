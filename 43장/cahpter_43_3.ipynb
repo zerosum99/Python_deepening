{
 "cells": [
  {
   "cell_type": "markdown",
   "metadata": {},
   "source": [
    "## 예제 43-3-1 컨텍스트 환경 알아보기"
   ]
  },
  {
   "cell_type": "code",
   "execution_count": 2,
   "metadata": {},
   "outputs": [
    {
     "name": "stdout",
     "output_type": "stream",
     "text": [
      "Writing withfile.txt\n"
     ]
    }
   ],
   "source": [
    "%%writefile withfile.txt\n",
    "You need to reset the buffer position to the beginning. You can do this by doing buff.seek(0).\n",
    "Every time you read or write to the buffer, the position is advanced by one. Say you start with an empty buffer.\n",
    "The buffer value is \"\", the buffer pos is 0. You do buff.write(\"hello\"). Obviously the buffer value is now hello.\n",
    "The buffer position, however, is now 5. \n",
    "When you call read(), there is nothing past position 5 to read! So it returns an empty string."
   ]
  },
  {
   "cell_type": "code",
   "execution_count": null,
   "metadata": {},
   "outputs": [],
   "source": []
  },
  {
   "cell_type": "code",
   "execution_count": 3,
   "metadata": {},
   "outputs": [
    {
     "name": "stdout",
     "output_type": "stream",
     "text": [
      "You need to reset the buffer position to the beginning. You can do this by doing buff.seek(0).\n",
      "Every time you read or write to the buffer, the position is advanced by one. Say you start with an empty buffer.\n",
      "The buffer value is \"\", the buffer pos is 0. You do buff.write(\"hello\"). Obviously the buffer value is now hello.\n",
      "The buffer position, however, is now 5. \n",
      "When you call read(), there is nothing past position 5 to read! So it returns an empty string.\n"
     ]
    }
   ],
   "source": [
    "with open(\"withfile.txt\",\"rt\") as wf :           ##  파일을 읽고 닫는 것을 with문으로 처리할 수 있다\n",
    "    for i in wf :\n",
    "        print(i, end=\"\")"
   ]
  },
  {
   "cell_type": "code",
   "execution_count": null,
   "metadata": {},
   "outputs": [],
   "source": []
  },
  {
   "cell_type": "code",
   "execution_count": 4,
   "metadata": {},
   "outputs": [
    {
     "data": {
      "text/plain": [
       "<_io.TextIOWrapper name='withfile.txt' mode='rt' encoding='cp949'>"
      ]
     },
     "execution_count": 4,
     "metadata": {},
     "output_type": "execute_result"
    }
   ],
   "source": [
    "wf"
   ]
  },
  {
   "cell_type": "code",
   "execution_count": 7,
   "metadata": {},
   "outputs": [
    {
     "data": {
      "text/plain": [
       "<function TextIOWrapper.__enter__>"
      ]
     },
     "execution_count": 7,
     "metadata": {},
     "output_type": "execute_result"
    }
   ],
   "source": [
    "wf.__enter__"
   ]
  },
  {
   "cell_type": "code",
   "execution_count": 8,
   "metadata": {},
   "outputs": [
    {
     "data": {
      "text/plain": [
       "<function TextIOWrapper.__exit__>"
      ]
     },
     "execution_count": 8,
     "metadata": {},
     "output_type": "execute_result"
    }
   ],
   "source": [
    "wf.__exit__"
   ]
  },
  {
   "cell_type": "code",
   "execution_count": null,
   "metadata": {},
   "outputs": [],
   "source": []
  },
  {
   "cell_type": "code",
   "execution_count": 9,
   "metadata": {},
   "outputs": [],
   "source": [
    "with open(\"withfile_w.txt\",\"wt\") as wfw :\n",
    "    wfw.write(\"파일을 저장합니다\")"
   ]
  },
  {
   "cell_type": "code",
   "execution_count": 10,
   "metadata": {},
   "outputs": [
    {
     "name": "stdout",
     "output_type": "stream",
     "text": [
      "파일을 저장합니다\n"
     ]
    }
   ],
   "source": [
    "with open(\"withfile_w.txt\",\"rt\") as wfw :\n",
    "    print(wfw.read())"
   ]
  },
  {
   "cell_type": "code",
   "execution_count": null,
   "metadata": {},
   "outputs": [],
   "source": []
  },
  {
   "cell_type": "markdown",
   "metadata": {},
   "source": [
    "## 예제 43-3-2  사용자 환경에 컨텍스트 구현하기 "
   ]
  },
  {
   "cell_type": "code",
   "execution_count": 1,
   "metadata": {},
   "outputs": [],
   "source": [
    "class File:                                       ## 파일 클래스를 정의한다\n",
    "\n",
    "    def __init__(self, filename, mode):           ## 초기화 함수에 파일명과 모드를 저장한다\n",
    "        self.filename = filename\n",
    "        self.mode = mode\n",
    "\n",
    "    def __enter__(self):                                   ## 컨텍스트 환경에 들어갈 때 __enter__를 정의한다\n",
    "        self.open_file = open(self.filename, self.mode)    ## 이 파일을 오픈하고 객체를 저장한다. \n",
    "        return self.open_file                              ## 이 객체를 반환한다 \n",
    "\n",
    "    def __exit__(self, type, value, traceback):            ## 종료되거나 예외가 발생하면 인자로 전달되고 이 내부에 예외를 처리한다\n",
    "        print(\"type \", type) \n",
    "        print(\"value \", value)\n",
    "        print(\"traceback \", traceback)\n",
    "        self.open_file.close()\n",
    "        if type != None :\n",
    "            return True\n"
   ]
  },
  {
   "cell_type": "code",
   "execution_count": null,
   "metadata": {},
   "outputs": [],
   "source": []
  },
  {
   "cell_type": "code",
   "execution_count": 2,
   "metadata": {},
   "outputs": [
    {
     "name": "stdout",
     "output_type": "stream",
     "text": [
      "type  None\n",
      "value  None\n",
      "traceback  None\n"
     ]
    }
   ],
   "source": [
    "with File('with_1.txt', 'w') as infile:         ## 파일 클래스로 객체를 만든다\n",
    "    infile.write('foo ')"
   ]
  },
  {
   "cell_type": "code",
   "execution_count": null,
   "metadata": {},
   "outputs": [],
   "source": [
    "                           ##  %load  명령어로 저장된 파일을 로딩한다"
   ]
  },
  {
   "cell_type": "code",
   "execution_count": null,
   "metadata": {},
   "outputs": [],
   "source": [
    "# %load with_1.txt\n",
    "foo "
   ]
  },
  {
   "cell_type": "code",
   "execution_count": null,
   "metadata": {},
   "outputs": [],
   "source": []
  },
  {
   "cell_type": "code",
   "execution_count": 5,
   "metadata": {},
   "outputs": [
    {
     "name": "stdout",
     "output_type": "stream",
     "text": [
      "<_io.TextIOWrapper name='with_1.txt' mode='rt' encoding='cp949'>\n",
      "foo \n",
      "foo \n",
      "type  None\n",
      "value  None\n",
      "traceback  None\n"
     ]
    }
   ],
   "source": [
    "with  File('with_1.txt', 'rt') as f :            ## 이 클래스로 파일을 읽을 수 있다\n",
    "    print(f)\n",
    "    for i in f :\n",
    "        print(i)\n",
    "    f.seek(0)\n",
    "    print(f.read())"
   ]
  },
  {
   "cell_type": "code",
   "execution_count": null,
   "metadata": {},
   "outputs": [],
   "source": []
  },
  {
   "cell_type": "code",
   "execution_count": 6,
   "metadata": {},
   "outputs": [
    {
     "name": "stdout",
     "output_type": "stream",
     "text": [
      "type  <class 'FileNotFoundError'>\n",
      "value   파일이 없습니다.\n",
      "traceback  <traceback object at 0x000001E0EA936AC8>\n"
     ]
    }
   ],
   "source": [
    "with  File('with_1.txt', 'rt') as f :                   ## 파일을 읽고난후 예외를 발생시키면 __exit__ 스페셜 메소드가 처리된다\n",
    "    raise FileNotFoundError(\" 파일이 없습니다.\")"
   ]
  },
  {
   "cell_type": "code",
   "execution_count": null,
   "metadata": {},
   "outputs": [],
   "source": []
  },
  {
   "cell_type": "code",
   "execution_count": null,
   "metadata": {},
   "outputs": [],
   "source": []
  }
 ],
 "metadata": {
  "kernelspec": {
   "display_name": "Python 3",
   "language": "python",
   "name": "python3"
  },
  "language_info": {
   "codemirror_mode": {
    "name": "ipython",
    "version": 3
   },
   "file_extension": ".py",
   "mimetype": "text/x-python",
   "name": "python",
   "nbconvert_exporter": "python",
   "pygments_lexer": "ipython3",
   "version": "3.7.3"
  }
 },
 "nbformat": 4,
 "nbformat_minor": 2
}
