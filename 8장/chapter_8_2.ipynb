{
 "cells": [
  {
   "cell_type": "code",
   "execution_count": null,
   "metadata": {},
   "outputs": [],
   "source": []
  },
  {
   "cell_type": "markdown",
   "metadata": {},
   "source": [
    "## 예제 8-2-1 :  조건식 세분화하기 "
   ]
  },
  {
   "cell_type": "code",
   "execution_count": 1,
   "metadata": {},
   "outputs": [],
   "source": [
    "a = 10"
   ]
  },
  {
   "cell_type": "code",
   "execution_count": 2,
   "metadata": {},
   "outputs": [],
   "source": [
    "b = 20"
   ]
  },
  {
   "cell_type": "code",
   "execution_count": 6,
   "metadata": {},
   "outputs": [
    {
     "name": "stdout",
     "output_type": "stream",
     "text": [
      " other \n"
     ]
    }
   ],
   "source": [
    "if a > 5 & b > 20 :          ##  조건식은 a> 5 보다 크다,  b가 20보다 크다 두 조건이 전부 참인 경우 처리\n",
    "    print(\"first \")\n",
    "elif a > 7 & b > 20 :       ##  조건식은 a> 7 보다 크다,  b가 20보다 크다 두 조건이 전부 참인 경우 처리\n",
    "    print(\"second\")\n",
    "elif a > 7 & b >= 20 :     ## 조건식은 a> 7 보다 크다,  b가 20보다 크거나 같다 두 조건이 전부 참인 경우 처리\n",
    "    print(\"third \")\n",
    "else :                              ##  그외조건 처리\n",
    "    print(\" other \")"
   ]
  },
  {
   "cell_type": "code",
   "execution_count": null,
   "metadata": {},
   "outputs": [],
   "source": []
  },
  {
   "cell_type": "code",
   "execution_count": 7,
   "metadata": {},
   "outputs": [
    {
     "data": {
      "text/plain": [
       "False"
      ]
     },
     "execution_count": 7,
     "metadata": {},
     "output_type": "execute_result"
    }
   ],
   "source": [
    "a > 7 & b >= 20           ##  조건식은 a> 7 보다 크다,  b가 20보다 크거나 같다 두 조건이 전부 참인 경우가 일치해야 하지만 결과는 False"
   ]
  },
  {
   "cell_type": "code",
   "execution_count": 14,
   "metadata": {},
   "outputs": [
    {
     "data": {
      "text/plain": [
       "4"
      ]
     },
     "execution_count": 14,
     "metadata": {},
     "output_type": "execute_result"
    }
   ],
   "source": [
    "(7 & b)                        ##  연산자 우선 순위 때문에 비교연산자가 아닌 비트연산자가 먼저 실행이 된다."
   ]
  },
  {
   "cell_type": "code",
   "execution_count": 19,
   "metadata": {},
   "outputs": [
    {
     "data": {
      "text/plain": [
       "('0b111', '0b10100')"
      ]
     },
     "execution_count": 19,
     "metadata": {},
     "output_type": "execute_result"
    }
   ],
   "source": [
    "bin(7), bin(20)              ## 7과 20일 이진수로 바꿔서 and 연산을 수행하면 둘다 1인 경우인 4가 나온다"
   ]
  },
  {
   "cell_type": "code",
   "execution_count": 12,
   "metadata": {},
   "outputs": [
    {
     "data": {
      "text/plain": [
       "True"
      ]
     },
     "execution_count": 12,
     "metadata": {},
     "output_type": "execute_result"
    }
   ],
   "source": [
    "(a > (7 & b))                 ## a변수의 값이 4보다 커서 True"
   ]
  },
  {
   "cell_type": "code",
   "execution_count": 20,
   "metadata": {},
   "outputs": [
    {
     "data": {
      "text/plain": [
       "False"
      ]
     },
     "execution_count": 20,
     "metadata": {},
     "output_type": "execute_result"
    }
   ],
   "source": [
    "True >=20                  ## True는 정수 1이라서 20보다 크거나 같지 않아서 거짓이 나온다"
   ]
  },
  {
   "cell_type": "code",
   "execution_count": 13,
   "metadata": {},
   "outputs": [
    {
     "data": {
      "text/plain": [
       "False"
      ]
     },
     "execution_count": 13,
     "metadata": {},
     "output_type": "execute_result"
    }
   ],
   "source": [
    "(a > (7 & b)) >=20      ## 괄호로 묶어서 처리하면 False이다"
   ]
  },
  {
   "cell_type": "code",
   "execution_count": null,
   "metadata": {},
   "outputs": [],
   "source": []
  },
  {
   "cell_type": "code",
   "execution_count": 15,
   "metadata": {},
   "outputs": [
    {
     "name": "stdout",
     "output_type": "stream",
     "text": [
      "third \n"
     ]
    }
   ],
   "source": [
    "## 연산자 우선순위에 따라 비교연산을 괄호로 묶는다\n",
    "if (a > 5) & (b > 20) :\n",
    "    print(\"first \")\n",
    "elif (a > 7) & (b > 20) :\n",
    "    print(\"second\")\n",
    "elif (a > 7) & (b >= 20) :\n",
    "    print(\"third \")\n",
    "else :\n",
    "    print(\" other \")"
   ]
  },
  {
   "cell_type": "code",
   "execution_count": null,
   "metadata": {},
   "outputs": [],
   "source": []
  },
  {
   "cell_type": "markdown",
   "metadata": {},
   "source": [
    "## 예제 8-2-2 :  else문 대신 elif문으로 명확히 하기"
   ]
  },
  {
   "cell_type": "code",
   "execution_count": 17,
   "metadata": {},
   "outputs": [],
   "source": [
    "c = 100"
   ]
  },
  {
   "cell_type": "code",
   "execution_count": 18,
   "metadata": {},
   "outputs": [
    {
     "name": "stdout",
     "output_type": "stream",
     "text": [
      "fourth\n"
     ]
    }
   ],
   "source": [
    "if 50 < c <= 70  :   ## 비교연산은 연속적으로 사용해서 표시할 수 있습니다.\n",
    "    print(\"first \")\n",
    "elif 70 < c <= 80 :\n",
    "    print(\"second\")\n",
    "elif 80 < c <= 90 :\n",
    "    print(\"third\")\n",
    "elif 90 < c <= 100 :  ## 마지막도 비교조건을 판단해서 처리하도록 정의합니다\n",
    "    print(\"fourth\")\n"
   ]
  },
  {
   "cell_type": "code",
   "execution_count": null,
   "metadata": {},
   "outputs": [],
   "source": []
  }
 ],
 "metadata": {
  "kernelspec": {
   "display_name": "Python 3",
   "language": "python",
   "name": "python3"
  },
  "language_info": {
   "codemirror_mode": {
    "name": "ipython",
    "version": 3
   },
   "file_extension": ".py",
   "mimetype": "text/x-python",
   "name": "python",
   "nbconvert_exporter": "python",
   "pygments_lexer": "ipython3",
   "version": "3.6.8"
  }
 },
 "nbformat": 4,
 "nbformat_minor": 2
}
