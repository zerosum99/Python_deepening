{
 "cells": [
  {
   "cell_type": "markdown",
   "metadata": {},
   "source": [
    "## 예제 27-4-1  :   데코레이터로 클래스 갱신하기  "
   ]
  },
  {
   "cell_type": "code",
   "execution_count": null,
   "metadata": {},
   "outputs": [],
   "source": []
  },
  {
   "cell_type": "code",
   "execution_count": 1,
   "metadata": {},
   "outputs": [],
   "source": [
    "def __init__(self,name,age) :                  ##  초기화 함수를 외부에 정의한다. 객체를 받는 self와 이 객체에 들어갈 속성에 할당된 값인 name, age를 매개변수로 정의\n",
    "    self._name = name                            ## 두 개의 속성의 이름을 밑줄을 하나 붙여서 보호속성으로 만든 후에 값을 할당한다\n",
    "    self._age = age"
   ]
  },
  {
   "cell_type": "code",
   "execution_count": null,
   "metadata": {},
   "outputs": [],
   "source": []
  },
  {
   "cell_type": "code",
   "execution_count": 2,
   "metadata": {},
   "outputs": [],
   "source": [
    "class Descriptor :                                         ## 디스크립터 클래스를 정의한다.\n",
    "    def __set_name__(self,Owner,name) :       ## 클래스에 정의된 속성의 이름을 가져와서 자동으로 객체의 속성의 이름으로 보관한다\n",
    "        self._name = \"_\" + name\n",
    "        \n",
    "    def __get__(self, other, owner) :                ## 속성의 이름으로 접근하면  객체 이름공간을 확인해서 저장된 이름으로 값을 가져온다\n",
    "        return other.__dict__[self._name]\n",
    "        \n",
    "    def __set__(self,other, value) :                 ## 속성의 이름으로 접근해서 값을 갱신하면 객체 이름공간에 저장된 이름을 확인해서 있으면 값을 갱신하고 없으면 새롭게 만든다\n",
    "        other.__dict__[self._name] = value"
   ]
  },
  {
   "cell_type": "code",
   "execution_count": null,
   "metadata": {},
   "outputs": [],
   "source": []
  },
  {
   "cell_type": "code",
   "execution_count": null,
   "metadata": {},
   "outputs": [],
   "source": []
  },
  {
   "cell_type": "code",
   "execution_count": 3,
   "metadata": {},
   "outputs": [],
   "source": [
    "def decorator(cls) :                                     ##  클라이언트 클래스에 초기화 함수를 추가하는 함수를 정의한다\n",
    "    cls.__init__ = __init__                                  ## 클래스 에 초기화 함수를 __init__에 할당한다\n",
    "\n",
    "    return cls                                                ## 클래스를 반환한다"
   ]
  },
  {
   "cell_type": "code",
   "execution_count": null,
   "metadata": {},
   "outputs": [],
   "source": []
  },
  {
   "cell_type": "code",
   "execution_count": 4,
   "metadata": {},
   "outputs": [],
   "source": [
    "@decorator                                                  ## 클래스를 데코레이터 처리한다\n",
    "class Klass:                                                   ## 데코레이팅을 처리할 클래스에는 클래스 속성을 두 개 만든다. 이 속성에는 디스크립터 객체를 할당한다\n",
    "    name = Descriptor()\n",
    "    age = Descriptor()"
   ]
  },
  {
   "cell_type": "code",
   "execution_count": null,
   "metadata": {},
   "outputs": [],
   "source": []
  },
  {
   "cell_type": "code",
   "execution_count": 5,
   "metadata": {},
   "outputs": [],
   "source": [
    "k = Klass(\"이름\",45)                                      ## 하나의 객체를 만든다"
   ]
  },
  {
   "cell_type": "code",
   "execution_count": 6,
   "metadata": {},
   "outputs": [
    {
     "data": {
      "text/plain": [
       "('이름', 45)"
      ]
     },
     "execution_count": 6,
     "metadata": {},
     "output_type": "execute_result"
    }
   ],
   "source": [
    "k._name, k._age                                            ## 객체의 속성의 이름을 밑줄 하나를 붙여서 보호속성으로 만들었다. 직접 속성을 접근해서 조회할 수 있다"
   ]
  },
  {
   "cell_type": "code",
   "execution_count": 7,
   "metadata": {},
   "outputs": [
    {
     "data": {
      "text/plain": [
       "('이름', 45)"
      ]
     },
     "execution_count": 7,
     "metadata": {},
     "output_type": "execute_result"
    }
   ],
   "source": [
    "k.name, k.age                                               ## 디스크립터 속성으로 정의된 것은 속성의 이름으로 조회하면 디스크립터 클래스의 __get__이 실행되어 객체의 속성을 조회한다"
   ]
  },
  {
   "cell_type": "code",
   "execution_count": null,
   "metadata": {},
   "outputs": [],
   "source": []
  }
 ],
 "metadata": {
  "kernelspec": {
   "display_name": "Python 3",
   "language": "python",
   "name": "python3"
  },
  "language_info": {
   "codemirror_mode": {
    "name": "ipython",
    "version": 3
   },
   "file_extension": ".py",
   "mimetype": "text/x-python",
   "name": "python",
   "nbconvert_exporter": "python",
   "pygments_lexer": "ipython3",
   "version": "3.6.8"
  }
 },
 "nbformat": 4,
 "nbformat_minor": 2
}
