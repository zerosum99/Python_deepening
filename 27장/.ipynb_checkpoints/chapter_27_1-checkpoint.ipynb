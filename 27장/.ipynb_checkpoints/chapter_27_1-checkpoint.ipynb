{
 "cells": [
  {
   "cell_type": "markdown",
   "metadata": {},
   "source": [
    "## 예제 27-1-1 데코레이터 처리 알아보기"
   ]
  },
  {
   "cell_type": "code",
   "execution_count": 1,
   "metadata": {},
   "outputs": [],
   "source": [
    "def decorator(func) :                              ## 전달 받은 함수를 씌우는 데코레이터 함수를 정의, 함수를 받아서 그대로 반환한다\n",
    "    return func"
   ]
  },
  {
   "cell_type": "code",
   "execution_count": 2,
   "metadata": {},
   "outputs": [],
   "source": [
    "def exefunc(x,y) :                                   ## 실행함수는 매개변수를 받아서 더하는 함수이다\n",
    "    return x+y"
   ]
  },
  {
   "cell_type": "code",
   "execution_count": 3,
   "metadata": {},
   "outputs": [],
   "source": [
    "exefunc = decorator(exefunc)               ## 데코레이터 처리는 함수를 인자로 받아서 다시 변수에 저항하도록 처리한다"
   ]
  },
  {
   "cell_type": "code",
   "execution_count": 4,
   "metadata": {},
   "outputs": [
    {
     "data": {
      "text/plain": [
       "20"
      ]
     },
     "execution_count": 4,
     "metadata": {},
     "output_type": "execute_result"
    }
   ],
   "source": [
    "exefunc(10,10)                                      ## 실행함수를 실행하면 두 인자를 더한다"
   ]
  },
  {
   "cell_type": "code",
   "execution_count": null,
   "metadata": {},
   "outputs": [],
   "source": []
  },
  {
   "cell_type": "code",
   "execution_count": 6,
   "metadata": {},
   "outputs": [],
   "source": [
    "@decorator                                         ## 데코레이터 표기법은 @과 데코레이터 함수를 실행함수 바로 위에 처리한다\n",
    "def exefunc(x,y) :\n",
    "    return x*y"
   ]
  },
  {
   "cell_type": "code",
   "execution_count": 7,
   "metadata": {},
   "outputs": [
    {
     "data": {
      "text/plain": [
       "100"
      ]
     },
     "execution_count": 7,
     "metadata": {},
     "output_type": "execute_result"
    }
   ],
   "source": [
    "exefunc(10,10)"
   ]
  },
  {
   "cell_type": "code",
   "execution_count": null,
   "metadata": {},
   "outputs": [],
   "source": []
  },
  {
   "cell_type": "code",
   "execution_count": 17,
   "metadata": {},
   "outputs": [],
   "source": [
    "def decorator_1(func) :                    ## 데코레이터 함수에 전달되는 함수는 내부에 저장하고 데코레이터 내부 함수를 반환한다.\n",
    "    def inner() :                                 ## 내부 함수가 실행되면 전달받은 실행함수를 실행한 후에 결과를 반환한다\n",
    "        return func()\n",
    "    return inner"
   ]
  },
  {
   "cell_type": "code",
   "execution_count": 18,
   "metadata": {},
   "outputs": [],
   "source": [
    "@decorator_1                                   ## 실행함수에 데코레이터를 처리한다\n",
    "def func_1() :\n",
    "    return \"실행함수 실행\""
   ]
  },
  {
   "cell_type": "code",
   "execution_count": 20,
   "metadata": {},
   "outputs": [
    {
     "data": {
      "text/plain": [
       "'실행함수 실행'"
      ]
     },
     "execution_count": 20,
     "metadata": {},
     "output_type": "execute_result"
    }
   ],
   "source": [
    "func_1()                                             ## 실행함수를 실행한다"
   ]
  },
  {
   "cell_type": "code",
   "execution_count": 21,
   "metadata": {},
   "outputs": [
    {
     "data": {
      "text/plain": [
       "<function __main__.func_1()>"
      ]
     },
     "execution_count": 21,
     "metadata": {},
     "output_type": "execute_result"
    }
   ],
   "source": [
    "func_1.__closure__[0].cell_contents      ## 데코레이터는 기본으로 클로저를 구성한다. 외부함수의 매개변수에는 실행함수가 전달된다. 이 실행함수가 자유변수로 처리된다"
   ]
  },
  {
   "cell_type": "code",
   "execution_count": null,
   "metadata": {},
   "outputs": [],
   "source": []
  },
  {
   "cell_type": "code",
   "execution_count": 10,
   "metadata": {},
   "outputs": [],
   "source": [
    "def decorator_2(func) :                     ##  데코레이터 함수를  정의한다\n",
    "    def inner(*args, **kwargs) :           ## 실행함수의 인자를 내부 함수로 받아서 내부에서 실행함수를 실행한다\n",
    "        return func(*args, **kwargs)\n",
    "    return inner"
   ]
  },
  {
   "cell_type": "code",
   "execution_count": 11,
   "metadata": {},
   "outputs": [],
   "source": [
    "@decorator_2                                    ## 실행함수에 데코레이터를 처리한다\n",
    "def func_2(data_type, n) :                  ## 실행함수는 특정 자료형과 값이 들어오면 해당 자료형의 객체로 변환한다\n",
    "    data_ = {'int':int,'str':str}\n",
    "    return data_[data_type](n)"
   ]
  },
  {
   "cell_type": "code",
   "execution_count": null,
   "metadata": {},
   "outputs": [],
   "source": []
  },
  {
   "cell_type": "code",
   "execution_count": 13,
   "metadata": {},
   "outputs": [
    {
     "data": {
      "text/plain": [
       "'100'"
      ]
     },
     "execution_count": 13,
     "metadata": {},
     "output_type": "execute_result"
    }
   ],
   "source": [
    "func_2('str','100')                       ## 문자열 자료형을 처리한다"
   ]
  },
  {
   "cell_type": "code",
   "execution_count": 14,
   "metadata": {},
   "outputs": [
    {
     "data": {
      "text/plain": [
       "100"
      ]
     },
     "execution_count": 14,
     "metadata": {},
     "output_type": "execute_result"
    }
   ],
   "source": [
    "func_2('int','100')                      ## 정수 자료형을 처리한다"
   ]
  },
  {
   "cell_type": "code",
   "execution_count": null,
   "metadata": {},
   "outputs": [],
   "source": []
  }
 ],
 "metadata": {
  "kernelspec": {
   "display_name": "Python 3",
   "language": "python",
   "name": "python3"
  },
  "language_info": {
   "codemirror_mode": {
    "name": "ipython",
    "version": 3
   },
   "file_extension": ".py",
   "mimetype": "text/x-python",
   "name": "python",
   "nbconvert_exporter": "python",
   "pygments_lexer": "ipython3",
   "version": "3.6.8"
  }
 },
 "nbformat": 4,
 "nbformat_minor": 2
}
