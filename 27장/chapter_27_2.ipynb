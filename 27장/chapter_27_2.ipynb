{
 "cells": [
  {
   "cell_type": "markdown",
   "metadata": {},
   "source": [
    "## 예제 27-2-1 실행함수 메타정보 확인하기"
   ]
  },
  {
   "cell_type": "code",
   "execution_count": 6,
   "metadata": {},
   "outputs": [],
   "source": [
    "def decorator(func) :                            ##   데코레이터 함수를 정의한다. 하나의 실행 함수를 전달을 받는다\n",
    "    def inner(*args, **kwargs) :              ## 내부 함수는 실행함수의  인자를 받는다.\n",
    "        return func(*args, **kwargs)        ##  실행 함수를 실행해서 결과를 반환한다\n",
    "    return inner"
   ]
  },
  {
   "cell_type": "code",
   "execution_count": 7,
   "metadata": {},
   "outputs": [],
   "source": [
    "@decorator                                          ## 실행함수에 데코레이터를 처리한다\n",
    "def func(x,y) :\n",
    "    return x+y"
   ]
  },
  {
   "cell_type": "code",
   "execution_count": 8,
   "metadata": {},
   "outputs": [],
   "source": [
    "@decorator                                         ## 하나의 데코레이터 함수는 여러 실행함수에 데코레이터를 처리할 수 있다\n",
    "def add(x,y) :\n",
    "    return x+y"
   ]
  },
  {
   "cell_type": "code",
   "execution_count": null,
   "metadata": {},
   "outputs": [],
   "source": []
  },
  {
   "cell_type": "code",
   "execution_count": 9,
   "metadata": {},
   "outputs": [
    {
     "data": {
      "text/plain": [
       "10"
      ]
     },
     "execution_count": 9,
     "metadata": {},
     "output_type": "execute_result"
    }
   ],
   "source": [
    "func(5,5)                                             ## 실행함수를 실행하면 결과를 반환한다"
   ]
  },
  {
   "cell_type": "code",
   "execution_count": 10,
   "metadata": {},
   "outputs": [
    {
     "data": {
      "text/plain": [
       "10"
      ]
     },
     "execution_count": 10,
     "metadata": {},
     "output_type": "execute_result"
    }
   ],
   "source": [
    "add(5,5)                                           ## 실행함수를 실행하면 결과를 반환한다"
   ]
  },
  {
   "cell_type": "code",
   "execution_count": null,
   "metadata": {},
   "outputs": [],
   "source": []
  },
  {
   "cell_type": "code",
   "execution_count": 11,
   "metadata": {},
   "outputs": [
    {
     "data": {
      "text/plain": [
       "('inner', 'inner')"
      ]
     },
     "execution_count": 11,
     "metadata": {},
     "output_type": "execute_result"
    }
   ],
   "source": [
    "func.__name__, add.__name__             ## 실행함수의 이름을 확인하면 내부함수가 반환된 것을 알 수 있다"
   ]
  },
  {
   "cell_type": "code",
   "execution_count": 12,
   "metadata": {},
   "outputs": [
    {
     "data": {
      "text/plain": [
       "('decorator.<locals>.inner', 'decorator.<locals>.inner')"
      ]
     },
     "execution_count": 12,
     "metadata": {},
     "output_type": "execute_result"
    }
   ],
   "source": [
    "func.__qualname__, add.__qualname__                            ## 세부적인 이름을 확인하면 데코레이터 함수의 내부 함수라는 것을 알 수 있다"
   ]
  },
  {
   "cell_type": "code",
   "execution_count": null,
   "metadata": {},
   "outputs": [],
   "source": []
  },
  {
   "cell_type": "code",
   "execution_count": 13,
   "metadata": {},
   "outputs": [],
   "source": [
    "import functools as fs                               ## 실행함수의 정보가 전달되지 않아 함수 처리할 때 사용하는 모듈을 import 함다"
   ]
  },
  {
   "cell_type": "code",
   "execution_count": 14,
   "metadata": {},
   "outputs": [],
   "source": [
    "def decorator_1(func) :\n",
    "    @fs.wraps(func)                                      ## 내부함수에 데코레이터를 처리해서 실행함수의 메타정보를 내부함수의 메타정보로 세팅한다\n",
    "    def inner(*args, **kwargs) :\n",
    "        return func(*args, **kwargs)\n",
    "    return inner"
   ]
  },
  {
   "cell_type": "code",
   "execution_count": 15,
   "metadata": {},
   "outputs": [],
   "source": [
    "@decorator_1                                              ## 실행함수에 테코레이터 처리를 한다\n",
    "def func_1(x,y) :\n",
    "    return x+y"
   ]
  },
  {
   "cell_type": "code",
   "execution_count": 16,
   "metadata": {},
   "outputs": [
    {
     "data": {
      "text/plain": [
       "10"
      ]
     },
     "execution_count": 16,
     "metadata": {},
     "output_type": "execute_result"
    }
   ],
   "source": [
    "func_1(5,5)                                                 ## 반환되는 내부 함수를 실행하면 내부의 실행함수가 처리된다"
   ]
  },
  {
   "cell_type": "code",
   "execution_count": 18,
   "metadata": {},
   "outputs": [
    {
     "data": {
      "text/plain": [
       "'func_1'"
      ]
     },
     "execution_count": 18,
     "metadata": {},
     "output_type": "execute_result"
    }
   ],
   "source": [
    "func_1.__name__                                          ## 함수의 이름을 확인하면 전달된 실행함수의 이름으로 변경된다"
   ]
  },
  {
   "cell_type": "code",
   "execution_count": 19,
   "metadata": {},
   "outputs": [
    {
     "data": {
      "text/plain": [
       "'func_1'"
      ]
     },
     "execution_count": 19,
     "metadata": {},
     "output_type": "execute_result"
    }
   ],
   "source": [
    "func_1.__qualname__"
   ]
  },
  {
   "cell_type": "code",
   "execution_count": null,
   "metadata": {},
   "outputs": [],
   "source": []
  },
  {
   "cell_type": "markdown",
   "metadata": {},
   "source": [
    "## 예제 27-2-2 모듈이 다를 때 실행함수 메타정보 확인하기"
   ]
  },
  {
   "cell_type": "code",
   "execution_count": null,
   "metadata": {},
   "outputs": [],
   "source": [
    "## 데코레이터 함수를 다른 모듈로 작성한다"
   ]
  },
  {
   "cell_type": "code",
   "execution_count": 1,
   "metadata": {},
   "outputs": [
    {
     "name": "stdout",
     "output_type": "stream",
     "text": [
      "Overwriting dec.py\n"
     ]
    }
   ],
   "source": [
    "%%writefile dec.py \n",
    "\n",
    "import functools as fs\n",
    "\n",
    "def decorator_2(func) :\n",
    "    @fs.wraps(func)                                       ## 전달된 실행함수의 메타정보를 내부함수의 메타정보로 변경한다\n",
    "    def inner(*args, **kwargs) :\n",
    "        return func(*args, **kwargs)\n",
    "    return inner"
   ]
  },
  {
   "cell_type": "code",
   "execution_count": 2,
   "metadata": {},
   "outputs": [],
   "source": [
    "import dec                            ## 데코레이터를 처리하기 위해 모듈을 import 한다"
   ]
  },
  {
   "cell_type": "code",
   "execution_count": null,
   "metadata": {},
   "outputs": [],
   "source": []
  },
  {
   "cell_type": "code",
   "execution_count": 3,
   "metadata": {},
   "outputs": [],
   "source": [
    "@dec.decorator_2               ## 실행함수에 데코레이터를 처리하기 위해 타 모듈의 데코레이터 함수로 데코레이터를 처리한다\n",
    "def add(x,y) :\n",
    "    return x+y"
   ]
  },
  {
   "cell_type": "code",
   "execution_count": 4,
   "metadata": {},
   "outputs": [
    {
     "data": {
      "text/plain": [
       "10"
      ]
     },
     "execution_count": 4,
     "metadata": {},
     "output_type": "execute_result"
    }
   ],
   "source": [
    "add(5,5)                             ## 실행함수를 실행하면 두 인자를 더한 값을 반환한다"
   ]
  },
  {
   "cell_type": "code",
   "execution_count": 5,
   "metadata": {},
   "outputs": [
    {
     "data": {
      "text/plain": [
       "'__main__'"
      ]
     },
     "execution_count": 5,
     "metadata": {},
     "output_type": "execute_result"
    }
   ],
   "source": [
    "add.__module__                              ## 실행함수의 모듈 속성을 확인하면 현재 작성된 모듈 이름을 출력한다"
   ]
  },
  {
   "cell_type": "code",
   "execution_count": 6,
   "metadata": {},
   "outputs": [
    {
     "data": {
      "text/plain": [
       "<function dec.decorator_2(func)>"
      ]
     },
     "execution_count": 6,
     "metadata": {},
     "output_type": "execute_result"
    }
   ],
   "source": [
    "add.__globals__['decorator_2']                ## 반환되는 함수가 내부 함수이므로 전역 이름공간은 실제 데코레이터가 작성된 모듈을 가르킨다.\n",
    "                                                              ## 실행함수에서 전역이름공간을 확인하면 모듈 dec이 전역이름공간을 참조한다"
   ]
  },
  {
   "cell_type": "code",
   "execution_count": null,
   "metadata": {},
   "outputs": [],
   "source": []
  },
  {
   "cell_type": "code",
   "execution_count": null,
   "metadata": {},
   "outputs": [],
   "source": [
    "## 새로운 모듈을 만들어서 데코레이터를 만든다. 실행함수의 메타 정보를 갱신하지 않는다"
   ]
  },
  {
   "cell_type": "code",
   "execution_count": 44,
   "metadata": {},
   "outputs": [
    {
     "name": "stdout",
     "output_type": "stream",
     "text": [
      "Writing dec20.py\n"
     ]
    }
   ],
   "source": [
    "%%writefile dec20.py \n",
    "\n",
    "def decorator_20(func) :\n",
    "    def inner(*args, **kwargs) :\n",
    "        return func(*args, **kwargs)\n",
    "    return inner"
   ]
  },
  {
   "cell_type": "code",
   "execution_count": 45,
   "metadata": {},
   "outputs": [],
   "source": [
    "import dec20                     ## 데코레이터 함수를 사용하기 위해 모듈을 import 한다"
   ]
  },
  {
   "cell_type": "code",
   "execution_count": null,
   "metadata": {},
   "outputs": [],
   "source": []
  },
  {
   "cell_type": "code",
   "execution_count": 46,
   "metadata": {},
   "outputs": [],
   "source": [
    "@dec20.decorator_20     ## 데코레이터를 처리한다\n",
    "def add(x,y) :\n",
    "    return x+y"
   ]
  },
  {
   "cell_type": "code",
   "execution_count": 47,
   "metadata": {},
   "outputs": [
    {
     "data": {
      "text/plain": [
       "'dec20'"
      ]
     },
     "execution_count": 47,
     "metadata": {},
     "output_type": "execute_result"
    }
   ],
   "source": [
    "add.__module__               ## 모듈의 이름을 확인하면 함수가 작성된 모듈이름을 출력한다"
   ]
  },
  {
   "cell_type": "code",
   "execution_count": 48,
   "metadata": {},
   "outputs": [
    {
     "data": {
      "text/plain": [
       "<function dec20.decorator_20(func)>"
      ]
     },
     "execution_count": 48,
     "metadata": {},
     "output_type": "execute_result"
    }
   ],
   "source": [
    "add.__globals__['decorator_20']             ## 함수는 항상 작성된 모듈의 전역이름공간을 속성 __globals__에 가지고 다닌다"
   ]
  },
  {
   "cell_type": "code",
   "execution_count": null,
   "metadata": {},
   "outputs": [],
   "source": []
  },
  {
   "cell_type": "code",
   "execution_count": 65,
   "metadata": {},
   "outputs": [],
   "source": [
    "def decorator_30(func) :\n",
    "    def inner(*args, **kwargs) :\n",
    "        return func(*args, **kwargs)\n",
    "    \n",
    "    inner.__name__     =  func.__name__                         ## 갱신이 가능한 메타 정보를 확인한다. 이 정보는 functools.wrap을 사용할 때 갱신되는 메타 정보이다\n",
    "    inner.__qualname__ =  func.__qualname__\n",
    "    inner.__doc__      =  func.__doc__\n",
    "    inner.__module__   =  func.__module__\n",
    "    inner.__annotations__ = func.__annotations__         ## 실행함수의 타입힌트를 갱신한다\n",
    "    return inner"
   ]
  },
  {
   "cell_type": "code",
   "execution_count": 66,
   "metadata": {},
   "outputs": [],
   "source": [
    "@decorator_30\n",
    "def multiply(x:int,y:int) -> int :                     ## 함수를 정의할 때 매개변수에 타입힌트를 지정했고 반환값도  -> int 로 타입힌트를 지정했다. \n",
    "    return x * y                                               ## 실제 체크는 하지 않고 주석처럼 사용한다"
   ]
  },
  {
   "cell_type": "code",
   "execution_count": 67,
   "metadata": {},
   "outputs": [
    {
     "data": {
      "text/plain": [
       "{'x': int, 'y': int, 'return': int}"
      ]
     },
     "execution_count": 67,
     "metadata": {},
     "output_type": "execute_result"
    }
   ],
   "source": [
    "multiply.__annotations__                               ## 실행함수의  타입힌트를 갱신한 결과를 보여준다"
   ]
  },
  {
   "cell_type": "code",
   "execution_count": 68,
   "metadata": {},
   "outputs": [
    {
     "data": {
      "text/plain": [
       "'multiply'"
      ]
     },
     "execution_count": 68,
     "metadata": {},
     "output_type": "execute_result"
    }
   ],
   "source": [
    "multiply.__name__                                        ## 실행함수의 이름도 같이 변경된 것을 확인할 수 있다"
   ]
  },
  {
   "cell_type": "code",
   "execution_count": null,
   "metadata": {},
   "outputs": [],
   "source": []
  }
 ],
 "metadata": {
  "kernelspec": {
   "display_name": "Python 3",
   "language": "python",
   "name": "python3"
  },
  "language_info": {
   "codemirror_mode": {
    "name": "ipython",
    "version": 3
   },
   "file_extension": ".py",
   "mimetype": "text/x-python",
   "name": "python",
   "nbconvert_exporter": "python",
   "pygments_lexer": "ipython3",
   "version": "3.6.8"
  }
 },
 "nbformat": 4,
 "nbformat_minor": 2
}
