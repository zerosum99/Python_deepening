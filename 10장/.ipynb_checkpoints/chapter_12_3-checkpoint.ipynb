{
 "cells": [
  {
   "cell_type": "markdown",
   "metadata": {},
   "source": [
    "##  예제 12-3-1  인덱스 검색 함수를 메소드로 처리하기"
   ]
  },
  {
   "cell_type": "code",
   "execution_count": 5,
   "metadata": {},
   "outputs": [],
   "source": [
    "ll = [1,2,3,4,5,6]"
   ]
  },
  {
   "cell_type": "code",
   "execution_count": null,
   "metadata": {},
   "outputs": [],
   "source": []
  },
  {
   "cell_type": "code",
   "execution_count": 14,
   "metadata": {},
   "outputs": [
    {
     "name": "stdout",
     "output_type": "stream",
     "text": [
      "[2, 3, 6]\n"
     ]
    }
   ],
   "source": [
    "ll = [1,2,3,4,5,6]\n",
    "\n",
    "class Index :\n",
    "    @staticmethod\n",
    "    def index(iterable, *args) :\n",
    "        result = []\n",
    "        for i in args :\n",
    "            if i < len(iterable) :\n",
    "                result.append(iterable[i])\n",
    "            else :\n",
    "                continue\n",
    "        return result\n",
    "    \n",
    "print(Index.index(ll,1,2,5))"
   ]
  },
  {
   "cell_type": "code",
   "execution_count": null,
   "metadata": {},
   "outputs": [],
   "source": []
  },
  {
   "cell_type": "code",
   "execution_count": 20,
   "metadata": {},
   "outputs": [
    {
     "name": "stdout",
     "output_type": "stream",
     "text": [
      "[2, 3, 6]\n"
     ]
    }
   ],
   "source": [
    "ll = [1,2,3,4,5,6]\n",
    "\n",
    "class Index_ :\n",
    "    \n",
    "    def __init__(self, iterable) :\n",
    "        self.iterable = iterable\n",
    "    \n",
    "\n",
    "    def index(self, *args) :\n",
    "        result = []\n",
    "        for i in args :\n",
    "            if i < len(self.iterable) :\n",
    "                result.append(self.iterable[i])\n",
    "            else :\n",
    "                continue\n",
    "        return result\n",
    "    \n",
    "x = Index_(ll)\n",
    "    \n",
    "print(x.index(1,2,5))"
   ]
  },
  {
   "cell_type": "code",
   "execution_count": null,
   "metadata": {},
   "outputs": [],
   "source": []
  },
  {
   "cell_type": "code",
   "execution_count": null,
   "metadata": {},
   "outputs": [],
   "source": []
  }
 ],
 "metadata": {
  "kernelspec": {
   "display_name": "Python 3",
   "language": "python",
   "name": "python3"
  },
  "language_info": {
   "codemirror_mode": {
    "name": "ipython",
    "version": 3
   },
   "file_extension": ".py",
   "mimetype": "text/x-python",
   "name": "python",
   "nbconvert_exporter": "python",
   "pygments_lexer": "ipython3",
   "version": "3.7.3"
  }
 },
 "nbformat": 4,
 "nbformat_minor": 2
}
