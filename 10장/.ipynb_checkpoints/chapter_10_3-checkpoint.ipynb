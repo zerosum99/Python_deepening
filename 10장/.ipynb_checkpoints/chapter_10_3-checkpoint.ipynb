{
 "cells": [
  {
   "cell_type": "markdown",
   "metadata": {},
   "source": [
    "##  예제 10-3-1  특정 인덱스를 선택해서 처리하기"
   ]
  },
  {
   "cell_type": "code",
   "execution_count": 5,
   "metadata": {},
   "outputs": [],
   "source": [
    "ll = [1,2,3,4,5,6]"
   ]
  },
  {
   "cell_type": "code",
   "execution_count": null,
   "metadata": {},
   "outputs": [],
   "source": []
  },
  {
   "cell_type": "code",
   "execution_count": 6,
   "metadata": {},
   "outputs": [],
   "source": [
    "def index(iterable, *args) :                    ## 함수의 매개변수는 반복형 객체와 인덱스 정보를 받습니다.\n",
    "    result = []                                 ## 반환 결과를 저장할 변수에 리스트 빈 객체를 할당        \n",
    "    for i in args :                             ## 가변인자로 받은 인덱스 정보를 하나씩 꺼낸다\n",
    "        if i < len(iterable) :                  ## 반복형의 길이보다 작은 값인지를 확인한다\n",
    "            result.append(iterable[i])           ## 반복형 객체의 원소를 조회해서 빈 리스트에 원소로 추가한다\n",
    "        else :\n",
    "            continue                             ## 인덱스 범위보다 큰 수는 아무것도 처리하지 않고 순환문 처리를 한다\n",
    "    return result                                ## 순환문이 종료되면 반환한다\n"
   ]
  },
  {
   "cell_type": "code",
   "execution_count": 7,
   "metadata": {},
   "outputs": [
    {
     "name": "stdout",
     "output_type": "stream",
     "text": [
      "[2, 3, 6]\n"
     ]
    }
   ],
   "source": [
    "print(index(ll, 1,2,5))                         ## 함수를 호출해서 인자로 전달한 인덱스의 원소를 리스트에 넣고 조회한다"
   ]
  },
  {
   "cell_type": "code",
   "execution_count": null,
   "metadata": {},
   "outputs": [],
   "source": []
  },
  {
   "cell_type": "code",
   "execution_count": 1,
   "metadata": {},
   "outputs": [],
   "source": [
    "import operator as op                         ## 연산자를 함수나 클래스를 관리하는 모들을  import한다"
   ]
  },
  {
   "cell_type": "code",
   "execution_count": 11,
   "metadata": {},
   "outputs": [
    {
     "data": {
      "text/plain": [
       "type"
      ]
     },
     "execution_count": 11,
     "metadata": {},
     "output_type": "execute_result"
    }
   ],
   "source": [
    "type(op.itemgetter)                           ##  항목을 조회하는 클래스를 확인한다"
   ]
  },
  {
   "cell_type": "code",
   "execution_count": null,
   "metadata": {},
   "outputs": [],
   "source": []
  },
  {
   "cell_type": "code",
   "execution_count": 8,
   "metadata": {},
   "outputs": [],
   "source": [
    "inx = op.itemgetter(1,2,5)                    ## 인덱스를 조회하는 클래스로 객체를 만든다"
   ]
  },
  {
   "cell_type": "code",
   "execution_count": 9,
   "metadata": {},
   "outputs": [
    {
     "data": {
      "text/plain": [
       "(2, 3, 6)"
      ]
     },
     "execution_count": 9,
     "metadata": {},
     "output_type": "execute_result"
    }
   ],
   "source": [
    "inx(ll)                                        ## 이 객체에 인자로 리스트를 전달하면 인덱스에 해당하는 원소를 반환한다"
   ]
  },
  {
   "cell_type": "code",
   "execution_count": null,
   "metadata": {},
   "outputs": [],
   "source": []
  },
  {
   "cell_type": "code",
   "execution_count": null,
   "metadata": {},
   "outputs": [],
   "source": []
  },
  {
   "cell_type": "code",
   "execution_count": null,
   "metadata": {},
   "outputs": [],
   "source": []
  }
 ],
 "metadata": {
  "kernelspec": {
   "display_name": "Python 3",
   "language": "python",
   "name": "python3"
  },
  "language_info": {
   "codemirror_mode": {
    "name": "ipython",
    "version": 3
   },
   "file_extension": ".py",
   "mimetype": "text/x-python",
   "name": "python",
   "nbconvert_exporter": "python",
   "pygments_lexer": "ipython3",
   "version": "3.7.3"
  }
 },
 "nbformat": 4,
 "nbformat_minor": 2
}
