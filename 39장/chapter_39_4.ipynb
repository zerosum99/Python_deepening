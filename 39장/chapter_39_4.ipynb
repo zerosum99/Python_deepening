{
 "cells": [
  {
   "cell_type": "markdown",
   "metadata": {},
   "source": [
    "##  예제 39-4-1  디스크립터의 활용"
   ]
  },
  {
   "cell_type": "code",
   "execution_count": 1,
   "metadata": {},
   "outputs": [],
   "source": [
    "def add(x,y) :                     ## 함수를 정의한다. 함수는 기본으로 비 데이터 디스크립터 클래스의 객체이다\n",
    "    return x + y"
   ]
  },
  {
   "cell_type": "code",
   "execution_count": 2,
   "metadata": {},
   "outputs": [],
   "source": [
    "add  = add.__get__(add)             ##  함수에서 __get__에 인자로 함수 객체를 넣고 조회하면 메소드를 반환한다"
   ]
  },
  {
   "cell_type": "code",
   "execution_count": 3,
   "metadata": {},
   "outputs": [
    {
     "data": {
      "text/plain": [
       "<bound method add of <function add at 0x000001ED21667400>>"
      ]
     },
     "execution_count": 3,
     "metadata": {},
     "output_type": "execute_result"
    }
   ],
   "source": [
    "add"
   ]
  },
  {
   "cell_type": "code",
   "execution_count": null,
   "metadata": {},
   "outputs": [],
   "source": []
  },
  {
   "cell_type": "code",
   "execution_count": 4,
   "metadata": {},
   "outputs": [
    {
     "data": {
      "text/plain": [
       "<function __main__.add(x, y)>"
      ]
     },
     "execution_count": 4,
     "metadata": {},
     "output_type": "execute_result"
    }
   ],
   "source": [
    "add.__func__                           ## 메소드에 함수는 __func__ 속성에 들어가 있다"
   ]
  },
  {
   "cell_type": "code",
   "execution_count": 5,
   "metadata": {},
   "outputs": [
    {
     "data": {
      "text/plain": [
       "20"
      ]
     },
     "execution_count": 5,
     "metadata": {},
     "output_type": "execute_result"
    }
   ],
   "source": [
    "add.__func__(10,10)                    ## 내부에 저장된 함수에 두 개의 인자를 전달해서 실행하면 함수가 실행된다"
   ]
  },
  {
   "cell_type": "code",
   "execution_count": null,
   "metadata": {},
   "outputs": [],
   "source": []
  },
  {
   "cell_type": "markdown",
   "metadata": {},
   "source": [
    "##  예제 39-4-2  비 데이터 디스크립터 알아보기"
   ]
  },
  {
   "cell_type": "code",
   "execution_count": 6,
   "metadata": {},
   "outputs": [],
   "source": [
    "class Descriptor_nd :                            ## 비 데이터 디스크립터를 정의한다\n",
    "    def __init__(self, func) :                   ## 초기화 함수에 하나의 함수를 인자로 전달을 받아 디스크립터 객체에 저장한다\n",
    "        self._func = func\n",
    "    \n",
    "    def __set_name__(self, owner, name):         ## 클라이언트 속성의 이름을 받아서 내부에 저장한다\n",
    "            self._name = \"_\" + name\n",
    "            \n",
    "            \n",
    "    def __get__(self, instance, owner):          ## 이름으로 접근하면 내부 함수를 반환한다\n",
    "        \n",
    "        print(\"get\")\n",
    "        def inner(*args, **kwargs) :             ## 내부함수는 저장된 함수의 인자를 받는다\n",
    "            return self._func(*args, **kwargs)   ## 내부 함수를 실행하면 저장된 함수를 실행한다\n",
    "        return inner\n",
    "    "
   ]
  },
  {
   "cell_type": "code",
   "execution_count": null,
   "metadata": {},
   "outputs": [],
   "source": []
  },
  {
   "cell_type": "code",
   "execution_count": 7,
   "metadata": {},
   "outputs": [],
   "source": [
    "def mul(x,y) :                         ## 함수를 하나 정의한다\n",
    "    return x*y"
   ]
  },
  {
   "cell_type": "code",
   "execution_count": 8,
   "metadata": {},
   "outputs": [],
   "source": [
    "class Non_Data :                       ## 클라이언트 클래스를 정의한다\n",
    "    mul = Descriptor_nd(mul)           ## 클라이언트 속성에 함수를 저장한 디스크립터를 만든다"
   ]
  },
  {
   "cell_type": "code",
   "execution_count": null,
   "metadata": {},
   "outputs": [],
   "source": []
  },
  {
   "cell_type": "code",
   "execution_count": 9,
   "metadata": {},
   "outputs": [],
   "source": [
    "nd = Non_Data()                       ## 하나의 클라이언트 객체를 만든다"
   ]
  },
  {
   "cell_type": "code",
   "execution_count": 10,
   "metadata": {},
   "outputs": [
    {
     "name": "stdout",
     "output_type": "stream",
     "text": [
      "get\n"
     ]
    },
    {
     "data": {
      "text/plain": [
       "<function __main__.Descriptor_nd.__get__.<locals>.inner(*args, **kwargs)>"
      ]
     },
     "execution_count": 10,
     "metadata": {},
     "output_type": "execute_result"
    }
   ],
   "source": [
    "nd.mul                                ## 속성을 접근하면 내부 함수를 반환한다"
   ]
  },
  {
   "cell_type": "code",
   "execution_count": null,
   "metadata": {},
   "outputs": [],
   "source": []
  },
  {
   "cell_type": "code",
   "execution_count": 11,
   "metadata": {},
   "outputs": [
    {
     "name": "stdout",
     "output_type": "stream",
     "text": [
      "get\n"
     ]
    },
    {
     "data": {
      "text/plain": [
       "100"
      ]
     },
     "execution_count": 11,
     "metadata": {},
     "output_type": "execute_result"
    }
   ],
   "source": [
    "nd.mul(10,10)                       ## 내부 함수를 실행하면 저장된 함수가 실행된 결과가 반환된다 "
   ]
  },
  {
   "cell_type": "code",
   "execution_count": null,
   "metadata": {},
   "outputs": [],
   "source": []
  },
  {
   "cell_type": "code",
   "execution_count": 12,
   "metadata": {},
   "outputs": [],
   "source": [
    "from functools import partial\n",
    "\n",
    "class descriptor:                         ##  부분함수를 단수하게 처리하는 디스크립터 클래스 정의하기\n",
    "    def __init__(self, func):\n",
    "        self.func = func\n",
    "        \n",
    "    def __get__(self, instance, owner):        ##  부분함수로 전달해서 다시 호출할 경우 실행한 결과를 보여준다\n",
    "        return partial(self.func, instance)\n"
   ]
  },
  {
   "cell_type": "code",
   "execution_count": 13,
   "metadata": {},
   "outputs": [],
   "source": [
    "class A:                         ## 클라이언트 클래스를 정의한다\n",
    "    @descriptor                  ## 디스크립터 클래스로 데코레이터를 해서 함수를 디스크립터 객체로 변환한다\n",
    "    def sum(self, a, b, c):\n",
    "        return a + b + c"
   ]
  },
  {
   "cell_type": "code",
   "execution_count": 14,
   "metadata": {},
   "outputs": [
    {
     "data": {
      "text/plain": [
       "mappingproxy({'__module__': '__main__',\n",
       "              'sum': <__main__.descriptor at 0x10ec14a20>,\n",
       "              '__dict__': <attribute '__dict__' of 'A' objects>,\n",
       "              '__weakref__': <attribute '__weakref__' of 'A' objects>,\n",
       "              '__doc__': None})"
      ]
     },
     "execution_count": 14,
     "metadata": {},
     "output_type": "execute_result"
    }
   ],
   "source": [
    "A.__dict__                                   ## 클라이언트 클래스의 이름공간을 확인하면 sum이 디스크립터 속성이다"
   ]
  },
  {
   "cell_type": "code",
   "execution_count": null,
   "metadata": {},
   "outputs": [],
   "source": []
  },
  {
   "cell_type": "code",
   "execution_count": 15,
   "metadata": {},
   "outputs": [],
   "source": [
    "a = A()                    ## 객체를 하나 만든다"
   ]
  },
  {
   "cell_type": "code",
   "execution_count": 17,
   "metadata": {},
   "outputs": [
    {
     "data": {
      "text/plain": [
       "6"
      ]
     },
     "execution_count": 17,
     "metadata": {},
     "output_type": "execute_result"
    }
   ],
   "source": [
    "a.sum(1,2,3)               ## 객체가 sum을 접근하면 내부에 저장된 sum 함수를 부분함수로 반환하고 이를 호출하면 함수 실행결과를 반환"
   ]
  },
  {
   "cell_type": "code",
   "execution_count": null,
   "metadata": {},
   "outputs": [],
   "source": []
  },
  {
   "cell_type": "code",
   "execution_count": null,
   "metadata": {},
   "outputs": [],
   "source": []
  },
  {
   "cell_type": "markdown",
   "metadata": {},
   "source": [
    "##  예제 39-4-3  데이터 디스크립터 활용하기"
   ]
  },
  {
   "cell_type": "code",
   "execution_count": 18,
   "metadata": {},
   "outputs": [],
   "source": [
    "class MutableAttribute:                           ## 속성을 갱신하는 디스크립터 클래스를 정의한다\n",
    "    def __init__(self, value=None):               ## 초기화 함수를 정의해서 객체에 값을 저장한다\n",
    "        self.value = value\n",
    "        \n",
    "    def __set_name__(self,owner,name) :           ## 클라이언트 속성의 이름을 받아서 겍체의 속성에 이름을 저장한다\n",
    "        self._name = \"_\"+ name\n",
    "        \n",
    "    def __get__(self, instance, owner):            ## 이름으로 접근하면 클라이언트 객체 속성을 확인해서 조회하거나 없으면 디스크립터 객체\n",
    "        if self._name in instance.__dict__ :       ## 의 속성 값을 반환한다\n",
    "            return instance.__dict__[self._name]\n",
    "        else : \n",
    "            return self.value \n",
    "        \n",
    "    def __set__(self, instance, value):            ## 클라이언트 객체의 속성을 갱신한다\n",
    "        instance.__dict__[self._name] = value\n",
    "        \n",
    "    def __delete__(self, instance):                ## 디스크립터 객체의 값을 삭제한다\n",
    "        del self.value\n"
   ]
  },
  {
   "cell_type": "code",
   "execution_count": null,
   "metadata": {},
   "outputs": [],
   "source": []
  },
  {
   "cell_type": "code",
   "execution_count": 19,
   "metadata": {},
   "outputs": [],
   "source": [
    "class ImmutableAttribute:                           ## 변경이 불가능한 디스크립터 클래스를 정의한다\n",
    "    def __init__(self, func):                       ## 초기화 함수에 매개변수로 함수를 받아서 저장한다\n",
    "        self.func = func\n",
    "        \n",
    "    def __get__(self, instance, owner):             ## 이름으로 접근하면 저장된 함수를 실행한다\n",
    "        return self.func(instance)\n",
    "    \n",
    "    def __set__(self, instance, value):              ## 변경이 들어오면 예외를 처리한다\n",
    "        raise AttributeError(\"갱신이 불가합니다. \")\n",
    "        \n",
    "    def __delete__(self, instance):                  ## 삭제가 들어와도 예외를 처리한다\n",
    "        raise AttributeError(\"삭제가 불가합니다. \")"
   ]
  },
  {
   "cell_type": "code",
   "execution_count": null,
   "metadata": {},
   "outputs": [],
   "source": []
  },
  {
   "cell_type": "code",
   "execution_count": 20,
   "metadata": {},
   "outputs": [],
   "source": [
    "class Circle:                                   ## 클라이언트 클래스를 정의한다\n",
    "    pi = 3.1415\n",
    "    radius = MutableAttribute(10)                        ## 반지름은 변경이 가능한 디스크립터이다\n",
    "    diameter = ImmutableAttribute(lambda self : self.radius * 2)     ## 지금은 변경이 불가능한 람다 함수를 등록한다\n",
    "    \n",
    "    @ImmutableAttribute                                            ## 원의 둘레를 계산하는 함수를 변경이 불가능하도록 \n",
    "    def circumference(self):                                       ## 데코레이터 처리한다 \n",
    "        return self.radius * self.pi * 2\n",
    "    \n",
    "    @ImmutableAttribute                                            ## 원의 면적도 변경이 불가능하다\n",
    "    def area(self):\n",
    "        return self.radius **2 * 2"
   ]
  },
  {
   "cell_type": "code",
   "execution_count": null,
   "metadata": {},
   "outputs": [],
   "source": []
  },
  {
   "cell_type": "code",
   "execution_count": 21,
   "metadata": {},
   "outputs": [],
   "source": [
    "c = Circle()                           ## 하나의 원 객체를 만든다"
   ]
  },
  {
   "cell_type": "code",
   "execution_count": 22,
   "metadata": {},
   "outputs": [
    {
     "data": {
      "text/plain": [
       "(10, 20)"
      ]
     },
     "execution_count": 22,
     "metadata": {},
     "output_type": "execute_result"
    }
   ],
   "source": [
    "c.radius, c.diameter,              ## 이름으로 접근하면 반지름과 지름이 조회된다"
   ]
  },
  {
   "cell_type": "code",
   "execution_count": 23,
   "metadata": {},
   "outputs": [
    {
     "data": {
      "text/plain": [
       "(62.830000000000005, 200)"
      ]
     },
     "execution_count": 23,
     "metadata": {},
     "output_type": "execute_result"
    }
   ],
   "source": [
    "c.circumference,c.area              ## 원둘레와 원의 면적도 이름으로 조회한다"
   ]
  },
  {
   "cell_type": "code",
   "execution_count": null,
   "metadata": {},
   "outputs": [],
   "source": []
  },
  {
   "cell_type": "code",
   "execution_count": 24,
   "metadata": {},
   "outputs": [],
   "source": [
    "c.radius = 100                   ## 반지름을 변경한다"
   ]
  },
  {
   "cell_type": "code",
   "execution_count": 25,
   "metadata": {},
   "outputs": [
    {
     "data": {
      "text/plain": [
       "100"
      ]
     },
     "execution_count": 25,
     "metadata": {},
     "output_type": "execute_result"
    }
   ],
   "source": [
    "c.radius"
   ]
  },
  {
   "cell_type": "code",
   "execution_count": 26,
   "metadata": {},
   "outputs": [
    {
     "data": {
      "text/plain": [
       "20000"
      ]
     },
     "execution_count": 26,
     "metadata": {},
     "output_type": "execute_result"
    }
   ],
   "source": [
    "c.area                          ## 원의 면적도 자동으로 변경된다"
   ]
  },
  {
   "cell_type": "code",
   "execution_count": null,
   "metadata": {},
   "outputs": [],
   "source": []
  },
  {
   "cell_type": "code",
   "execution_count": 27,
   "metadata": {},
   "outputs": [
    {
     "name": "stdout",
     "output_type": "stream",
     "text": [
      "갱신이 불가합니다. \n"
     ]
    }
   ],
   "source": [
    "try :                              ## 원의 면적을 변경하려고 하면 예외를 발생시킨다\n",
    "    c.area = 123\n",
    "except Exception as e :\n",
    "    print(e)"
   ]
  },
  {
   "cell_type": "code",
   "execution_count": null,
   "metadata": {},
   "outputs": [],
   "source": []
  }
 ],
 "metadata": {
  "kernelspec": {
   "display_name": "Python 3",
   "language": "python",
   "name": "python3"
  },
  "language_info": {
   "codemirror_mode": {
    "name": "ipython",
    "version": 3
   },
   "file_extension": ".py",
   "mimetype": "text/x-python",
   "name": "python",
   "nbconvert_exporter": "python",
   "pygments_lexer": "ipython3",
   "version": "3.7.3"
  }
 },
 "nbformat": 4,
 "nbformat_minor": 2
}
