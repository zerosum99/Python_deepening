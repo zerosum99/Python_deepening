{
 "cells": [
  {
   "cell_type": "markdown",
   "metadata": {},
   "source": [
    "##  예제 39-3-1 디스크립터 구조 알아보기"
   ]
  },
  {
   "cell_type": "code",
   "execution_count": 2,
   "metadata": {},
   "outputs": [],
   "source": [
    "class Descriptor:                       ## 비 데이터 디스크립터 클래스를 정의합니다\n",
    "    def __init__(self, value):             ## 초기화 함수에 특정 값을 저장하는 하나의 속성을 만듭니다\n",
    "        self.value = value\n",
    "        \n",
    "    def __get__(self, instance, owner):   ## 이름으로 접근하면 값을 조회하는 스페셜 메소드를 정의합니다\n",
    "        print(\"get\")\n",
    "        return self.value"
   ]
  },
  {
   "cell_type": "code",
   "execution_count": 4,
   "metadata": {},
   "outputs": [],
   "source": [
    "class A:                                 ## 디스크립터 속성을 사용하는 클라이언트 클래스를 정의합니다\n",
    "    value = Descriptor(10)               ## 두 개의 클래스 속성에 디스크립터 객체를 만듭니다. \n",
    "    value1 = Descriptor(20)             ## 디스크립터 객체는 반드시 클래스 속성으로 정의한다"
   ]
  },
  {
   "cell_type": "code",
   "execution_count": null,
   "metadata": {},
   "outputs": [],
   "source": []
  },
  {
   "cell_type": "code",
   "execution_count": 5,
   "metadata": {},
   "outputs": [],
   "source": [
    "a = A()                                 ## 클라이언트 객체를 하나 만듭니다"
   ]
  },
  {
   "cell_type": "code",
   "execution_count": 6,
   "metadata": {},
   "outputs": [
    {
     "name": "stdout",
     "output_type": "stream",
     "text": [
      "get\n"
     ]
    },
    {
     "data": {
      "text/plain": [
       "10"
      ]
     },
     "execution_count": 6,
     "metadata": {},
     "output_type": "execute_result"
    }
   ],
   "source": [
    "a.value                                 ## 속성을 이름으로 접근하면 __get__메소드가 자동으로 실행되어 값을 조회합니다"
   ]
  },
  {
   "cell_type": "code",
   "execution_count": 9,
   "metadata": {},
   "outputs": [
    {
     "name": "stdout",
     "output_type": "stream",
     "text": [
      "get\n"
     ]
    },
    {
     "data": {
      "text/plain": [
       "20"
      ]
     },
     "execution_count": 9,
     "metadata": {},
     "output_type": "execute_result"
    }
   ],
   "source": [
    "a.value1          ## 속성을 이름으로 접근하면 __get__메소드가 자동으로 실행되어 값을 조회합니다"
   ]
  },
  {
   "cell_type": "code",
   "execution_count": null,
   "metadata": {},
   "outputs": [],
   "source": []
  },
  {
   "cell_type": "code",
   "execution_count": 15,
   "metadata": {},
   "outputs": [],
   "source": [
    "class Descriptor_:                            ## 데이터 디스크립터를 정의한다 _get__. __set__을  내부에 정의한다\n",
    "    \n",
    "        \n",
    "    def __get__(self, instance, owner):        ## __get__에는 디스크립터 객체, 클라이언트 객체, 클라이언트 클래스 매개변수를 정의\n",
    "        print(\"get\")\n",
    "        if not hasattr(instance,\"_value\") :    ##  클라이언트 객체에 속성이 없으면 __set__을 통해 초기값을 가진 속성을 추가\n",
    "            self.__set__(instance, 0)\n",
    "        return instance._value                 ## 클라이언트 객체의 속성을 조회한다\n",
    "    \n",
    "    def __set__(self, instance, value):        ## __set__은 디스크립터 객체, 클라이언트 객체, 클라이언트 속성 갱신 매개변수 정의\n",
    "        print(\"set\")\n",
    "        instance._value = value                ## 클라이언트 속성 갱신"
   ]
  },
  {
   "cell_type": "code",
   "execution_count": 16,
   "metadata": {},
   "outputs": [],
   "source": [
    "class B :                                      ## 클라이언트 클래스 정의\n",
    "    value = Descriptor_()                   ## 클래스 속성에 디스크립터 객체 생성\n",
    "    value1 = Descriptor_() "
   ]
  },
  {
   "cell_type": "code",
   "execution_count": null,
   "metadata": {},
   "outputs": [],
   "source": []
  },
  {
   "cell_type": "code",
   "execution_count": 30,
   "metadata": {},
   "outputs": [
    {
     "data": {
      "text/plain": [
       "mappingproxy({'__module__': '__main__',\n",
       "              'value': <__main__.Descriptor_ at 0x17038c6cda0>,\n",
       "              'value1': <__main__.Descriptor_ at 0x17038c6cb38>,\n",
       "              '__dict__': <attribute '__dict__' of 'B' objects>,\n",
       "              '__weakref__': <attribute '__weakref__' of 'B' objects>,\n",
       "              '__doc__': None})"
      ]
     },
     "execution_count": 30,
     "metadata": {},
     "output_type": "execute_result"
    }
   ],
   "source": [
    "B.__dict__                                        ## 클라이언트 클래스 이름공간을 확인하면 클래스 속성 2 개 생성"
   ]
  },
  {
   "cell_type": "code",
   "execution_count": null,
   "metadata": {},
   "outputs": [],
   "source": []
  },
  {
   "cell_type": "code",
   "execution_count": 17,
   "metadata": {},
   "outputs": [],
   "source": [
    "b = B()                  ##  클라이언트 객체를 생성"
   ]
  },
  {
   "cell_type": "code",
   "execution_count": 18,
   "metadata": {},
   "outputs": [
    {
     "name": "stdout",
     "output_type": "stream",
     "text": [
      "get\n",
      "set\n"
     ]
    },
    {
     "data": {
      "text/plain": [
       "0"
      ]
     },
     "execution_count": 18,
     "metadata": {},
     "output_type": "execute_result"
    }
   ],
   "source": [
    "b.value                  ## 속성을 이름으로 접근하면 __get__을 호출하고 __set__을 호출해서 속성 추가"
   ]
  },
  {
   "cell_type": "code",
   "execution_count": 19,
   "metadata": {},
   "outputs": [
    {
     "name": "stdout",
     "output_type": "stream",
     "text": [
      "get\n"
     ]
    },
    {
     "data": {
      "text/plain": [
       "0"
      ]
     },
     "execution_count": 19,
     "metadata": {},
     "output_type": "execute_result"
    }
   ],
   "source": [
    "b.value1                ## 내부에 하나의 속성만 정의해서 이 속성을 접근해서 추가적인 속성이 만들어지지 않는다"
   ]
  },
  {
   "cell_type": "code",
   "execution_count": null,
   "metadata": {},
   "outputs": [],
   "source": []
  },
  {
   "cell_type": "code",
   "execution_count": 25,
   "metadata": {},
   "outputs": [
    {
     "name": "stdout",
     "output_type": "stream",
     "text": [
      "set\n"
     ]
    }
   ],
   "source": [
    "b.value1 = 999        ## 값을 갱신하면 변경된다 "
   ]
  },
  {
   "cell_type": "code",
   "execution_count": 26,
   "metadata": {},
   "outputs": [
    {
     "data": {
      "text/plain": [
       "{'_value': 999}"
      ]
     },
     "execution_count": 26,
     "metadata": {},
     "output_type": "execute_result"
    }
   ],
   "source": [
    "b.__dict__            ##  클라이언트 객체를 확인하면 하나의 속성만 만들어져 있다 "
   ]
  },
  {
   "cell_type": "code",
   "execution_count": 27,
   "metadata": {},
   "outputs": [
    {
     "name": "stdout",
     "output_type": "stream",
     "text": [
      "set\n"
     ]
    }
   ],
   "source": [
    "b.value = 777          ## 다른 속성으로 값을 갱신한다"
   ]
  },
  {
   "cell_type": "code",
   "execution_count": 28,
   "metadata": {},
   "outputs": [
    {
     "data": {
      "text/plain": [
       "{'_value': 777}"
      ]
     },
     "execution_count": 28,
     "metadata": {},
     "output_type": "execute_result"
    }
   ],
   "source": [
    "b.__dict__            ##  클라이언트 객체 내에 하나의 속성만 만들어져서 값을 갱신한다"
   ]
  },
  {
   "cell_type": "markdown",
   "metadata": {},
   "source": [
    "##  예제 39-3-2  클라이언트 객체 이름과 매칭하기 "
   ]
  },
  {
   "cell_type": "code",
   "execution_count": 51,
   "metadata": {},
   "outputs": [],
   "source": [
    "class Descriptor_c:                            ## 데이터 디스크립터를 정의한다\n",
    "        \n",
    "    def __set_name__(self, owner, name):         ## 클라이언트의 속성 이름을 읽어와서 디스크립터 객체에 클라이언트 객체의 속성\n",
    "            self._name = \"_\" + name              ## 이름을 관리한다\n",
    "            \n",
    "    def __get__(self, instance, owner):         ##  이름으로 접근하면 호출되는 메소드를 정의한다\n",
    "        print(\"get\")\n",
    "        if not (self._name in instance.__dict__) :      ##  클라이언트 객체의 이름공간에 속성 이름이 없으면 초기화한다\n",
    "            self.__set__(instance, 0)\n",
    "        return instance.__dict__[self._name]             ## 클라이언트 이름공간을 이용해서 속성을 조회한다\n",
    "    \n",
    "    def __set__(self, instance, value):                   ## 클라이언트 이름공간에 속성을 추가하거나 갱신한다\n",
    "        print(\"set\")\n",
    "        instance.__dict__[self._name] = value             ## 클라이언트 객체의 이름공간을 확인해서 값을 갱신한다"
   ]
  },
  {
   "cell_type": "code",
   "execution_count": null,
   "metadata": {},
   "outputs": [],
   "source": []
  },
  {
   "cell_type": "code",
   "execution_count": 52,
   "metadata": {},
   "outputs": [],
   "source": [
    "class C :                                ## 두 개의 속성에 데이터 디스크립터를 정의하는 클라이언트 클래스를 정의한다 \n",
    "    value = Descriptor_c() \n",
    "    value1 = Descriptor_c() "
   ]
  },
  {
   "cell_type": "code",
   "execution_count": 53,
   "metadata": {},
   "outputs": [],
   "source": [
    "c = C()                                 ## 객체를 하나 만든다"
   ]
  },
  {
   "cell_type": "code",
   "execution_count": 54,
   "metadata": {},
   "outputs": [
    {
     "name": "stdout",
     "output_type": "stream",
     "text": [
      "get\n",
      "set\n"
     ]
    },
    {
     "data": {
      "text/plain": [
       "0"
      ]
     },
     "execution_count": 54,
     "metadata": {},
     "output_type": "execute_result"
    }
   ],
   "source": [
    "c.value                                     ## 속성을 접근하면 클라이언트 객체에 속성을 추가한다"
   ]
  },
  {
   "cell_type": "code",
   "execution_count": 55,
   "metadata": {},
   "outputs": [
    {
     "name": "stdout",
     "output_type": "stream",
     "text": [
      "get\n",
      "set\n"
     ]
    },
    {
     "data": {
      "text/plain": [
       "0"
      ]
     },
     "execution_count": 55,
     "metadata": {},
     "output_type": "execute_result"
    }
   ],
   "source": [
    "c.value1                                 ## 속성을 접근하면 클라이언트 객체에 속성을 추가한다"
   ]
  },
  {
   "cell_type": "code",
   "execution_count": null,
   "metadata": {},
   "outputs": [],
   "source": []
  },
  {
   "cell_type": "code",
   "execution_count": 56,
   "metadata": {},
   "outputs": [
    {
     "data": {
      "text/plain": [
       "{'_value': 0, '_value1': 0}"
      ]
     },
     "execution_count": 56,
     "metadata": {},
     "output_type": "execute_result"
    }
   ],
   "source": [
    "c.__dict__                       ## 클라이언트 객체의 이름공간을 확인하면 두 개의 속성이 추가된다"
   ]
  },
  {
   "cell_type": "code",
   "execution_count": 57,
   "metadata": {},
   "outputs": [
    {
     "name": "stdout",
     "output_type": "stream",
     "text": [
      "set\n"
     ]
    }
   ],
   "source": [
    "c.value = 100                      ## 두 개의 속성의 값을 갱신한다"
   ]
  },
  {
   "cell_type": "code",
   "execution_count": 58,
   "metadata": {},
   "outputs": [
    {
     "name": "stdout",
     "output_type": "stream",
     "text": [
      "set\n"
     ]
    }
   ],
   "source": [
    "c.value1 = 999"
   ]
  },
  {
   "cell_type": "code",
   "execution_count": 59,
   "metadata": {},
   "outputs": [
    {
     "data": {
      "text/plain": [
       "{'_value': 100, '_value1': 999}"
      ]
     },
     "execution_count": 59,
     "metadata": {},
     "output_type": "execute_result"
    }
   ],
   "source": [
    "c.__dict__                          ## 이름공간을 확인하면 두 개의 속성 값이 갱신된 것을 볼 수 있다"
   ]
  },
  {
   "cell_type": "code",
   "execution_count": null,
   "metadata": {},
   "outputs": [],
   "source": []
  },
  {
   "cell_type": "code",
   "execution_count": 62,
   "metadata": {},
   "outputs": [],
   "source": [
    "class Descriptor_old:                      ## 예전 방식으로 디스크립터를 작성한다\n",
    "        \n",
    "    def __init__(self, name):               ## 초기화 함수에 클라이언트 객체에 들어갈 속성 이름을 문자열로 넣는다 \n",
    "            self._name = \"_\" + name\n",
    "            \n",
    "    def __get__(self, instance, owner):\n",
    "        print(\"get\")\n",
    "        if not (self._name in instance.__dict__) :       ## 클라이언트 객체 이름공간의 속성이 이름이 있는 지를 확인한다\n",
    "            self.__set__(instance, 0)                    ## 없으면 객체의 속성을 초기값을 추가한다\n",
    "        return instance.__dict__[self._name]\n",
    "    \n",
    "    def __set__(self, instance, value):\n",
    "        print(\"set\")\n",
    "        instance.__dict__[self._name] = value         ## 클라이언트 이름공간에 디스크립터 객체의 속성의 이름을 전달해서 갱신한다"
   ]
  },
  {
   "cell_type": "code",
   "execution_count": null,
   "metadata": {},
   "outputs": [],
   "source": []
  },
  {
   "cell_type": "code",
   "execution_count": 63,
   "metadata": {},
   "outputs": [],
   "source": [
    "class Old :                                    ## 클라이언트 클래스를 정의한다\n",
    "    value = Descriptor_old('value')            ## 객체의 속성이 들어갈 이름을 디스크립터 생성자에 인자로 전달한다\n",
    "    value1 = Descriptor_old('value1') "
   ]
  },
  {
   "cell_type": "code",
   "execution_count": null,
   "metadata": {},
   "outputs": [],
   "source": []
  },
  {
   "cell_type": "code",
   "execution_count": 64,
   "metadata": {},
   "outputs": [],
   "source": [
    "o = Old()                    ## 하나의 객체를 만든다"
   ]
  },
  {
   "cell_type": "code",
   "execution_count": 65,
   "metadata": {},
   "outputs": [
    {
     "name": "stdout",
     "output_type": "stream",
     "text": [
      "get\n",
      "set\n"
     ]
    },
    {
     "data": {
      "text/plain": [
       "0"
      ]
     },
     "execution_count": 65,
     "metadata": {},
     "output_type": "execute_result"
    }
   ],
   "source": [
    "o.value                     ## 속성들을 이름으로 조회하면 초기값을 갱신한다"
   ]
  },
  {
   "cell_type": "code",
   "execution_count": 66,
   "metadata": {},
   "outputs": [
    {
     "name": "stdout",
     "output_type": "stream",
     "text": [
      "get\n",
      "set\n"
     ]
    },
    {
     "data": {
      "text/plain": [
       "0"
      ]
     },
     "execution_count": 66,
     "metadata": {},
     "output_type": "execute_result"
    }
   ],
   "source": [
    "o.value1"
   ]
  },
  {
   "cell_type": "code",
   "execution_count": null,
   "metadata": {},
   "outputs": [],
   "source": []
  },
  {
   "cell_type": "code",
   "execution_count": 68,
   "metadata": {},
   "outputs": [
    {
     "name": "stdout",
     "output_type": "stream",
     "text": [
      "set\n"
     ]
    }
   ],
   "source": [
    "o.value = 999                 ## 속성의 값을 이름으로 갱신할 수 있다"
   ]
  },
  {
   "cell_type": "code",
   "execution_count": 69,
   "metadata": {},
   "outputs": [
    {
     "name": "stdout",
     "output_type": "stream",
     "text": [
      "set\n"
     ]
    }
   ],
   "source": [
    "o.value1= 777"
   ]
  },
  {
   "cell_type": "code",
   "execution_count": 70,
   "metadata": {},
   "outputs": [
    {
     "name": "stdout",
     "output_type": "stream",
     "text": [
      "get\n",
      "get\n"
     ]
    },
    {
     "data": {
      "text/plain": [
       "(999, 777)"
      ]
     },
     "execution_count": 70,
     "metadata": {},
     "output_type": "execute_result"
    }
   ],
   "source": [
    "o.value, o.value1            ## 두 개의 속성을 이름으로 조회하면 값을 반환한다"
   ]
  },
  {
   "cell_type": "code",
   "execution_count": null,
   "metadata": {},
   "outputs": [],
   "source": []
  }
 ],
 "metadata": {
  "kernelspec": {
   "display_name": "Python 3",
   "language": "python",
   "name": "python3"
  },
  "language_info": {
   "codemirror_mode": {
    "name": "ipython",
    "version": 3
   },
   "file_extension": ".py",
   "mimetype": "text/x-python",
   "name": "python",
   "nbconvert_exporter": "python",
   "pygments_lexer": "ipython3",
   "version": "3.7.3"
  }
 },
 "nbformat": 4,
 "nbformat_minor": 2
}
