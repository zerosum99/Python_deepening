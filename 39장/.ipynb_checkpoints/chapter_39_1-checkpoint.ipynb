{
 "cells": [
  {
   "cell_type": "markdown",
   "metadata": {},
   "source": [
    "##  예제 39-1-1 보호속성 처리"
   ]
  },
  {
   "cell_type": "code",
   "execution_count": null,
   "metadata": {},
   "outputs": [],
   "source": []
  },
  {
   "cell_type": "code",
   "execution_count": 22,
   "metadata": {},
   "outputs": [],
   "source": [
    "class Klass :                                  ##  밑줄 하나를 가진 보호속성을 정의한 클래스를 작성한다\n",
    "    _name = \"가을\"                          ## 클래스 속성의 이름을 밑줄 하나를 추가해서 보호속성으로 만든다\n",
    "    \n",
    "    def __init__(self, name) :           ## 초기화 함수를 정의한다\n",
    "        self._name = name               ## 객체의 속성을 정의할 때 이름 앞에 밑줄을 하나 넣어 보호속성으로 만든다\n",
    "        \n",
    "    def getName(self) :                 ## 보호속성을 조회하는 하나의 함수를 정의한다\n",
    "        return self._name"
   ]
  },
  {
   "cell_type": "code",
   "execution_count": null,
   "metadata": {},
   "outputs": [],
   "source": []
  },
  {
   "cell_type": "code",
   "execution_count": 25,
   "metadata": {},
   "outputs": [
    {
     "data": {
      "text/plain": [
       "mappingproxy({'__module__': '__main__',\n",
       "              '_name': '가을',\n",
       "              '__init__': <function __main__.Klass.__init__(self, name)>,\n",
       "              'getName': <function __main__.Klass.getName(self)>,\n",
       "              '__dict__': <attribute '__dict__' of 'Klass' objects>,\n",
       "              '__weakref__': <attribute '__weakref__' of 'Klass' objects>,\n",
       "              '__doc__': None})"
      ]
     },
     "execution_count": 25,
     "metadata": {},
     "output_type": "execute_result"
    }
   ],
   "source": [
    "Klass.__dict__                                                    ## 클래스의 이름공간을 확인하면 클래스에 정의된 속성과 함수가 저장된다"
   ]
  },
  {
   "cell_type": "code",
   "execution_count": 27,
   "metadata": {},
   "outputs": [
    {
     "data": {
      "text/plain": [
       "'가을'"
      ]
     },
     "execution_count": 27,
     "metadata": {},
     "output_type": "execute_result"
    }
   ],
   "source": [
    "Klass._name               ## 클래스 이름에 점연산자를 사용해서 클래스 속성을 조회한다.\n",
    "                                  ## 보호속성이지만 직접 속성 이름으로 조회가 가능하다"
   ]
  },
  {
   "cell_type": "code",
   "execution_count": null,
   "metadata": {},
   "outputs": [],
   "source": []
  },
  {
   "cell_type": "code",
   "execution_count": 23,
   "metadata": {},
   "outputs": [],
   "source": [
    "k = Klass( \"너울\")            ## 객체를 하나 만든다"
   ]
  },
  {
   "cell_type": "code",
   "execution_count": 24,
   "metadata": {},
   "outputs": [
    {
     "data": {
      "text/plain": [
       "{'_name': '너울'}"
      ]
     },
     "execution_count": 24,
     "metadata": {},
     "output_type": "execute_result"
    }
   ],
   "source": [
    "k.__dict__                           ## 객체의 이름공간을 확인하면 하나의 속성이 있는 것을 알 수 있다"
   ]
  },
  {
   "cell_type": "code",
   "execution_count": 26,
   "metadata": {},
   "outputs": [
    {
     "data": {
      "text/plain": [
       "'너울'"
      ]
     },
     "execution_count": 26,
     "metadata": {},
     "output_type": "execute_result"
    }
   ],
   "source": [
    "k.getName()               ## 객체가 메소드를 사용해서 속성의 값을 조회한다.  보호 속성을 메소드로 조회한다"
   ]
  },
  {
   "cell_type": "code",
   "execution_count": 28,
   "metadata": {},
   "outputs": [
    {
     "data": {
      "text/plain": [
       "'너울'"
      ]
     },
     "execution_count": 28,
     "metadata": {},
     "output_type": "execute_result"
    }
   ],
   "source": [
    "k._name                   ##  파이썬은 보호속성은 몀명규칙상으로 표기만 한다. 직접 접근해서 조회하면 속성의 값을 조회할 수 있다"
   ]
  },
  {
   "cell_type": "code",
   "execution_count": null,
   "metadata": {},
   "outputs": [],
   "source": []
  },
  {
   "cell_type": "code",
   "execution_count": null,
   "metadata": {},
   "outputs": [],
   "source": []
  },
  {
   "cell_type": "code",
   "execution_count": 12,
   "metadata": {},
   "outputs": [],
   "source": [
    "class Mangling :                        ##. 밑줄을 두 개을 붙인  속성을 가지는 클래스를 정의한다\n",
    "    __name = \"가을\"                     ##  밑줄 두 개를 붙인 클래스 속성을 정의한다\n",
    "    \n",
    "    def __init__(self, name) :        ## 초기화 함수를 정의한다\n",
    "        self.__name = name           ## 밑줄을 두 개를 붙인 객체 속성을 하나 정의한다\n",
    "        \n",
    "    def getName(self) :               ##  객체의 보호속성을 조회하는 함수를 정의한다\n",
    "        return self.__name\n",
    "    \n",
    "    @classmethod                       ## 클래스 속성을 조회하는 클래스 메소드를 정의한다\n",
    "    def getAttr(cls) :                   ##  클래스 메소드에 저장될 함수를 정의한다. 클래스 속성을 조회하는 함수이다\n",
    "        return cls.__name"
   ]
  },
  {
   "cell_type": "code",
   "execution_count": null,
   "metadata": {},
   "outputs": [],
   "source": []
  },
  {
   "cell_type": "code",
   "execution_count": 14,
   "metadata": {},
   "outputs": [
    {
     "data": {
      "text/plain": [
       "mappingproxy({'__module__': '__main__',\n",
       "              '_Mangling__name': '가을',\n",
       "              '__init__': <function __main__.Mangling.__init__(self, name)>,\n",
       "              'getName': <function __main__.Mangling.getName(self)>,\n",
       "              'getAttr': <classmethod at 0x28800f5ec50>,\n",
       "              '__dict__': <attribute '__dict__' of 'Mangling' objects>,\n",
       "              '__weakref__': <attribute '__weakref__' of 'Mangling' objects>,\n",
       "              '__doc__': None})"
      ]
     },
     "execution_count": 14,
     "metadata": {},
     "output_type": "execute_result"
    }
   ],
   "source": [
    "Mangling.__dict__                                    ##  클래스에 작성된 속성과 함수, 메소드가 정의된 것을 볼 수 았다."
   ]
  },
  {
   "cell_type": "code",
   "execution_count": null,
   "metadata": {},
   "outputs": [],
   "source": []
  },
  {
   "cell_type": "code",
   "execution_count": 16,
   "metadata": {},
   "outputs": [
    {
     "ename": "AttributeError",
     "evalue": "type object 'Mangling' has no attribute '__name'",
     "output_type": "error",
     "traceback": [
      "\u001b[1;31m---------------------------------------------------------------------------\u001b[0m",
      "\u001b[1;31mAttributeError\u001b[0m                            Traceback (most recent call last)",
      "\u001b[1;32m<ipython-input-16-e43fb6d5ba1a>\u001b[0m in \u001b[0;36m<module>\u001b[1;34m\u001b[0m\n\u001b[1;32m----> 1\u001b[1;33m \u001b[0mMangling\u001b[0m\u001b[1;33m.\u001b[0m\u001b[0m__name\u001b[0m\u001b[1;33m\u001b[0m\u001b[1;33m\u001b[0m\u001b[0m\n\u001b[0m",
      "\u001b[1;31mAttributeError\u001b[0m: type object 'Mangling' has no attribute '__name'"
     ]
    }
   ],
   "source": [
    "Mangling.__name                                                 ## 클래스 속성을 이름으로 접근하면 없는 속성이라고 나온다. "
   ]
  },
  {
   "cell_type": "code",
   "execution_count": null,
   "metadata": {},
   "outputs": [],
   "source": []
  },
  {
   "cell_type": "code",
   "execution_count": 17,
   "metadata": {},
   "outputs": [
    {
     "data": {
      "text/plain": [
       "'가을'"
      ]
     },
     "execution_count": 17,
     "metadata": {},
     "output_type": "execute_result"
    }
   ],
   "source": [
    "Mangling.getAttr()                        ## 클래스 속성을 클래스 메소드로 조회하면 검색이 된다 "
   ]
  },
  {
   "cell_type": "code",
   "execution_count": 18,
   "metadata": {},
   "outputs": [
    {
     "data": {
      "text/plain": [
       "'가을'"
      ]
     },
     "execution_count": 18,
     "metadata": {},
     "output_type": "execute_result"
    }
   ],
   "source": [
    "Mangling._Mangling__name          ## 밑줄을 두 개가 붙이면 이름이 변경된다. 이를 맹글링이라고 한다.\n",
    "                                                     ## _클래스이름이 속성 앞에 더 붙여서 검색하면 속성을 접근할 수 있다 "
   ]
  },
  {
   "cell_type": "code",
   "execution_count": null,
   "metadata": {},
   "outputs": [],
   "source": []
  },
  {
   "cell_type": "code",
   "execution_count": 13,
   "metadata": {},
   "outputs": [],
   "source": [
    "m = Mangling(\"맹글링\")              ## 객체를 하나 만든다"
   ]
  },
  {
   "cell_type": "code",
   "execution_count": 15,
   "metadata": {},
   "outputs": [
    {
     "data": {
      "text/plain": [
       "{'_Mangling__name': '맹글링'}"
      ]
     },
     "execution_count": 15,
     "metadata": {},
     "output_type": "execute_result"
    }
   ],
   "source": [
    "m.__dict__                                     ## 객체의 이름공간을 확인하면 _ㅡ클래스이름이 속성앞에 붙어있다"
   ]
  },
  {
   "cell_type": "code",
   "execution_count": 19,
   "metadata": {},
   "outputs": [
    {
     "data": {
      "text/plain": [
       "'맹글링'"
      ]
     },
     "execution_count": 19,
     "metadata": {},
     "output_type": "execute_result"
    }
   ],
   "source": [
    "m.getName()                             ##  객체를 통해 메소드를 호출하면 속성의 값을 조회한다"
   ]
  },
  {
   "cell_type": "code",
   "execution_count": null,
   "metadata": {},
   "outputs": [],
   "source": []
  },
  {
   "cell_type": "code",
   "execution_count": 20,
   "metadata": {},
   "outputs": [
    {
     "ename": "AttributeError",
     "evalue": "'Mangling' object has no attribute '__name'",
     "output_type": "error",
     "traceback": [
      "\u001b[1;31m---------------------------------------------------------------------------\u001b[0m",
      "\u001b[1;31mAttributeError\u001b[0m                            Traceback (most recent call last)",
      "\u001b[1;32m<ipython-input-20-67a97539383f>\u001b[0m in \u001b[0;36m<module>\u001b[1;34m\u001b[0m\n\u001b[1;32m----> 1\u001b[1;33m \u001b[0mm\u001b[0m\u001b[1;33m.\u001b[0m\u001b[0m__name\u001b[0m\u001b[1;33m\u001b[0m\u001b[1;33m\u001b[0m\u001b[0m\n\u001b[0m",
      "\u001b[1;31mAttributeError\u001b[0m: 'Mangling' object has no attribute '__name'"
     ]
    }
   ],
   "source": [
    "m.__name               ## 객체 속성도 이름으로 접근하면 속성이 없다고 나온다"
   ]
  },
  {
   "cell_type": "code",
   "execution_count": 21,
   "metadata": {},
   "outputs": [
    {
     "data": {
      "text/plain": [
       "'맹글링'"
      ]
     },
     "execution_count": 21,
     "metadata": {},
     "output_type": "execute_result"
    }
   ],
   "source": [
    "m._Mangling__name          ## 객체 속성도 맹글링 이름체계를 전부 작성해서 조회하면 값을 알 수 있다"
   ]
  },
  {
   "cell_type": "code",
   "execution_count": null,
   "metadata": {},
   "outputs": [],
   "source": []
  }
 ],
 "metadata": {
  "kernelspec": {
   "display_name": "Python 3",
   "language": "python",
   "name": "python3"
  },
  "language_info": {
   "codemirror_mode": {
    "name": "ipython",
    "version": 3
   },
   "file_extension": ".py",
   "mimetype": "text/x-python",
   "name": "python",
   "nbconvert_exporter": "python",
   "pygments_lexer": "ipython3",
   "version": "3.6.8"
  }
 },
 "nbformat": 4,
 "nbformat_minor": 2
}
