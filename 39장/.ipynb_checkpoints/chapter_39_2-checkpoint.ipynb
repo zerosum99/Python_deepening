{
 "cells": [
  {
   "cell_type": "markdown",
   "metadata": {},
   "source": [
    "##  예제 39-2-1 프로퍼티 알아보기"
   ]
  },
  {
   "cell_type": "code",
   "execution_count": null,
   "metadata": {},
   "outputs": [],
   "source": []
  },
  {
   "cell_type": "code",
   "execution_count": 22,
   "metadata": {},
   "outputs": [
    {
     "data": {
      "text/plain": [
       "property"
      ]
     },
     "execution_count": 22,
     "metadata": {},
     "output_type": "execute_result"
    }
   ],
   "source": [
    "property                               ##  파이썬 속성을 이름으로 접근해서 조회할 수 있는 프로퍼티도 하나의 클래스이다"
   ]
  },
  {
   "cell_type": "code",
   "execution_count": 23,
   "metadata": {},
   "outputs": [
    {
     "data": {
      "text/plain": [
       "True"
      ]
     },
     "execution_count": 23,
     "metadata": {},
     "output_type": "execute_result"
    }
   ],
   "source": [
    "isinstance(property, type)"
   ]
  },
  {
   "cell_type": "code",
   "execution_count": null,
   "metadata": {},
   "outputs": [],
   "source": []
  },
  {
   "cell_type": "code",
   "execution_count": 16,
   "metadata": {},
   "outputs": [],
   "source": [
    "class Data :                          ## 프로퍼티를 정의하는  클래스를 만든다       \n",
    "    \n",
    "    def __init__(self,data) :       ## 초기화 함수를 정의할 때 속성이 이름을 보호속성으로 만든다\n",
    "        self._data = data \n",
    "\n",
    "    @property                        ##  데코레이터 를 통해 함수를 프로퍼티 객체로 변환한다\n",
    "    def data(self):                  ## 속성과 같은 이름으로 함수를 정의한다\n",
    "        return self._data"
   ]
  },
  {
   "cell_type": "code",
   "execution_count": 21,
   "metadata": {},
   "outputs": [
    {
     "data": {
      "text/plain": [
       "mappingproxy({'__module__': '__main__',\n",
       "              '__init__': <function __main__.Data.__init__(self, data)>,\n",
       "              'data': <property at 0x19b92673d18>,\n",
       "              '__dict__': <attribute '__dict__' of 'Data' objects>,\n",
       "              '__weakref__': <attribute '__weakref__' of 'Data' objects>,\n",
       "              '__doc__': None})"
      ]
     },
     "execution_count": 21,
     "metadata": {},
     "output_type": "execute_result"
    }
   ],
   "source": [
    "Data.__dict__                                 ## 클래스의 이름공간을 확인하면 함수의 이름과 동일한 프로퍼티 객체가 만들어진다"
   ]
  },
  {
   "cell_type": "code",
   "execution_count": null,
   "metadata": {},
   "outputs": [],
   "source": []
  },
  {
   "cell_type": "code",
   "execution_count": 17,
   "metadata": {},
   "outputs": [],
   "source": [
    "d = Data(10)            ##  객체를 하나 만든다"
   ]
  },
  {
   "cell_type": "code",
   "execution_count": 18,
   "metadata": {},
   "outputs": [
    {
     "data": {
      "text/plain": [
       "10"
      ]
     },
     "execution_count": 18,
     "metadata": {},
     "output_type": "execute_result"
    }
   ],
   "source": [
    "d.data                    ## 함수의 이름으로 접근하면 객체의 속성의 값을 조회한다\n",
    "                              ## 프로퍼티 객체에 등록된 함수를 실행해서 객체의 속성을 조회한다"
   ]
  },
  {
   "cell_type": "code",
   "execution_count": 20,
   "metadata": {},
   "outputs": [
    {
     "data": {
      "text/plain": [
       "{'_data': 10}"
      ]
     },
     "execution_count": 20,
     "metadata": {},
     "output_type": "execute_result"
    }
   ],
   "source": [
    "d.__dict__              ## 객체의 이름공간을 확인하면 보호속성으로 들어간 것을 알 수 있다 "
   ]
  },
  {
   "cell_type": "code",
   "execution_count": null,
   "metadata": {},
   "outputs": [],
   "source": []
  },
  {
   "cell_type": "code",
   "execution_count": 19,
   "metadata": {},
   "outputs": [
    {
     "ename": "AttributeError",
     "evalue": "can't set attribute",
     "output_type": "error",
     "traceback": [
      "\u001b[1;31m---------------------------------------------------------------------------\u001b[0m",
      "\u001b[1;31mAttributeError\u001b[0m                            Traceback (most recent call last)",
      "\u001b[1;32m<ipython-input-19-a6debbd32bc1>\u001b[0m in \u001b[0;36m<module>\u001b[1;34m\u001b[0m\n\u001b[1;32m----> 1\u001b[1;33m \u001b[0md\u001b[0m\u001b[1;33m.\u001b[0m\u001b[0mdata\u001b[0m \u001b[1;33m=\u001b[0m \u001b[1;36m33\u001b[0m\u001b[1;33m\u001b[0m\u001b[1;33m\u001b[0m\u001b[0m\n\u001b[0m",
      "\u001b[1;31mAttributeError\u001b[0m: can't set attribute"
     ]
    }
   ],
   "source": [
    "d.data = 33                    ## 프로퍼티를 갱신하면 갱신하는 함수를 등록하지 않아서 처리되지 않는다"
   ]
  },
  {
   "cell_type": "code",
   "execution_count": null,
   "metadata": {},
   "outputs": [],
   "source": []
  },
  {
   "cell_type": "code",
   "execution_count": 24,
   "metadata": {},
   "outputs": [],
   "source": [
    "class DataInt:            ##. 동일한 이름으로 속성을 조회할 클래스를 정의한다\n",
    "\n",
    "    @property                        ##  조회하는 함수를 등록할 때는 property 클래스로 데코레이터 처리를 한다\n",
    "    def data(self):\n",
    "        return self._data\n",
    "    \n",
    "    @data.setter                         ## 이름으로 접근해서 속성을 갱신하는 함수를 정의할 때는 setter 메소드로 함수를 등록한다\n",
    "    def data(self, value):\n",
    "        if isinstance(value, int):       ## 갱신하는 값이 정수가 아니면 예외를 처리한다\n",
    "            self._data = value\n",
    "        else:\n",
    "            raise AttributeError(\" 정수값이 아닙니다\")\n",
    "            \n",
    "    @data.deleter                          ## 이름으로 접근해서 속성을 삭제하는 함수를 정의할 때는 deleter메소드로 함수를 등록한다\n",
    "    def data(self):\n",
    "        raise AttributeError(\"삭제할 수 없습니다.\")"
   ]
  },
  {
   "cell_type": "code",
   "execution_count": null,
   "metadata": {},
   "outputs": [],
   "source": []
  },
  {
   "cell_type": "code",
   "execution_count": 25,
   "metadata": {},
   "outputs": [],
   "source": [
    "t = DataInt()                    ## 초기화 함수가 정의되지 않아 속성이 없는 객체를 만든다"
   ]
  },
  {
   "cell_type": "code",
   "execution_count": 26,
   "metadata": {},
   "outputs": [
    {
     "data": {
      "text/plain": [
       "{}"
      ]
     },
     "execution_count": 26,
     "metadata": {},
     "output_type": "execute_result"
    }
   ],
   "source": [
    "t.__dict__"
   ]
  },
  {
   "cell_type": "code",
   "execution_count": null,
   "metadata": {},
   "outputs": [],
   "source": []
  },
  {
   "cell_type": "code",
   "execution_count": 27,
   "metadata": {},
   "outputs": [],
   "source": [
    "t.data = 12               ## 갱신할 수 있는 함수를 프로퍼티에 등록해서 값을 갱신할 때 객체에 속성을 추가한다"
   ]
  },
  {
   "cell_type": "code",
   "execution_count": 29,
   "metadata": {},
   "outputs": [
    {
     "data": {
      "text/plain": [
       "{'_data': 12}"
      ]
     },
     "execution_count": 29,
     "metadata": {},
     "output_type": "execute_result"
    }
   ],
   "source": [
    "t.__dict__"
   ]
  },
  {
   "cell_type": "code",
   "execution_count": 28,
   "metadata": {},
   "outputs": [
    {
     "data": {
      "text/plain": [
       "12"
      ]
     },
     "execution_count": 28,
     "metadata": {},
     "output_type": "execute_result"
    }
   ],
   "source": [
    "t.data                     ## 다시 이름으로 조회하면 객체의 속성 값을 조회한다"
   ]
  },
  {
   "cell_type": "code",
   "execution_count": null,
   "metadata": {},
   "outputs": [],
   "source": []
  },
  {
   "cell_type": "code",
   "execution_count": 31,
   "metadata": {},
   "outputs": [
    {
     "name": "stdout",
     "output_type": "stream",
     "text": [
      " 정수값이 아닙니다\n"
     ]
    }
   ],
   "source": [
    "try :\n",
    "    t.data = '123'                           ## 문자열로 변경하면 정수 값이 들어오지 않아 예외를 발생시킨다\n",
    "except Exception as e :\n",
    "    print(e)"
   ]
  },
  {
   "cell_type": "code",
   "execution_count": 32,
   "metadata": {},
   "outputs": [
    {
     "name": "stdout",
     "output_type": "stream",
     "text": [
      "삭제할 수 없습니다.\n"
     ]
    }
   ],
   "source": [
    "try :\n",
    "    del t.data                              ##  프로퍼티에서 삭제를 정의했지만 내부에 예외만 처리해서 삭제할 경우 내부에 정의된 예외를 발생시킨다\n",
    "except Exception as e :\n",
    "    print(e)"
   ]
  },
  {
   "cell_type": "code",
   "execution_count": null,
   "metadata": {},
   "outputs": [],
   "source": []
  },
  {
   "cell_type": "markdown",
   "metadata": {},
   "source": [
    "##  예제 39-2-2 프로퍼티 클래스 알아보기"
   ]
  },
  {
   "cell_type": "code",
   "execution_count": null,
   "metadata": {},
   "outputs": [],
   "source": []
  },
  {
   "cell_type": "code",
   "execution_count": 9,
   "metadata": {},
   "outputs": [],
   "source": [
    "class my_property:                                                         ## 프로퍼티 클래스 구조와 동일한  클래스를 정의한다\n",
    "    def __init__(self, fget=None, fset=None, fdel=None):   ## 초기화 함수에 3 개의 함수를 받아서  3개의 속성에 저장하는 구조를 만든다\n",
    "        self.fget = fget\n",
    "        self.fset = fset\n",
    "        self.fdel = fdel\n",
    "        \n",
    "    def setter(self, fset):                                 ##  변경하는 함수를 등록하는 메소드를 정의한다\n",
    "        self.fset = fset\n",
    "        return self \n",
    "    \n",
    "    def deleter(self, fdel):                              ##  삭제하는 함수를 등록하는 메소드를 정의한다\n",
    "        self.fdel = fdel\n",
    "        return self\n",
    "    \n",
    "    def getter(self, fget):                               ##  조회하는 함수를 등록하는 메소드를 정의한다\n",
    "        self.fget = fget\n",
    "        return self\n",
    "                                                                   ##  디스크립터 클래스는 __get__, __set__, __delete__ 함수 정의한다. 이 함수들이 정의되면 이름으로 접근하면 \n",
    "                                                                   ## 이 함수들이 자동으로 실행되어 결과를 반환한다. \n",
    "    def __get__(self, instance, owner):          ##  이름으로 조회하면 이 메소드가  조회하는 함수를 실행해서 속성의 값을 조회한다. \n",
    "        return self.fget(instance)\n",
    "    \n",
    "    def __set__(self, instance, value):           ##  이름으로 값을 갱신하면  속성을 변경하는 함수를 실행해서 결과를 변경한다\n",
    "        if not self.fset:\n",
    "            raise AttributeError\n",
    "        return self.fset(instance, value)\n",
    "    \n",
    "    def __delete__(self, instance):             ##  이름으로 삭제하면 이 메소드가  삭제하는 함수를 실행해서 속성의 값을 삭제한다. \n",
    "        if not self.fdel:\n",
    "            raise AttributeError\n",
    "        return self.fdel(instance)"
   ]
  },
  {
   "cell_type": "code",
   "execution_count": null,
   "metadata": {},
   "outputs": [],
   "source": []
  },
  {
   "cell_type": "code",
   "execution_count": 41,
   "metadata": {},
   "outputs": [],
   "source": [
    "class OnlyInt:                                 ## 하나의 속성을 프로퍼티로 처리하는 클래스를 정의한다\n",
    "    @my_property                           ## 프로퍼티 클래스로 데코레이터를 처리해서 프로퍼티 객체를 만든다\n",
    "    def data(self):                           ## 첫번째  등록하는 함수는 조회 함수이다\n",
    "        return self._data\n",
    "    \n",
    "    @data.setter                                                            ## 변경하는 함수는 프로퍼티 객체의 setter 메소드로 등록한다 \n",
    "    def data(self, value):\n",
    "        if isinstance(value, int):\n",
    "            self._data = value\n",
    "        else:\n",
    "            raise AttributeError(\"정수만 처리합니다. \")\n",
    "            \n",
    "    @data.deleter                                                          ## 삭제하는 함수는 프로퍼티 객체의 deleter 메소드로 등록한다 \n",
    "    def data(self):\n",
    "        raise AttributeError(\" 삭제는 안합니다.\")\n",
    "        "
   ]
  },
  {
   "cell_type": "code",
   "execution_count": null,
   "metadata": {},
   "outputs": [],
   "source": []
  },
  {
   "cell_type": "code",
   "execution_count": 43,
   "metadata": {},
   "outputs": [],
   "source": [
    "c = OnlyInt()          ## 객체를 하나 생성한다"
   ]
  },
  {
   "cell_type": "code",
   "execution_count": 44,
   "metadata": {},
   "outputs": [
    {
     "data": {
      "text/plain": [
       "{}"
      ]
     },
     "execution_count": 44,
     "metadata": {},
     "output_type": "execute_result"
    }
   ],
   "source": [
    "c.__dict__"
   ]
  },
  {
   "cell_type": "code",
   "execution_count": 45,
   "metadata": {},
   "outputs": [],
   "source": [
    "c.data = 999         ## 객체의 속성을 갱신한다"
   ]
  },
  {
   "cell_type": "code",
   "execution_count": 46,
   "metadata": {},
   "outputs": [
    {
     "data": {
      "text/plain": [
       "999"
      ]
     },
     "execution_count": 46,
     "metadata": {},
     "output_type": "execute_result"
    }
   ],
   "source": [
    "c.data"
   ]
  },
  {
   "cell_type": "code",
   "execution_count": null,
   "metadata": {},
   "outputs": [],
   "source": []
  },
  {
   "cell_type": "code",
   "execution_count": 47,
   "metadata": {},
   "outputs": [
    {
     "name": "stdout",
     "output_type": "stream",
     "text": [
      "정수만 처리합니다. \n"
     ]
    }
   ],
   "source": [
    "try :\n",
    "    c.data = '문자열 갱신'\n",
    "except Exception as e :\n",
    "    print(e)    "
   ]
  },
  {
   "cell_type": "code",
   "execution_count": null,
   "metadata": {},
   "outputs": [],
   "source": []
  },
  {
   "cell_type": "markdown",
   "metadata": {},
   "source": [
    "##  예제 39-2-3  계산을 처리하는 프로퍼티"
   ]
  },
  {
   "cell_type": "code",
   "execution_count": 54,
   "metadata": {},
   "outputs": [],
   "source": [
    "class Double :                          ##.  계산을 하는 프로퍼티를 처리하는 클래스를 정의한다\n",
    "    def __init__(self, value):        ##   초기화 함수로 하나의 속성을 만든다\n",
    "        self.value = value\n",
    "        \n",
    "    @property                            ## 객체의 속성을 사용해서 계산하는 함수를 프로퍼티로 처리한다\n",
    "    def double(self):\n",
    "        return self.value * 2\n",
    "    \n",
    "    @double.setter                      ## 변경을 하려면 예외를 발생시켜야 해서 변경처리하는 함수를 등록한다\n",
    "    def double(self, value):\n",
    "        raise AttributeError(\" 갱신할 수 없습니다. \")"
   ]
  },
  {
   "cell_type": "code",
   "execution_count": null,
   "metadata": {},
   "outputs": [],
   "source": []
  },
  {
   "cell_type": "code",
   "execution_count": 55,
   "metadata": {},
   "outputs": [],
   "source": [
    "d = Double(3)              ## 하나의 객체를 만든다"
   ]
  },
  {
   "cell_type": "code",
   "execution_count": 56,
   "metadata": {},
   "outputs": [
    {
     "data": {
      "text/plain": [
       "6"
      ]
     },
     "execution_count": 56,
     "metadata": {},
     "output_type": "execute_result"
    }
   ],
   "source": [
    "d.double                       ## 이름으로 접근하면  계산한 결과를 반환한다"
   ]
  },
  {
   "cell_type": "code",
   "execution_count": 57,
   "metadata": {},
   "outputs": [
    {
     "name": "stdout",
     "output_type": "stream",
     "text": [
      " 갱신할 수 없습니다. \n"
     ]
    }
   ],
   "source": [
    "try :\n",
    "    d.double = 999                  ## 변경하지 못하도록 정의해서 변경하면 예외를 발생시킨다\n",
    "except Exception as e :\n",
    "    print(e)"
   ]
  },
  {
   "cell_type": "code",
   "execution_count": null,
   "metadata": {},
   "outputs": [],
   "source": []
  }
 ],
 "metadata": {
  "kernelspec": {
   "display_name": "Python 3",
   "language": "python",
   "name": "python3"
  },
  "language_info": {
   "codemirror_mode": {
    "name": "ipython",
    "version": 3
   },
   "file_extension": ".py",
   "mimetype": "text/x-python",
   "name": "python",
   "nbconvert_exporter": "python",
   "pygments_lexer": "ipython3",
   "version": "3.6.8"
  }
 },
 "nbformat": 4,
 "nbformat_minor": 2
}
