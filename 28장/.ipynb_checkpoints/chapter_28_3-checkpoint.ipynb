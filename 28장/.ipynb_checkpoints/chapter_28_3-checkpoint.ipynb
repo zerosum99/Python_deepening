{
 "cells": [
  {
   "cell_type": "markdown",
   "metadata": {},
   "source": [
    "## 예제 28-3-1  모듈을 작성하고 실행하기"
   ]
  },
  {
   "cell_type": "code",
   "execution_count": 1,
   "metadata": {},
   "outputs": [
    {
     "name": "stdout",
     "output_type": "stream",
     "text": [
      "Overwriting main.py\n"
     ]
    }
   ],
   "source": [
    "%%writefile main.py\n",
    "\"\"\" 메인 모듈입니다. \"\"\"\n",
    "\n",
    "def add(x,y) :                                        ## 함수를 정의한다\n",
    "    return x+y\n",
    "\n",
    "class Python :                                       ## 클래스를 정의한다\n",
    "    def __init__(self, version) :\n",
    "        self.version = version\n",
    "        \n",
    "    def getVersion(self) :\n",
    "        return self.version\n",
    "    \n",
    "\n",
    "if __name__ == '__main__' :                                    ## 모듈을 실행하면 이 제어문 내부의 로직이 처리된다 \n",
    "    print(\"함수 add  실행 \", add(10,10))\n",
    "    p = Python('3.7')\n",
    "    print(\" 파이썬 객체 생성\", p, p.getVersion())\n",
    "    \n",
    "else :                                                                    ## import 해서 사용하면  else 문이 실행된다\n",
    "    print(\"import 처리된 모듈 \")"
   ]
  },
  {
   "cell_type": "code",
   "execution_count": 1,
   "metadata": {},
   "outputs": [],
   "source": [
    "## 모듈이 작성되면 현재 작성된 딕렉코리를 확인한다.  현재 윈도우즈의 결과를 보여준다"
   ]
  },
  {
   "cell_type": "code",
   "execution_count": 2,
   "metadata": {},
   "outputs": [
    {
     "name": "stdout",
     "output_type": "stream",
     "text": [
      " C 드라이브의 볼륨: OS\n",
      " 볼륨 일련 번호: 4663-F4E6\n",
      "\n",
      " C:\\Users\\John\\Documents\\GitHub\\python_book\\책쓰기_토마토\\파이썬 문법\\실습자료\\28장 디렉터리\n",
      "\n",
      "2019-02-01  오후 08:59    <DIR>          .\n",
      "2019-02-01  오후 08:59    <DIR>          ..\n",
      "2019-02-01  오후 08:31    <DIR>          .ipynb_checkpoints\n",
      "2019-02-01  오후 08:53    <DIR>          __pycache__\n",
      "2019-02-01  오후 07:45             3,157 chapter_28_1.ipynb\n",
      "2019-02-01  오후 07:45             7,860 chapter_28_2.ipynb\n",
      "2019-02-01  오후 08:59             3,976 chapter_28_3.ipynb\n",
      "2019-02-01  오후 09:00               436 main.py\n",
      "2019-02-01  오후 07:45               100 math_.py\n",
      "               5개 파일              15,529 바이트\n",
      "               4개 디렉터리  86,710,128,640 바이트 남음\n"
     ]
    }
   ],
   "source": [
    "%ls"
   ]
  },
  {
   "cell_type": "code",
   "execution_count": 2,
   "metadata": {},
   "outputs": [],
   "source": [
    "## 현재 모듈 파일을 %run 명령어로 실행한다"
   ]
  },
  {
   "cell_type": "code",
   "execution_count": 3,
   "metadata": {},
   "outputs": [
    {
     "name": "stdout",
     "output_type": "stream",
     "text": [
      "함수 add  실행  20\n",
      " 파이썬 객체 생성 <__main__.Python object at 0x0000018CEF554B38> 3.7\n"
     ]
    }
   ],
   "source": [
    "%run ./main.py"
   ]
  },
  {
   "cell_type": "code",
   "execution_count": null,
   "metadata": {},
   "outputs": [],
   "source": [
    "## 쉘에서 실행하면 느낌표에 파이썬 실행명령으로 실행한다 "
   ]
  },
  {
   "cell_type": "code",
   "execution_count": 4,
   "metadata": {},
   "outputs": [
    {
     "name": "stdout",
     "output_type": "stream",
     "text": [
      "함수 add  실행  20\n",
      " 파이썬 객체 생성 <__main__.Python object at 0x0000028E241EB4A8> 3.7\n"
     ]
    }
   ],
   "source": [
    "!python ./main.py"
   ]
  },
  {
   "cell_type": "code",
   "execution_count": null,
   "metadata": {},
   "outputs": [],
   "source": []
  },
  {
   "cell_type": "code",
   "execution_count": 5,
   "metadata": {},
   "outputs": [
    {
     "name": "stdout",
     "output_type": "stream",
     "text": [
      "import 처리된 모듈 \n"
     ]
    }
   ],
   "source": [
    "import main                          ## 이 모듈을 import 하면 if문이 아닌 else 이 실행된다"
   ]
  },
  {
   "cell_type": "code",
   "execution_count": 6,
   "metadata": {},
   "outputs": [
    {
     "data": {
      "text/plain": [
       "'main'"
      ]
     },
     "execution_count": 6,
     "metadata": {},
     "output_type": "execute_result"
    }
   ],
   "source": [
    "main.__name__                        ## 모듈의 이름을 확인하면 첫번째 사용하는 __main__이지만 import 하면 자기 이름을 출력한다"
   ]
  },
  {
   "cell_type": "code",
   "execution_count": null,
   "metadata": {},
   "outputs": [],
   "source": []
  },
  {
   "cell_type": "markdown",
   "metadata": {},
   "source": [
    "## 예제 28-3-2 모듈에 정의된 전역변수 참조하기 "
   ]
  },
  {
   "cell_type": "code",
   "execution_count": null,
   "metadata": {},
   "outputs": [],
   "source": []
  },
  {
   "cell_type": "code",
   "execution_count": 7,
   "metadata": {},
   "outputs": [
    {
     "name": "stdout",
     "output_type": "stream",
     "text": [
      "Writing main_1.py\n"
     ]
    }
   ],
   "source": [
    "%%writefile main_1.py\n",
    "\"\"\" 메인 1  모듈입니다. \"\"\"\n",
    "\n",
    "z = 100                             ## 모듈에 변수를 정의한다\n",
    "\n",
    "def add(x,y) :                    ## 함수를 정의한다\n",
    "    return x+y+z"
   ]
  },
  {
   "cell_type": "code",
   "execution_count": 8,
   "metadata": {},
   "outputs": [],
   "source": [
    "import main_1                ## 모듈을 import 한다"
   ]
  },
  {
   "cell_type": "code",
   "execution_count": 11,
   "metadata": {},
   "outputs": [
    {
     "data": {
      "text/plain": [
       "110"
      ]
     },
     "execution_count": 11,
     "metadata": {},
     "output_type": "execute_result"
    }
   ],
   "source": [
    "main_1.add(5,5)               ## 모듈 내의 함수를 실행한다. "
   ]
  },
  {
   "cell_type": "code",
   "execution_count": 14,
   "metadata": {},
   "outputs": [],
   "source": [
    "z = 999                           ## 현재 모듈에 변수 z를 정의한다"
   ]
  },
  {
   "cell_type": "code",
   "execution_count": null,
   "metadata": {},
   "outputs": [],
   "source": []
  },
  {
   "cell_type": "code",
   "execution_count": 15,
   "metadata": {},
   "outputs": [
    {
     "data": {
      "text/plain": [
       "'main_1'"
      ]
     },
     "execution_count": 15,
     "metadata": {},
     "output_type": "execute_result"
    }
   ],
   "source": [
    "main_1.add.__module__   ## 함수가 속한 모듈을 확인하면 함수가 작성된 모듈의 이름이다"
   ]
  },
  {
   "cell_type": "code",
   "execution_count": 16,
   "metadata": {},
   "outputs": [
    {
     "data": {
      "text/plain": [
       "110"
      ]
     },
     "execution_count": 16,
     "metadata": {},
     "output_type": "execute_result"
    }
   ],
   "source": [
    "main_1.add(5,5)             ## 모듈 내의 함수를 실행하면 그 모듈 내의 z 변수를 사용한다. 현재 모듈에서 정의한 변수 z는 사용하지 않는다"
   ]
  },
  {
   "cell_type": "code",
   "execution_count": 17,
   "metadata": {},
   "outputs": [],
   "source": [
    "main_1.z = 777              ## 직접 변수의 값을 변경하려면 import 한 모듈의 변수 z을 변경한다"
   ]
  },
  {
   "cell_type": "code",
   "execution_count": 18,
   "metadata": {},
   "outputs": [
    {
     "data": {
      "text/plain": [
       "787"
      ]
     },
     "execution_count": 18,
     "metadata": {},
     "output_type": "execute_result"
    }
   ],
   "source": [
    "main_1.add(5,5)            ## 다시 함수를 실행하면 함수가 속한 모듈의 z 변수의 값이 변경되어 새로운 값이 계산된다"
   ]
  },
  {
   "cell_type": "code",
   "execution_count": null,
   "metadata": {},
   "outputs": [],
   "source": []
  }
 ],
 "metadata": {
  "kernelspec": {
   "display_name": "Python 3",
   "language": "python",
   "name": "python3"
  },
  "language_info": {
   "codemirror_mode": {
    "name": "ipython",
    "version": 3
   },
   "file_extension": ".py",
   "mimetype": "text/x-python",
   "name": "python",
   "nbconvert_exporter": "python",
   "pygments_lexer": "ipython3",
   "version": "3.6.8"
  }
 },
 "nbformat": 4,
 "nbformat_minor": 2
}
