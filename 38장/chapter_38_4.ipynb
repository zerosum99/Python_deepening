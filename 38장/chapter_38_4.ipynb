{
 "cells": [
  {
   "cell_type": "markdown",
   "metadata": {},
   "source": [
    "## 예제 38-4-1  데코레이터 대상 객체"
   ]
  },
  {
   "cell_type": "code",
   "execution_count": 1,
   "metadata": {},
   "outputs": [],
   "source": [
    "def decorator(cls) :                         ## 데코레이터 대상을 클래스로 변경해서 처리하는 함수를 정의한다\n",
    "    def __init__(self,name) :               ## 초기화 함수를 함수 내부에 정의한다\n",
    "        self.name = name\n",
    "    cls.__init__ = __init__                      ## 클래스에 초기화 함수를 추가한다\n",
    "    return cls                                    ## 클래스를 반환한다"
   ]
  },
  {
   "cell_type": "code",
   "execution_count": null,
   "metadata": {},
   "outputs": [],
   "source": []
  },
  {
   "cell_type": "code",
   "execution_count": 2,
   "metadata": {},
   "outputs": [],
   "source": [
    "@decorator                                       ## 초기화 함수가 없는 클래스에 초기화 함수를 추가하는 데코레이터 처리를 한다\n",
    "class DecoratedClass :\n",
    "   \n",
    "    def method(self) :\n",
    "        return self.name"
   ]
  },
  {
   "cell_type": "code",
   "execution_count": null,
   "metadata": {},
   "outputs": [],
   "source": []
  },
  {
   "cell_type": "code",
   "execution_count": 3,
   "metadata": {},
   "outputs": [],
   "source": [
    "dec = DecoratedClass(\"데코레이터\")           ##  초기화를 처리할 때 하나의 인자를 받으므로 객체를 생성할 때 하나의 인자를  넣고 객체를 만든다"
   ]
  },
  {
   "cell_type": "code",
   "execution_count": 4,
   "metadata": {},
   "outputs": [
    {
     "data": {
      "text/plain": [
       "<__main__.DecoratedClass at 0x10ff00eb8>"
      ]
     },
     "execution_count": 4,
     "metadata": {},
     "output_type": "execute_result"
    }
   ],
   "source": [
    "dec"
   ]
  },
  {
   "cell_type": "code",
   "execution_count": 5,
   "metadata": {},
   "outputs": [
    {
     "data": {
      "text/plain": [
       "'데코레이터'"
      ]
     },
     "execution_count": 5,
     "metadata": {},
     "output_type": "execute_result"
    }
   ],
   "source": [
    "dec.method()                                   ## 메소드를 실행하면 객체 속성을 읽고 결과를 반환한다"
   ]
  },
  {
   "cell_type": "code",
   "execution_count": null,
   "metadata": {},
   "outputs": [],
   "source": []
  },
  {
   "cell_type": "code",
   "execution_count": 6,
   "metadata": {},
   "outputs": [],
   "source": [
    "@decorator                               ## 아무것도 하지않는 클래스에 데코레이터를 처리해서 초기화함수를 추가한다\n",
    "class Klass :\n",
    "    pass"
   ]
  },
  {
   "cell_type": "code",
   "execution_count": 7,
   "metadata": {},
   "outputs": [],
   "source": [
    "k = Klass(\"클래스 \")                 ## 하나의 객체를 만든다"
   ]
  },
  {
   "cell_type": "code",
   "execution_count": null,
   "metadata": {},
   "outputs": [],
   "source": []
  },
  {
   "cell_type": "code",
   "execution_count": 8,
   "metadata": {},
   "outputs": [
    {
     "data": {
      "text/plain": [
       "mappingproxy({'__module__': '__main__',\n",
       "              '__dict__': <attribute '__dict__' of 'Klass' objects>,\n",
       "              '__weakref__': <attribute '__weakref__' of 'Klass' objects>,\n",
       "              '__doc__': None,\n",
       "              '__init__': <function __main__.decorator.<locals>.__init__(self, name)>})"
      ]
     },
     "execution_count": 8,
     "metadata": {},
     "output_type": "execute_result"
    }
   ],
   "source": [
    "Klass.__dict__                    ## 클래스의 이름공간을 확인하면 초기화함수가 추가된 것을 알 수 있다"
   ]
  },
  {
   "cell_type": "code",
   "execution_count": 9,
   "metadata": {},
   "outputs": [
    {
     "data": {
      "text/plain": [
       "{'name': '클래스 '}"
      ]
     },
     "execution_count": 9,
     "metadata": {},
     "output_type": "execute_result"
    }
   ],
   "source": [
    "k.__dict__"
   ]
  },
  {
   "cell_type": "code",
   "execution_count": null,
   "metadata": {},
   "outputs": [],
   "source": []
  }
 ],
 "metadata": {
  "kernelspec": {
   "display_name": "Python 3",
   "language": "python",
   "name": "python3"
  },
  "language_info": {
   "codemirror_mode": {
    "name": "ipython",
    "version": 3
   },
   "file_extension": ".py",
   "mimetype": "text/x-python",
   "name": "python",
   "nbconvert_exporter": "python",
   "pygments_lexer": "ipython3",
   "version": "3.6.8"
  }
 },
 "nbformat": 4,
 "nbformat_minor": 2
}
