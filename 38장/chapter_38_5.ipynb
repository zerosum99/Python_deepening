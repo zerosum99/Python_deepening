{
 "cells": [
  {
   "cell_type": "markdown",
   "metadata": {},
   "source": [
    "## 예제 38-5-1  :  연속적인 숫자 덧셈과 곱셈 처리"
   ]
  },
  {
   "cell_type": "code",
   "execution_count": null,
   "metadata": {},
   "outputs": [],
   "source": []
  },
  {
   "cell_type": "code",
   "execution_count": 7,
   "metadata": {},
   "outputs": [],
   "source": [
    "def sigma(n) :                                          ##  숫자가 연속일 때 이 숫자들이 합을 구하는 함수를 정의한다\n",
    "    if n in [0] :\n",
    "        return 0\n",
    "    return n + sigma(n-1)                         ##   숫자를 연속해서 계산하기 위해 재귀호출을 사용한다"
   ]
  },
  {
   "cell_type": "code",
   "execution_count": 8,
   "metadata": {},
   "outputs": [
    {
     "data": {
      "text/plain": [
       "55"
      ]
     },
     "execution_count": 8,
     "metadata": {},
     "output_type": "execute_result"
    }
   ],
   "source": [
    "sigma(10)"
   ]
  },
  {
   "cell_type": "code",
   "execution_count": null,
   "metadata": {},
   "outputs": [],
   "source": []
  },
  {
   "cell_type": "code",
   "execution_count": 9,
   "metadata": {},
   "outputs": [],
   "source": [
    "def pie(n) :                                           ## 연속적인 수자를 곱하는 함수를 정의한다\n",
    "    if n in [0,1] :\n",
    "        return 1\n",
    "    return n * pie(n-1)                           ## 숫자를 연속해서 곱하기 위해 재귀호출을 사용한다"
   ]
  },
  {
   "cell_type": "code",
   "execution_count": 10,
   "metadata": {},
   "outputs": [
    {
     "data": {
      "text/plain": [
       "6"
      ]
     },
     "execution_count": 10,
     "metadata": {},
     "output_type": "execute_result"
    }
   ],
   "source": [
    "pie(3)"
   ]
  },
  {
   "cell_type": "code",
   "execution_count": null,
   "metadata": {},
   "outputs": [],
   "source": []
  },
  {
   "cell_type": "code",
   "execution_count": 102,
   "metadata": {},
   "outputs": [],
   "source": [
    "def sigma_(n,accum=0) :                 ## 꼬리 재귀호출을 이해 함수의 결과와 계산을 하지 않도록 변경한 함수를 정의한다\n",
    "    if n in [0] :\n",
    "        return accum\n",
    "    return sigma_(n-1, n+ accum)     ## 계산되는 상태를 보관하기위해 하나의 매개변수가 추가된다"
   ]
  },
  {
   "cell_type": "code",
   "execution_count": 103,
   "metadata": {},
   "outputs": [
    {
     "data": {
      "text/plain": [
       "55"
      ]
     },
     "execution_count": 103,
     "metadata": {},
     "output_type": "execute_result"
    }
   ],
   "source": [
    "sigma_(10)"
   ]
  },
  {
   "cell_type": "code",
   "execution_count": null,
   "metadata": {},
   "outputs": [],
   "source": []
  },
  {
   "cell_type": "code",
   "execution_count": 98,
   "metadata": {},
   "outputs": [],
   "source": [
    "def pie_(n, accum= 1) :         # 꼬리 재귀호출을 이해 함수의 결과와 계산을 하지 않도록 변경한 함수를 정의한다\n",
    "    if n in [0,1] :\n",
    "        return accum\n",
    "    return pie(n-1, n*accum) ## 계산되는 상태를 보관하기위해 하나의 매개변수가 추가된다"
   ]
  },
  {
   "cell_type": "code",
   "execution_count": 99,
   "metadata": {},
   "outputs": [
    {
     "data": {
      "text/plain": [
       "6"
      ]
     },
     "execution_count": 99,
     "metadata": {},
     "output_type": "execute_result"
    }
   ],
   "source": [
    "pie_(3)"
   ]
  },
  {
   "cell_type": "code",
   "execution_count": null,
   "metadata": {},
   "outputs": [],
   "source": []
  },
  {
   "cell_type": "code",
   "execution_count": 104,
   "metadata": {},
   "outputs": [],
   "source": [
    "class Sigma :                                                  ## 함수를 클래스로 변경한다\n",
    "    def __init__(self, expr) :\n",
    "        self._expr = expr                                         ## 일반항을 문자열로 보관한다\n",
    "        \n",
    "    def sigma(self) :                                            ## 연속적인 값을 계산하는 함수를 정의한다\n",
    "        \n",
    "        def inner(self,n,accum= 0) :                            ## 내부함수에서  재귀호출하는 구조를 만든다\n",
    "            if n in [0] :\n",
    "                accum= accum + eval(self._expr)               ## 표현식을 eval을 실행해서 값을 구한다\n",
    "                return accum\n",
    "            else :\n",
    "                return inner(self,n-1, (accum + eval(self._expr)))      ## 재귀호출할 때 함수와 별도의 연산을 수행하지 않는다\n",
    "        \n",
    "        return inner\n",
    "        "
   ]
  },
  {
   "cell_type": "code",
   "execution_count": null,
   "metadata": {},
   "outputs": [],
   "source": []
  },
  {
   "cell_type": "code",
   "execution_count": 105,
   "metadata": {},
   "outputs": [],
   "source": [
    "s = Sigma(\"2*n+1\")          ## 일반항을 가진 객체를 만든다"
   ]
  },
  {
   "cell_type": "code",
   "execution_count": 106,
   "metadata": {},
   "outputs": [
    {
     "data": {
      "text/plain": [
       "121"
      ]
     },
     "execution_count": 106,
     "metadata": {},
     "output_type": "execute_result"
    }
   ],
   "source": [
    "s.sigma()(s,10)               ## 연속적인 숫자 계산인 메소드를 실행한 후에 내부함수를 반환받아 계산을 한다"
   ]
  },
  {
   "cell_type": "code",
   "execution_count": null,
   "metadata": {},
   "outputs": [],
   "source": []
  }
 ],
 "metadata": {
  "kernelspec": {
   "display_name": "Python 3",
   "language": "python",
   "name": "python3"
  },
  "language_info": {
   "codemirror_mode": {
    "name": "ipython",
    "version": 3
   },
   "file_extension": ".py",
   "mimetype": "text/x-python",
   "name": "python",
   "nbconvert_exporter": "python",
   "pygments_lexer": "ipython3",
   "version": "3.6.8"
  }
 },
 "nbformat": 4,
 "nbformat_minor": 2
}
