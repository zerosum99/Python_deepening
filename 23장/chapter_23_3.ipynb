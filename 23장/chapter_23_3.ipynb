{
 "cells": [
  {
   "cell_type": "markdown",
   "metadata": {},
   "source": [
    "##  예제 23-3-1 :  재귀함수 실행시 객체 이름공간 이용하기"
   ]
  },
  {
   "cell_type": "code",
   "execution_count": 1,
   "metadata": {},
   "outputs": [],
   "source": [
    "def recusion(iterable) :                                      ## 하나의 매개변수를 가지는 재귀 함수를 정의한다\n",
    "    \n",
    "    if not isinstance(iterable, list) :                      ## 매개변수의 자료형을 처리한다. 리스트 클래스가 아니면 함수를 종료한다\n",
    "        return \"처리할 수 없습니다.\"\n",
    "    \n",
    "    if not hasattr(recusion,\"result\") :                    ## 함수 객체에 속성이 있는지를 확인하고 없으면 속성을 추가하고 빈 리스트를 할당한다\n",
    "        recusion.result = []\n",
    "        \n",
    "    if len(iterable) == 1 :                                        ##  반복하는 원소의 길이가 1이면 이 함수를 종료한다\n",
    "        recusion.result.append(iterable.pop())        ##  마지막 원소를 함수 객체의 속성에 추가하고 함수를 종료한다\n",
    "        return None\n",
    "        \n",
    "    recusion.result.append(iterable.pop(0))          ## 원소의 하나씩 객체의 속성에 추가한ㄴ다\n",
    "    return recusion(iterable)                               ##  자기 함수를 호출한다"
   ]
  },
  {
   "cell_type": "code",
   "execution_count": null,
   "metadata": {},
   "outputs": [],
   "source": []
  },
  {
   "cell_type": "code",
   "execution_count": 2,
   "metadata": {},
   "outputs": [],
   "source": [
    "recusion([1,2,3,4])                             ## 함수를 실행한다"
   ]
  },
  {
   "cell_type": "code",
   "execution_count": 3,
   "metadata": {},
   "outputs": [
    {
     "data": {
      "text/plain": [
       "[1, 2, 3, 4]"
      ]
     },
     "execution_count": 3,
     "metadata": {},
     "output_type": "execute_result"
    }
   ],
   "source": [
    "recusion.result                                  ## 함수 객체의 속성을 확인하면 함수 실행할 때 인자로 전달한 리스트가 들어가 있다"
   ]
  },
  {
   "cell_type": "code",
   "execution_count": null,
   "metadata": {},
   "outputs": [],
   "source": []
  },
  {
   "cell_type": "code",
   "execution_count": 4,
   "metadata": {},
   "outputs": [
    {
     "data": {
      "text/plain": [
       "'처리할 수 없습니다.'"
      ]
     },
     "execution_count": 4,
     "metadata": {},
     "output_type": "execute_result"
    }
   ],
   "source": [
    "recusion(\"문자열 가능여부\")                ## 문자열을 넣고 함수를 실행하면  리스트가 아니라서  처리할 수 없다는 메시지를 받는다"
   ]
  },
  {
   "cell_type": "code",
   "execution_count": null,
   "metadata": {},
   "outputs": [],
   "source": []
  }
 ],
 "metadata": {
  "kernelspec": {
   "display_name": "Python 3",
   "language": "python",
   "name": "python3"
  },
  "language_info": {
   "codemirror_mode": {
    "name": "ipython",
    "version": 3
   },
   "file_extension": ".py",
   "mimetype": "text/x-python",
   "name": "python",
   "nbconvert_exporter": "python",
   "pygments_lexer": "ipython3",
   "version": "3.6.8"
  }
 },
 "nbformat": 4,
 "nbformat_minor": 2
}
