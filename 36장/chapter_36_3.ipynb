{
 "cells": [
  {
   "cell_type": "markdown",
   "metadata": {},
   "source": [
    "## 예제 36-3-1 오버라이딩"
   ]
  },
  {
   "cell_type": "code",
   "execution_count": null,
   "metadata": {},
   "outputs": [],
   "source": []
  },
  {
   "cell_type": "code",
   "execution_count": 1,
   "metadata": {},
   "outputs": [],
   "source": [
    "class Overriding :                                   ## 상위 클래스 하나를 정의한다\n",
    "    def __init__(self,seq) :                          ## 초기화 함수를 정의한다\n",
    "        self.seq = seq\n",
    "        \n",
    "    def getSeq(self) :                                ## 객체의 속성을 조회하는 함수를 정의한다\n",
    "        return self.seq"
   ]
  },
  {
   "cell_type": "code",
   "execution_count": 10,
   "metadata": {},
   "outputs": [],
   "source": [
    "class Child(Overriding) :                         ## 상위 클래스를 상속한 하위 클래스를 정의한다\n",
    "    pass                                                   ## 클래스 내부에 별도의 속성과 함수를 정의하지 않는다"
   ]
  },
  {
   "cell_type": "code",
   "execution_count": null,
   "metadata": {},
   "outputs": [],
   "source": []
  },
  {
   "cell_type": "code",
   "execution_count": 11,
   "metadata": {},
   "outputs": [],
   "source": [
    "o = Overriding(\" 부모클래스 \")                ##  하나의 객체를 만든다"
   ]
  },
  {
   "cell_type": "code",
   "execution_count": 12,
   "metadata": {},
   "outputs": [
    {
     "data": {
      "text/plain": [
       "' 부모클래스 '"
      ]
     },
     "execution_count": 12,
     "metadata": {},
     "output_type": "execute_result"
    }
   ],
   "source": [
    "o.getSeq()                                               ##  객체에서 메소드가 실행한다"
   ]
  },
  {
   "cell_type": "code",
   "execution_count": null,
   "metadata": {},
   "outputs": [],
   "source": []
  },
  {
   "cell_type": "code",
   "execution_count": 13,
   "metadata": {},
   "outputs": [],
   "source": [
    "c = Child(\"자식 클래스\")                           ## 상속받은 자식 클래스의 객체를 하나 만든다"
   ]
  },
  {
   "cell_type": "code",
   "execution_count": 15,
   "metadata": {},
   "outputs": [
    {
     "data": {
      "text/plain": [
       "'자식 클래스'"
      ]
     },
     "execution_count": 15,
     "metadata": {},
     "output_type": "execute_result"
    }
   ],
   "source": [
    "c.getSeq()                      ## 자식 클래스에는 아무런 함수도 정의하지 않았지만 부모 클래스의 함수를 메소드로 사용할 수 있다 "
   ]
  },
  {
   "cell_type": "code",
   "execution_count": null,
   "metadata": {},
   "outputs": [],
   "source": []
  },
  {
   "cell_type": "code",
   "execution_count": 17,
   "metadata": {},
   "outputs": [],
   "source": [
    "class Child_(Overriding) :                         ## 부모 클래스에 있는 함수를 자식 클래스에서 재정의한 클래스를 만든다\n",
    "    def getSeq(self, value) :                       ## 부모 클래스의 함수에 추가적인 매개변수를 정의한다\n",
    "        return self.seq + str(value)               ## 객체의 속성과 인자로 전달된 값을 문자열로 변환한 후에 두 문자열을 하나로 처리한다"
   ]
  },
  {
   "cell_type": "code",
   "execution_count": 18,
   "metadata": {},
   "outputs": [],
   "source": [
    "c_ = Child_(\"오버라이딩 클래스\")                 ## 객체를 하나 만든다"
   ]
  },
  {
   "cell_type": "code",
   "execution_count": null,
   "metadata": {},
   "outputs": [],
   "source": []
  },
  {
   "cell_type": "code",
   "execution_count": 19,
   "metadata": {},
   "outputs": [
    {
     "ename": "TypeError",
     "evalue": "getSeq() missing 1 required positional argument: 'value'",
     "output_type": "error",
     "traceback": [
      "\u001b[1;31m---------------------------------------------------------------------------\u001b[0m",
      "\u001b[1;31mTypeError\u001b[0m                                 Traceback (most recent call last)",
      "\u001b[1;32m<ipython-input-19-59f3b4482e20>\u001b[0m in \u001b[0;36m<module>\u001b[1;34m\u001b[0m\n\u001b[1;32m----> 1\u001b[1;33m \u001b[0mc_\u001b[0m\u001b[1;33m.\u001b[0m\u001b[0mgetSeq\u001b[0m\u001b[1;33m(\u001b[0m\u001b[1;33m)\u001b[0m\u001b[1;33m\u001b[0m\u001b[1;33m\u001b[0m\u001b[0m\n\u001b[0m",
      "\u001b[1;31mTypeError\u001b[0m: getSeq() missing 1 required positional argument: 'value'"
     ]
    }
   ],
   "source": [
    "c_.getSeq()         ## 자식 클래스의 객체에서 아무런 인자가 없는 메소드를 호출하면 예외를 발생시킽다\n",
    "            ##  이 이유는 오버라이딩된 메소드는 현재 클래스의 이름공간에 있는 것을 참조하면 하나의 인자를 전달해야 이 메소드가 실행된다\n",
    "                    ##  인자를 전달하 않아서 예외를 발생한다 "
   ]
  },
  {
   "cell_type": "code",
   "execution_count": 20,
   "metadata": {},
   "outputs": [
    {
     "data": {
      "text/plain": [
       "'오버라이딩 클래스100'"
      ]
     },
     "execution_count": 20,
     "metadata": {},
     "output_type": "execute_result"
    }
   ],
   "source": [
    "c_.getSeq(100)                      ## 하나의 정수를 인자로 전달하면  출력이 된다"
   ]
  },
  {
   "cell_type": "code",
   "execution_count": null,
   "metadata": {},
   "outputs": [],
   "source": []
  },
  {
   "cell_type": "code",
   "execution_count": 22,
   "metadata": {},
   "outputs": [],
   "source": [
    "class Child_1(Overriding) :                          ## 초기화 함수와 일반 함수를 오버라이딩 처리하는 클래스를 정의한다\n",
    "    def __init__(self, seq, message) :\n",
    "        self.seq = seq + message\n",
    "    \n",
    "    def getSeq(self, value) :\n",
    "        return self.seq + str(value)"
   ]
  },
  {
   "cell_type": "code",
   "execution_count": null,
   "metadata": {},
   "outputs": [],
   "source": []
  },
  {
   "cell_type": "code",
   "execution_count": 23,
   "metadata": {},
   "outputs": [],
   "source": [
    "c_1 = Child_1(\"자식클래스\",\"스페셜 메소드\")            ## 객체를 생성한다"
   ]
  },
  {
   "cell_type": "code",
   "execution_count": 24,
   "metadata": {},
   "outputs": [
    {
     "data": {
      "text/plain": [
       "'자식클래스스페셜 메소드200'"
      ]
     },
     "execution_count": 24,
     "metadata": {},
     "output_type": "execute_result"
    }
   ],
   "source": [
    "c_1.getSeq(200)                                 ## 함수에 정수를 넣고 조회하면 두 개의  문자열이 연결되어 하나의 문자열로 처리된다"
   ]
  },
  {
   "cell_type": "code",
   "execution_count": null,
   "metadata": {},
   "outputs": [],
   "source": []
  },
  {
   "cell_type": "code",
   "execution_count": 25,
   "metadata": {},
   "outputs": [],
   "source": [
    "class Child_2(Overriding) :                                  ## 오버라이딩 될 때 기본은 상위 클래스의 함수들을 재활용이\n",
    "    def __init__(self, seq, message) :\n",
    "        super().__init__(seq)           ## 오버라이딩 될 때 기본은 상위 클래스를 super 객체로 접근해서 실행하고 추가적인 것만 정의한다다 \n",
    "        self.seq = self.seq + message\n",
    "    \n",
    "    def getSeq(self, value) :\n",
    "        return self.seq + str(value)"
   ]
  },
  {
   "cell_type": "code",
   "execution_count": 26,
   "metadata": {},
   "outputs": [],
   "source": [
    "c_2 = Child_2(\"자식클래스\",\"스페셜 메소드\")"
   ]
  },
  {
   "cell_type": "code",
   "execution_count": 27,
   "metadata": {},
   "outputs": [
    {
     "data": {
      "text/plain": [
       "'자식클래스스페셜 메소드300'"
      ]
     },
     "execution_count": 27,
     "metadata": {},
     "output_type": "execute_result"
    }
   ],
   "source": [
    "c_2.getSeq(300)"
   ]
  },
  {
   "cell_type": "code",
   "execution_count": null,
   "metadata": {},
   "outputs": [],
   "source": []
  }
 ],
 "metadata": {
  "kernelspec": {
   "display_name": "Python 3",
   "language": "python",
   "name": "python3"
  },
  "language_info": {
   "codemirror_mode": {
    "name": "ipython",
    "version": 3
   },
   "file_extension": ".py",
   "mimetype": "text/x-python",
   "name": "python",
   "nbconvert_exporter": "python",
   "pygments_lexer": "ipython3",
   "version": "3.7.3"
  }
 },
 "nbformat": 4,
 "nbformat_minor": 2
}
