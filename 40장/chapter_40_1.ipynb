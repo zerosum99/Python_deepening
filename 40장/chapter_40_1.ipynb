{
 "cells": [
  {
   "cell_type": "markdown",
   "metadata": {},
   "source": [
    "## 예제 40-1-1  추상메타클래스와 추상클래스"
   ]
  },
  {
   "cell_type": "code",
   "execution_count": 1,
   "metadata": {},
   "outputs": [],
   "source": [
    "import abc                    ## 추상 클래스를 처리하는 모듈을 사용한다"
   ]
  },
  {
   "cell_type": "code",
   "execution_count": 2,
   "metadata": {},
   "outputs": [
    {
     "name": "stdout",
     "output_type": "stream",
     "text": [
      "ABC\n",
      "ABCMeta\n",
      "abstractclassmethod\n",
      "abstractmethod\n",
      "abstractproperty\n",
      "abstractstaticmethod\n",
      "get_cache_token\n"
     ]
    }
   ],
   "source": [
    "for i in dir(abc):                 ## 이 모듈 내에 있는 클래스와 함수를 확인한다\n",
    "    if not i.startswith(\"_\"):\n",
    "        print(i)"
   ]
  },
  {
   "cell_type": "code",
   "execution_count": null,
   "metadata": {},
   "outputs": [],
   "source": []
  },
  {
   "cell_type": "code",
   "execution_count": 3,
   "metadata": {},
   "outputs": [
    {
     "data": {
      "text/plain": [
       "False"
      ]
     },
     "execution_count": 3,
     "metadata": {},
     "output_type": "execute_result"
    }
   ],
   "source": [
    "issubclass(abc.ABC, abc.ABCMeta)       ## 추상클래스와 추상 메타 클래스의 상속관계를 확인하면 성립하지 않는다"
   ]
  },
  {
   "cell_type": "code",
   "execution_count": 4,
   "metadata": {},
   "outputs": [
    {
     "data": {
      "text/plain": [
       "True"
      ]
     },
     "execution_count": 4,
     "metadata": {},
     "output_type": "execute_result"
    }
   ],
   "source": [
    "isinstance(abc.ABC, abc.ABCMeta)      ## 추상 클래스도 추상 메타 클래스로 생성하는 것을 알 수 있다"
   ]
  },
  {
   "cell_type": "code",
   "execution_count": null,
   "metadata": {},
   "outputs": [],
   "source": []
  },
  {
   "cell_type": "code",
   "execution_count": 5,
   "metadata": {},
   "outputs": [],
   "source": [
    "class MyABC(metaclass=abc.ABCMeta):          ## 사용자 추상 클래스를 만들려면 metaclass 매개변수에 추상메타 클래스를 지정한다\n",
    "    \n",
    "    @abc.abstractmethod                     ## 반드시 구현할 메소드를  데코레이터로 지정한다\n",
    "    def foo(self,) :\n",
    "        pass\n"
   ]
  },
  {
   "cell_type": "code",
   "execution_count": 6,
   "metadata": {},
   "outputs": [],
   "source": [
    "class MyCon(MyABC):                        ## 추상 클래스를 상속하는 구현 클래스를 정의한다\n",
    "    pass                                   ## 추상 메소드를 구현하지 않았다"
   ]
  },
  {
   "cell_type": "code",
   "execution_count": null,
   "metadata": {},
   "outputs": [],
   "source": []
  },
  {
   "cell_type": "code",
   "execution_count": 7,
   "metadata": {},
   "outputs": [
    {
     "ename": "TypeError",
     "evalue": "Can't instantiate abstract class MyCon with abstract methods foo",
     "output_type": "error",
     "traceback": [
      "\u001b[0;31m---------------------------------------------------------------------------\u001b[0m",
      "\u001b[0;31mTypeError\u001b[0m                                 Traceback (most recent call last)",
      "\u001b[0;32m<ipython-input-7-a115bcd30f98>\u001b[0m in \u001b[0;36m<module>\u001b[0;34m\u001b[0m\n\u001b[0;32m----> 1\u001b[0;31m \u001b[0mm\u001b[0m \u001b[0;34m=\u001b[0m \u001b[0mMyCon\u001b[0m\u001b[0;34m(\u001b[0m\u001b[0;34m)\u001b[0m\u001b[0;34m\u001b[0m\u001b[0;34m\u001b[0m\u001b[0m\n\u001b[0m",
      "\u001b[0;31mTypeError\u001b[0m: Can't instantiate abstract class MyCon with abstract methods foo"
     ]
    }
   ],
   "source": [
    "m = MyCon()                                   ## 구현 클래스의 객체를 생성할 때 추상 메소드를 구현하지 않아서 예외가 발생한다"
   ]
  },
  {
   "cell_type": "code",
   "execution_count": null,
   "metadata": {},
   "outputs": [],
   "source": []
  },
  {
   "cell_type": "code",
   "execution_count": 8,
   "metadata": {},
   "outputs": [],
   "source": [
    "class MyCon_(MyABC):                   ## 추상 클래스를 상속하는 구현 클래스를 정의한다\n",
    "    def foo(self) :                    ## 추상 메소드에 해당하는 함수를 반드시 구현한다\n",
    "        print(\" foo 구현 \")"
   ]
  },
  {
   "cell_type": "code",
   "execution_count": 9,
   "metadata": {},
   "outputs": [],
   "source": [
    "m = MyCon_()                          ## 객체를 생성한다. 추상 메소드가 구현되어 예외가 발생하지 않느다"
   ]
  },
  {
   "cell_type": "code",
   "execution_count": 10,
   "metadata": {},
   "outputs": [
    {
     "name": "stdout",
     "output_type": "stream",
     "text": [
      " foo 구현 \n"
     ]
    }
   ],
   "source": [
    "m.foo()                               ## 메소드를 실행하면 구현된 print 함수를 실행한다"
   ]
  },
  {
   "cell_type": "code",
   "execution_count": null,
   "metadata": {},
   "outputs": [],
   "source": []
  },
  {
   "cell_type": "code",
   "execution_count": 11,
   "metadata": {},
   "outputs": [
    {
     "data": {
      "text/plain": [
       "True"
      ]
     },
     "execution_count": 11,
     "metadata": {},
     "output_type": "execute_result"
    }
   ],
   "source": [
    "issubclass(MyCon, MyABC)             ## 구현 클래스와 추상 클래스는 상속관계"
   ]
  },
  {
   "cell_type": "code",
   "execution_count": 12,
   "metadata": {},
   "outputs": [
    {
     "data": {
      "text/plain": [
       "True"
      ]
     },
     "execution_count": 12,
     "metadata": {},
     "output_type": "execute_result"
    }
   ],
   "source": [
    "isinstance(m, MyABC)                ## 추상클래스와 구현 클래스의 객체는 생성관계"
   ]
  },
  {
   "cell_type": "code",
   "execution_count": null,
   "metadata": {},
   "outputs": [],
   "source": []
  },
  {
   "cell_type": "markdown",
   "metadata": {},
   "source": [
    "## 예제 40-1-2 추상메소드 처리 알아보기 "
   ]
  },
  {
   "cell_type": "code",
   "execution_count": 13,
   "metadata": {},
   "outputs": [],
   "source": [
    "from abc import *                ## 추상 클래스 내의 모든 것을 사용한다 "
   ]
  },
  {
   "cell_type": "code",
   "execution_count": 14,
   "metadata": {},
   "outputs": [],
   "source": [
    "class BaseCS(metaclass=ABCMeta):          ## 추상 클래스를 정의한다 \n",
    "    @abstractmethod                       ## 추상 메소드를 정의한다\n",
    "    def foo(self):\n",
    "        pass\n",
    "    \n",
    "    @abstractmethod\n",
    "    def bar(self):\n",
    "        pass\n",
    "    \n",
    "    @classmethod                         ##  두개의 데코레이터를 연속으로 사용해서 추상메소드 중에 클래스메소드를 정의한다\n",
    "    @abstractmethod\n",
    "    def clsmethod(cls):\n",
    "        pass\n",
    "    \n",
    "    @staticmethod                        ## 두개의 데코레이터를 연속으로 사용해서 추상메소드중에 정적메소드를 정의한다\n",
    "    @abstractmethod\n",
    "    def stamethod(a):\n",
    "        pass\n",
    "    \n",
    "    @property                           ## 두개의 데코레이터를 연속으로 사용해서 추상메소드중에  프로퍼티 메소드를 정의한다\n",
    "    @abstractmethod\n",
    "    def propmethod(self):\n",
    "        pass"
   ]
  },
  {
   "cell_type": "code",
   "execution_count": null,
   "metadata": {},
   "outputs": [],
   "source": []
  },
  {
   "cell_type": "code",
   "execution_count": 15,
   "metadata": {},
   "outputs": [],
   "source": [
    "class Concrete_CS(BaseCS):         ## 구현 클래스를 정의할 때 두 개의 추상메소드만 구현했다\n",
    "    def foo(self):\n",
    "        pass\n",
    "    \n",
    "    def bar(self):\n",
    "        pass"
   ]
  },
  {
   "cell_type": "code",
   "execution_count": null,
   "metadata": {},
   "outputs": [],
   "source": []
  },
  {
   "cell_type": "code",
   "execution_count": 16,
   "metadata": {},
   "outputs": [
    {
     "ename": "TypeError",
     "evalue": "Can't instantiate abstract class Concrete_CS with abstract methods clsmethod, propmethod, stamethod",
     "output_type": "error",
     "traceback": [
      "\u001b[0;31m---------------------------------------------------------------------------\u001b[0m",
      "\u001b[0;31mTypeError\u001b[0m                                 Traceback (most recent call last)",
      "\u001b[0;32m<ipython-input-16-be7a1b06c27d>\u001b[0m in \u001b[0;36m<module>\u001b[0;34m\u001b[0m\n\u001b[0;32m----> 1\u001b[0;31m \u001b[0mc\u001b[0m \u001b[0;34m=\u001b[0m \u001b[0mConcrete_CS\u001b[0m\u001b[0;34m(\u001b[0m\u001b[0;34m)\u001b[0m\u001b[0;34m\u001b[0m\u001b[0;34m\u001b[0m\u001b[0m\n\u001b[0m",
      "\u001b[0;31mTypeError\u001b[0m: Can't instantiate abstract class Concrete_CS with abstract methods clsmethod, propmethod, stamethod"
     ]
    }
   ],
   "source": [
    "c = Concrete_CS()          ## 객체를 생성하면 모든 것을 구현하지 않았다고 예외를 발생시킨다"
   ]
  },
  {
   "cell_type": "code",
   "execution_count": null,
   "metadata": {},
   "outputs": [],
   "source": []
  },
  {
   "cell_type": "code",
   "execution_count": 17,
   "metadata": {},
   "outputs": [],
   "source": [
    "class Concrete_CS1(BaseCS):          ## 추상 메소드들을 전부 구현한다\n",
    "    def foo(self):\n",
    "        pass\n",
    "    \n",
    "    def bar(self):\n",
    "        pass\n",
    "    \n",
    "    @classmethod\n",
    "    def clsmethod(cls):\n",
    "        pass\n",
    "    \n",
    "    @staticmethod\n",
    "    def stamethod(a):\n",
    "        pass\n",
    "    \n",
    "    @property\n",
    "    def propmethod(self):\n",
    "        pass"
   ]
  },
  {
   "cell_type": "code",
   "execution_count": 18,
   "metadata": {},
   "outputs": [],
   "source": [
    "cs1 = Concrete_CS1()              ## 객체를 생성한다"
   ]
  },
  {
   "cell_type": "code",
   "execution_count": 19,
   "metadata": {},
   "outputs": [
    {
     "data": {
      "text/plain": [
       "True"
      ]
     },
     "execution_count": 19,
     "metadata": {},
     "output_type": "execute_result"
    }
   ],
   "source": [
    "issubclass(Concrete_CS1, BaseCS)\n"
   ]
  },
  {
   "cell_type": "code",
   "execution_count": 20,
   "metadata": {},
   "outputs": [
    {
     "data": {
      "text/plain": [
       "True"
      ]
     },
     "execution_count": 20,
     "metadata": {},
     "output_type": "execute_result"
    }
   ],
   "source": [
    "isinstance(cs1, BaseCS)"
   ]
  },
  {
   "cell_type": "code",
   "execution_count": null,
   "metadata": {},
   "outputs": [],
   "source": []
  }
 ],
 "metadata": {
  "kernelspec": {
   "display_name": "Python 3",
   "language": "python",
   "name": "python3"
  },
  "language_info": {
   "codemirror_mode": {
    "name": "ipython",
    "version": 3
   },
   "file_extension": ".py",
   "mimetype": "text/x-python",
   "name": "python",
   "nbconvert_exporter": "python",
   "pygments_lexer": "ipython3",
   "version": "3.7.3"
  }
 },
 "nbformat": 4,
 "nbformat_minor": 2
}
