{
 "cells": [
  {
   "cell_type": "markdown",
   "metadata": {},
   "source": [
    "## 예제 6-2-1  주석달기"
   ]
  },
  {
   "cell_type": "code",
   "execution_count": 1,
   "metadata": {},
   "outputs": [],
   "source": [
    "## 모듈을 추가적으로 만들고 내부에 주석을 두 개  작성합니다 "
   ]
  },
  {
   "cell_type": "code",
   "execution_count": 2,
   "metadata": {},
   "outputs": [
    {
     "name": "stdout",
     "output_type": "stream",
     "text": [
      "Overwriting math_.py\n"
     ]
    }
   ],
   "source": [
    "%%writefile math_.py\n",
    "\"\"\" 이 모듈에는 기존 수학 모듈을 이용해서 추가로 구성된 모듈입니다. \"\"\"\n",
    "\n",
    "\n",
    "# math 모듈을 import 합니다.\n",
    "import math\n",
    "\n",
    "# 모듈내에 변수에 기존 모듈을 할당합니다.\n",
    "math_ = math"
   ]
  },
  {
   "cell_type": "code",
   "execution_count": 3,
   "metadata": {},
   "outputs": [],
   "source": [
    "import math_                                   ## 새로 작성된  모듈을 import 합니다 "
   ]
  },
  {
   "cell_type": "code",
   "execution_count": 4,
   "metadata": {},
   "outputs": [],
   "source": [
    "b = math_.math_.fsum.__doc__           ##  이 모듈의 변수에 할당한 math 내의  fsum 함수의 문서화 속성을 변수에 할당한다 "
   ]
  },
  {
   "cell_type": "code",
   "execution_count": 5,
   "metadata": {},
   "outputs": [
    {
     "name": "stdout",
     "output_type": "stream",
     "text": [
      "fsum(iterable)\n",
      "\n",
      "Return an accurate floating point sum of values in the iterable.\n",
      "Assumes IEEE-754 floating point arithmetic.\n"
     ]
    }
   ],
   "source": [
    "print(b)                                              ##  fsum 내의 문서화 정보를 문자열로 출력한다"
   ]
  },
  {
   "cell_type": "code",
   "execution_count": 6,
   "metadata": {},
   "outputs": [
    {
     "data": {
      "text/plain": [
       "10.0"
      ]
     },
     "execution_count": 6,
     "metadata": {},
     "output_type": "execute_result"
    }
   ],
   "source": [
    "math_.math_.fsum([1,2,3,4])               ##  fsum  함수에  리스트를 인자로 전달해서 모든 원소들을 합산한다."
   ]
  },
  {
   "cell_type": "code",
   "execution_count": 7,
   "metadata": {},
   "outputs": [],
   "source": [
    "## 두 개의 함수를 하나의 모듈에 작성합니다. \n",
    "## 이 모듈의 첫번째 문장에 주석을 넣었습니다. 문서화가 가능한 지를 알아봅니다."
   ]
  },
  {
   "cell_type": "code",
   "execution_count": 14,
   "metadata": {},
   "outputs": [
    {
     "name": "stdout",
     "output_type": "stream",
     "text": [
      "Overwriting fibo.py\n"
     ]
    }
   ],
   "source": [
    "%%writefile fibo.py\n",
    "#  피보너치를 처리하는 모듈입니다. \n",
    "\n",
    "def fib(n):                         ## 피보너치 함수를 호출하면 결과 값을 출력합니다. \n",
    "    a, b = 0, 1\n",
    "    while a <= n:                  ## 반복을 조건식이 만족할 때까지 처리한다.\n",
    "        print(a, end=' ')         ##  값을 한 라인에 출력하기 위해  end=\"\" 로 지정해서 개행문자를 빈 문자열로 만듭니다.\n",
    "        a, b = b, a+b              ## 피보너치 계산을 하기위해 로직을 처리합니다\n",
    "    print()\n",
    "\n",
    "def fib2(n):                       ##  피보너치 함수를 호출하면 ㄹreturn Fibonacci series up to n\n",
    "    result = []\n",
    "    a, b = 0, 1\n",
    "    while a <= n:\n",
    "        result.append(a)\n",
    "        a, b = b, a+b\n",
    "    return result"
   ]
  },
  {
   "cell_type": "code",
   "execution_count": 15,
   "metadata": {},
   "outputs": [],
   "source": [
    "import fibo       ## 피보너치 모듈을 import 합니다"
   ]
  },
  {
   "cell_type": "code",
   "execution_count": 16,
   "metadata": {},
   "outputs": [],
   "source": [
    "fibo.__doc__      ##   이 모듈의  문서화된 속성 __doc__를 조회하면 아무것도 없습니다.\n",
    "                        ##  주석은 문서화로 처리가 안되는 것을 알 수 있습니다."
   ]
  },
  {
   "cell_type": "code",
   "execution_count": null,
   "metadata": {},
   "outputs": [],
   "source": []
  },
  {
   "cell_type": "code",
   "execution_count": 17,
   "metadata": {},
   "outputs": [
    {
     "name": "stdout",
     "output_type": "stream",
     "text": [
      "0 1 1 2 3 5 8 \n"
     ]
    }
   ],
   "source": [
    "fibo.fib(10)       ##  피보너치 모듈에서 fib 함수에 10을 넣고 실행하면  10보다 작은 경우까지 계산합니다"
   ]
  },
  {
   "cell_type": "code",
   "execution_count": 18,
   "metadata": {},
   "outputs": [
    {
     "data": {
      "text/plain": [
       "[0, 1, 1, 2, 3, 5, 8]"
      ]
     },
     "execution_count": 18,
     "metadata": {},
     "output_type": "execute_result"
    }
   ],
   "source": [
    "fibo.fib2(10)   ##  피보너치 모듈에서 fib 함수에 10을 넣고 실행하면  10보다 작은 경우까지 계산합니다"
   ]
  },
  {
   "cell_type": "code",
   "execution_count": 19,
   "metadata": {},
   "outputs": [],
   "source": [
    "## 주피터 노트북 명령어 %load를 수행하면 해당하는 모듈을 셀에 로딩합니다"
   ]
  },
  {
   "cell_type": "code",
   "execution_count": null,
   "metadata": {},
   "outputs": [],
   "source": [
    "# %load fibo.py\n",
    "#  피보너치를 처리하는 모듈입니다. \n",
    "\n",
    "def fib(n):                         ## 피보너치 함수를 호출하면 결과 값을 출력합니다. \n",
    "    a, b = 0, 1\n",
    "    while a <= n:                  ## 반복을 조건식이 만족할 때까지 처리한다.\n",
    "        print(a, end=' ')         ##  값을 한 라인에 출력하기 위해  end=\"\" 로 지정해서 개행문자를 빈 문자열로 만듭니다.\n",
    "        a, b = b, a+b              ## 피보너치 계산을 하기위해 로직을 처리합니다\n",
    "    print()\n",
    "\n",
    "def fib2(n):                       ##  피보너치 함수를 호출하면 ㄹreturn Fibonacci series up to n\n",
    "    result = []\n",
    "    a, b = 0, 1\n",
    "    while a <= n:\n",
    "        result.append(a)\n",
    "        a, b = b, a+b\n",
    "    return result\n"
   ]
  },
  {
   "cell_type": "code",
   "execution_count": null,
   "metadata": {},
   "outputs": [],
   "source": []
  },
  {
   "cell_type": "code",
   "execution_count": null,
   "metadata": {},
   "outputs": [],
   "source": []
  }
 ],
 "metadata": {
  "kernelspec": {
   "display_name": "Python 3",
   "language": "python",
   "name": "python3"
  },
  "language_info": {
   "codemirror_mode": {
    "name": "ipython",
    "version": 3
   },
   "file_extension": ".py",
   "mimetype": "text/x-python",
   "name": "python",
   "nbconvert_exporter": "python",
   "pygments_lexer": "ipython3",
   "version": "3.6.8"
  }
 },
 "nbformat": 4,
 "nbformat_minor": 2
}
