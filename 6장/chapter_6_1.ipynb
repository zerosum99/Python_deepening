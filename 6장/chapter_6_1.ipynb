{
 "cells": [
  {
   "cell_type": "markdown",
   "metadata": {},
   "source": [
    "## 예제 6-1-1  인용 알아보기"
   ]
  },
  {
   "cell_type": "code",
   "execution_count": 1,
   "metadata": {},
   "outputs": [],
   "source": [
    "import math      ## 수학의 함수를  관리하는 모듈을 import 한다"
   ]
  },
  {
   "cell_type": "code",
   "execution_count": 2,
   "metadata": {},
   "outputs": [],
   "source": [
    "a = math.__doc__      ## 모듈 내의 독스트링 관리하는 속성 __doc__ 를  변수에 할당한다"
   ]
  },
  {
   "cell_type": "code",
   "execution_count": 3,
   "metadata": {},
   "outputs": [
    {
     "name": "stdout",
     "output_type": "stream",
     "text": [
      "This module is always available.  It provides access to the\n",
      "mathematical functions defined by the C standard.\n"
     ]
    }
   ],
   "source": [
    "print(a)                   ##  변수에  저장한 값을 print 한다 "
   ]
  },
  {
   "cell_type": "code",
   "execution_count": 4,
   "metadata": {},
   "outputs": [],
   "source": [
    "## 주피터 노트북 명령어로 파이썬 모듈을 작성한다"
   ]
  },
  {
   "cell_type": "code",
   "execution_count": 5,
   "metadata": {},
   "outputs": [
    {
     "name": "stdout",
     "output_type": "stream",
     "text": [
      "Overwriting add.py\n"
     ]
    }
   ],
   "source": [
    "%%writefile add.py  \n",
    "\"\"\" 이 모듈에는 덧셈을 계산하는 함수를 제공합니다. \"\"\"\n",
    "\n",
    "def add(x,y) :\n",
    "    return x+y"
   ]
  },
  {
   "cell_type": "code",
   "execution_count": 6,
   "metadata": {},
   "outputs": [],
   "source": [
    "import add                 ## 작성된 모듈을 import  할 때는 이름만 작성한다"
   ]
  },
  {
   "cell_type": "code",
   "execution_count": 7,
   "metadata": {},
   "outputs": [],
   "source": [
    "b = add.__doc__           ## 모듈을 만들 때 작성된 문자열이 문서화 속성에 들어있는지를 확인하기 위해 별도의 변수에 할당한다."
   ]
  },
  {
   "cell_type": "code",
   "execution_count": 8,
   "metadata": {},
   "outputs": [
    {
     "name": "stdout",
     "output_type": "stream",
     "text": [
      " 이 모듈에는 덧셈을 계산하는 함수를 제공합니다. \n"
     ]
    }
   ],
   "source": [
    "print(b)                       ## 출력하면 모듈 정의할 때 처음으로 작성된 문자열이 문서화 속성에 할당된 것을 알 수 있다."
   ]
  },
  {
   "cell_type": "code",
   "execution_count": null,
   "metadata": {},
   "outputs": [],
   "source": []
  },
  {
   "cell_type": "code",
   "execution_count": 9,
   "metadata": {},
   "outputs": [],
   "source": [
    "def func(x,y) :                                              ##  함수 정의문의 머리부는 예약어 def , 함수이름 func, 매개변수 x,y 와 콜론을 작성한다.\n",
    "    \n",
    "    \n",
    "    \"\"\" 첫번째 매개변수에 대한 체크 \"\"\"            ## 문자열은 __doc__에 들어간 문서화 작업\n",
    "    if not isinstance(x, int) :                          ## 매개변수 x의 값이 정수 객체인지를 확인한다\n",
    "        raise TypeError(\" x 정수가 아님 \")\n",
    "        \n",
    "    \"\"\" 두번째 매개변수에 대한 체크 \"\"\"           ##  이 문자열은 실제 실행만 하지 아무런 것을 처리하지 않는다\n",
    "    if not isinstance(y, int) :                         ##  매개변수 y의  값이 정수 객체인지를 확인한다\n",
    "        raise TypeError(\" y 정수가 아님 \")\n",
    "        \n",
    "    \n",
    "    return x + y                                            ##  두 매개변수를 더한 결과를 반환한다"
   ]
  },
  {
   "cell_type": "code",
   "execution_count": 10,
   "metadata": {},
   "outputs": [
    {
     "data": {
      "text/plain": [
       "20"
      ]
     },
     "execution_count": 10,
     "metadata": {},
     "output_type": "execute_result"
    }
   ],
   "source": [
    "func(10,10)                                                 ##  함수에 정수 10을 두 개에 인자로 넣어서 호출하면 결과가 20이다"
   ]
  },
  {
   "cell_type": "code",
   "execution_count": 11,
   "metadata": {},
   "outputs": [
    {
     "data": {
      "text/plain": [
       "' 첫번째 매개변수에 대한 체크 '"
      ]
     },
     "execution_count": 11,
     "metadata": {},
     "output_type": "execute_result"
    }
   ],
   "source": [
    "func.__doc__                                               ##  함수의 이름으로 __doc__ 속성을 확인하면 함수 정의문에  있는 첫번째 문자열이 들어가 있는 것을 확인할 수 있다"
   ]
  },
  {
   "cell_type": "code",
   "execution_count": null,
   "metadata": {},
   "outputs": [],
   "source": []
  }
 ],
 "metadata": {
  "kernelspec": {
   "display_name": "Python 3",
   "language": "python",
   "name": "python3"
  },
  "language_info": {
   "codemirror_mode": {
    "name": "ipython",
    "version": 3
   },
   "file_extension": ".py",
   "mimetype": "text/x-python",
   "name": "python",
   "nbconvert_exporter": "python",
   "pygments_lexer": "ipython3",
   "version": "3.6.8"
  }
 },
 "nbformat": 4,
 "nbformat_minor": 2
}
