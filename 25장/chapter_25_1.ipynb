{
 "cells": [
  {
   "cell_type": "markdown",
   "metadata": {},
   "source": [
    "## 예제 25-1-1 외부함수와 내부함수 알아보기"
   ]
  },
  {
   "cell_type": "code",
   "execution_count": 1,
   "metadata": {},
   "outputs": [],
   "source": [
    "def outer(x,y) :                                         ## 함수 내에 함수를 정의할 수 있다. 밖에 정의한 함수를 외부함수\n",
    "    def inner() :                                          ## 함수 내에 정의한 함수를 내부 함수\n",
    "        return x+y                                        ## 내부 함수에서 외부 함수에 들어온 매개변수를 처리한다\n",
    "    return inner()                                       ## 내부 함수를 실행해서 결과를 반환"
   ]
  },
  {
   "cell_type": "code",
   "execution_count": 2,
   "metadata": {},
   "outputs": [
    {
     "data": {
      "text/plain": [
       "10"
      ]
     },
     "execution_count": 2,
     "metadata": {},
     "output_type": "execute_result"
    }
   ],
   "source": [
    "outer(5,5)"
   ]
  },
  {
   "cell_type": "code",
   "execution_count": null,
   "metadata": {},
   "outputs": [],
   "source": []
  },
  {
   "cell_type": "code",
   "execution_count": 3,
   "metadata": {},
   "outputs": [],
   "source": [
    "def outer(x,y) :                                         ## 외부함수에서는 매개변수만 처리하고 내부함수는 로직을 처히한다\n",
    "    def inner() :                 \n",
    "        print(\"inner local\", locals())               ## 내부 함수의 지역이름 공간을 확인한다.  내부함수에서 사용하는 외부함수의 매개변수들도 같이 들어온다\n",
    "        return x+y\n",
    "    print(\"outer local\", locals())                   ## 외부 함수의 매개변수를 확인한다.  내부함수가 이름공간에 들어가 있다\n",
    "    return inner()"
   ]
  },
  {
   "cell_type": "code",
   "execution_count": 4,
   "metadata": {},
   "outputs": [
    {
     "name": "stdout",
     "output_type": "stream",
     "text": [
      "outer local {'inner': <function outer.<locals>.inner at 0x0000000005057510>, 'y': 5, 'x': 5}\n",
      "inner local {'y': 5, 'x': 5}\n"
     ]
    },
    {
     "data": {
      "text/plain": [
       "10"
      ]
     },
     "execution_count": 4,
     "metadata": {},
     "output_type": "execute_result"
    }
   ],
   "source": [
    "outer(5,5)"
   ]
  },
  {
   "cell_type": "code",
   "execution_count": null,
   "metadata": {},
   "outputs": [],
   "source": []
  }
 ],
 "metadata": {
  "kernelspec": {
   "display_name": "Python 3",
   "language": "python",
   "name": "python3"
  },
  "language_info": {
   "codemirror_mode": {
    "name": "ipython",
    "version": 3
   },
   "file_extension": ".py",
   "mimetype": "text/x-python",
   "name": "python",
   "nbconvert_exporter": "python",
   "pygments_lexer": "ipython3",
   "version": "3.6.8"
  }
 },
 "nbformat": 4,
 "nbformat_minor": 2
}
