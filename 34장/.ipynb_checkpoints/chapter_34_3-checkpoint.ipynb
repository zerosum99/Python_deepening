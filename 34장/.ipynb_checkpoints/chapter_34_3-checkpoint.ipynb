{
 "cells": [
  {
   "cell_type": "markdown",
   "metadata": {},
   "source": [
    "## 예제 34-3-1  믹스인 처리 이해하기"
   ]
  },
  {
   "cell_type": "code",
   "execution_count": null,
   "metadata": {},
   "outputs": [],
   "source": []
  },
  {
   "cell_type": "code",
   "execution_count": 2,
   "metadata": {},
   "outputs": [],
   "source": [
    "class SayMixin :                                       ##  함수만 가진 클래스를 정의한다. 이름에  Mixin을 붙인다\n",
    "    def say(self) :\n",
    "        print(\" SayMixin 호출 \")\n",
    "        return self._say"
   ]
  },
  {
   "cell_type": "code",
   "execution_count": 3,
   "metadata": {},
   "outputs": [],
   "source": [
    "class BarkMixin  :                                   ##  함수만 가진 클래스를 정의한다. 이름에  Mixin을 붙인다        \n",
    "    def say(self) :\n",
    "        print(\"  BarkMixin  호출 \")\n",
    "        return self._say"
   ]
  },
  {
   "cell_type": "code",
   "execution_count": null,
   "metadata": {},
   "outputs": [],
   "source": []
  },
  {
   "cell_type": "code",
   "execution_count": 6,
   "metadata": {},
   "outputs": [],
   "source": [
    "class Dog(BarkMixin,SayMixin) :           ## 두 개의 믹스인 클래스를 상속한 클래스를 정의한다\n",
    "    def __init__(self, bark) :\n",
    "        self._say = bark\n",
    "    "
   ]
  },
  {
   "cell_type": "code",
   "execution_count": 7,
   "metadata": {},
   "outputs": [],
   "source": [
    "class Bird(SayMixin,BarkMixin) :           ## 두 개의 믹스인 클래스를 상속한 클래스를 정의한다\n",
    "    def __init__(self, sing) :\n",
    "        self._say = sing\n",
    "    "
   ]
  },
  {
   "cell_type": "code",
   "execution_count": null,
   "metadata": {},
   "outputs": [],
   "source": []
  },
  {
   "cell_type": "code",
   "execution_count": 8,
   "metadata": {},
   "outputs": [],
   "source": [
    "d = Dog(\" 멍멍멍\")                              ## 객체를 생성한다"
   ]
  },
  {
   "cell_type": "code",
   "execution_count": 9,
   "metadata": {},
   "outputs": [
    {
     "name": "stdout",
     "output_type": "stream",
     "text": [
      "  BarkMixin  호출 \n"
     ]
    },
    {
     "data": {
      "text/plain": [
       "' 멍멍멍'"
      ]
     },
     "execution_count": 9,
     "metadata": {},
     "output_type": "execute_result"
    }
   ],
   "source": [
    "d.say()                                                ##  메소드를 호출하면  상속할 때 먼저 정의한 클래스에 있는 함수가 실행된다"
   ]
  },
  {
   "cell_type": "code",
   "execution_count": null,
   "metadata": {},
   "outputs": [],
   "source": []
  },
  {
   "cell_type": "code",
   "execution_count": 10,
   "metadata": {},
   "outputs": [],
   "source": [
    "s = Bird(\" 짹짹짹 \")                           ## 객체를 생성한다"
   ]
  },
  {
   "cell_type": "code",
   "execution_count": 11,
   "metadata": {},
   "outputs": [
    {
     "name": "stdout",
     "output_type": "stream",
     "text": [
      " SayMixin 호출 \n"
     ]
    },
    {
     "data": {
      "text/plain": [
       "' 짹짹짹 '"
      ]
     },
     "execution_count": 11,
     "metadata": {},
     "output_type": "execute_result"
    }
   ],
   "source": [
    "s.say()                                               ##  메소드를 호출하면  상속할 때 먼저 정의한 클래스에 있는 함수가 실행된다"
   ]
  },
  {
   "cell_type": "code",
   "execution_count": null,
   "metadata": {},
   "outputs": [],
   "source": []
  }
 ],
 "metadata": {
  "kernelspec": {
   "display_name": "Python 3",
   "language": "python",
   "name": "python3"
  },
  "language_info": {
   "codemirror_mode": {
    "name": "ipython",
    "version": 3
   },
   "file_extension": ".py",
   "mimetype": "text/x-python",
   "name": "python",
   "nbconvert_exporter": "python",
   "pygments_lexer": "ipython3",
   "version": "3.6.8"
  }
 },
 "nbformat": 4,
 "nbformat_minor": 2
}
