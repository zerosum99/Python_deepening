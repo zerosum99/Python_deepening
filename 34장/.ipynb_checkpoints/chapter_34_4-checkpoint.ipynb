{
 "cells": [
  {
   "cell_type": "markdown",
   "metadata": {},
   "source": [
    "## 예제 34-4-1   팩토리 패턴 알아보기"
   ]
  },
  {
   "cell_type": "code",
   "execution_count": 1,
   "metadata": {},
   "outputs": [],
   "source": [
    "import abc                                  ##   추상 클래스 모듈을 사용한다"
   ]
  },
  {
   "cell_type": "code",
   "execution_count": 2,
   "metadata": {},
   "outputs": [],
   "source": [
    "class Animal(abc.ABC) :                  ## 추상클래스를 상속해서 사용자 추상 클래스를 만든다\n",
    "    @abc.abstractmethod                 ##  추상 클래스의 추상 메소드를 데코레이터로 처리한다\n",
    "    def say(self) :\n",
    "        pass"
   ]
  },
  {
   "cell_type": "code",
   "execution_count": 3,
   "metadata": {},
   "outputs": [],
   "source": [
    "class Dog(Animal) :                        ## 추상 클래스를 상속해서 구현 클래스를 정의한다\n",
    "    def say(self) :                              ##  추상 메소드를 구현메소드화 한다 \n",
    "        return \" 멍멍멍 \""
   ]
  },
  {
   "cell_type": "code",
   "execution_count": 4,
   "metadata": {},
   "outputs": [],
   "source": [
    "class Cat(Animal) :                         ## 추상 클래스를 상속해서  구현 클래스를 정의한다 \n",
    "    def say(self) :                             ##  추상메소드를 구현 메소드화 한다\n",
    "        return \"  야옹야옹 \""
   ]
  },
  {
   "cell_type": "code",
   "execution_count": null,
   "metadata": {},
   "outputs": [],
   "source": []
  },
  {
   "cell_type": "code",
   "execution_count": 5,
   "metadata": {},
   "outputs": [],
   "source": [
    "class Factory :                                       ##  다른 클래스의 객체를 만든다.\n",
    "    def __init__(self,data_type) :               ##   초기화 함수에 하나의 클래스를 속성으로 받는다\n",
    "        self.data_type = data_type\n",
    "        \n",
    "    def make_factory(self) :                    ##  객체를 만드는 함수를 정의한다\n",
    "        return eval(self.data_type)()         ##  클래스가 문자열로 들어와서 이를  실행해서 클래스 이름으로 변환한 후에 실행하면 객체가 만들어진다 "
   ]
  },
  {
   "cell_type": "code",
   "execution_count": null,
   "metadata": {},
   "outputs": [],
   "source": []
  },
  {
   "cell_type": "code",
   "execution_count": 6,
   "metadata": {},
   "outputs": [],
   "source": [
    "class Client :                                                                    ## 실제  객체를 생성해서 사용하는 클래스를 정의한다\n",
    "    def __init__(self, data_type) :                                         ## 초기화 함수에 문자열로  클래스의 이름을  전달한다\n",
    "        self.object_ = Factory(data_type).make_factory()      ## 객체 속성에 팩토리 클래스에서 만든 객체를 할당한다"
   ]
  },
  {
   "cell_type": "code",
   "execution_count": null,
   "metadata": {},
   "outputs": [],
   "source": []
  },
  {
   "cell_type": "code",
   "execution_count": 9,
   "metadata": {},
   "outputs": [],
   "source": [
    "def say(obj) :                                                                ## 객체를 인자로 전달을 받아서 객체 내의 메소드를 실행한다\n",
    "    return obj.object_.say()"
   ]
  },
  {
   "cell_type": "code",
   "execution_count": 12,
   "metadata": {},
   "outputs": [],
   "source": [
    "d = Client(\"Dog\")                               ## Client 객체를 하나 만든다"
   ]
  },
  {
   "cell_type": "code",
   "execution_count": 13,
   "metadata": {},
   "outputs": [
    {
     "data": {
      "text/plain": [
       "' 멍멍멍 '"
      ]
     },
     "execution_count": 13,
     "metadata": {},
     "output_type": "execute_result"
    }
   ],
   "source": [
    "say(d)                                               ##  Client  객체를 함수에 전달하면 Dog 객체가 say를 호출한다"
   ]
  },
  {
   "cell_type": "code",
   "execution_count": 14,
   "metadata": {},
   "outputs": [],
   "source": [
    "c = Client(\"Cat\")                              ##  Cat  클래스의 객체를 생성할 Client 객체를 하나 만든다"
   ]
  },
  {
   "cell_type": "code",
   "execution_count": 15,
   "metadata": {},
   "outputs": [
    {
     "data": {
      "text/plain": [
       "'  야옹야옹 '"
      ]
     },
     "execution_count": 15,
     "metadata": {},
     "output_type": "execute_result"
    }
   ],
   "source": [
    "say(c)                                              ##  say 함수에 객체를 넣어서  실행하면 Cat 객체 내의 say 함수를 실행한다 "
   ]
  },
  {
   "cell_type": "code",
   "execution_count": null,
   "metadata": {},
   "outputs": [],
   "source": []
  }
 ],
 "metadata": {
  "kernelspec": {
   "display_name": "Python 3",
   "language": "python",
   "name": "python3"
  },
  "language_info": {
   "codemirror_mode": {
    "name": "ipython",
    "version": 3
   },
   "file_extension": ".py",
   "mimetype": "text/x-python",
   "name": "python",
   "nbconvert_exporter": "python",
   "pygments_lexer": "ipython3",
   "version": "3.6.8"
  }
 },
 "nbformat": 4,
 "nbformat_minor": 2
}
