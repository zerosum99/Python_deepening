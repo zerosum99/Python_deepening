{
 "cells": [
  {
   "cell_type": "markdown",
   "metadata": {},
   "source": [
    "## 예제 34-1-1  상속 알아보기"
   ]
  },
  {
   "cell_type": "code",
   "execution_count": 1,
   "metadata": {},
   "outputs": [],
   "source": [
    "class Polygon:                                                                                                 ##  다각형 클래스를 정의\n",
    "    def __init__(self, no_of_sides):                                                                       ##  초기화 함수로 객체의 속성을 추가\n",
    "        self.n = no_of_sides                                                                                  ## 변의 개수\n",
    "        self.x_sides = [0 for i in range(no_of_sides)]                                            ## x축 좌표\n",
    "        self.y_sides = [0 for i in range(no_of_sides)]                                             ## y축 좌표\n",
    "\n",
    "    def inputXSides(self):                                                                                                               ## x 축 좌표 축을 입력\n",
    "        self.x_sides = [float(input(\"Enter X 좌표 \"+str(i+1)+\" : \")) for i in range(self.n)]\n",
    "\n",
    "    def inputYSides(self):                                                                                                                ## y 축  좌표 축을 입력 \n",
    "        self.y_sides = [float(input(\"Enter Y 좌표 \"+str(i+1)+\" : \")) for i in range(self.n)]\n",
    "        \n",
    "    def dispSides(self):                                                                                                                    ##   좌표를 출력한다\n",
    "        \n",
    "        for i in range(self.n):\n",
    "            print(\"X 좌표 \",i+1,\"is\",self.x_sides[i])\n",
    "            print(\"Y 좌표 \",i+1,\"is\",self.y_sides[i])\n",
    "            \n",
    "    def polygonArea(self) :                                                                                                             ##  다각형 면적 구하기\n",
    "        X = self.x_sides \n",
    "        Y = self.y_sides\n",
    "        \n",
    "        area = 0\n",
    "        j = self.n -1                                                                                                          ##  좌표를 비교해서 길이를 확이하고 면적을 구한다\n",
    "        for i in range(self.n) :\n",
    "            area = area + (X[j]+X[i]) * (Y[j] -Y[i])                    ## 좌표에 의한 계산법 A=1/2{(x1 +x2)(y2 −y1)+(x2 +x3)(y3 −y2)−(x1 +x4)(y4 −y1)−(x4 +x3)(y3 −y4)}\n",
    "            j = i\n",
    "        return abs(area/2)\n",
    " "
   ]
  },
  {
   "cell_type": "code",
   "execution_count": 2,
   "metadata": {},
   "outputs": [],
   "source": [
    "class Triangle(Polygon):                                                ## 다각형을 상속한 삼각형 클래스를 정의한다\n",
    "    def __init__(self, no_of_sides):                                     ## 초기화 함수에 변을 3으로 고정한다\n",
    "        if no_of_sides == 3 :\n",
    "            super().__init__(no_of_sides)\n",
    "        else :\n",
    "            raise TypeError(\" 변이 길이가 다릅니다.\")\n",
    "\n"
   ]
  },
  {
   "cell_type": "code",
   "execution_count": null,
   "metadata": {},
   "outputs": [],
   "source": []
  },
  {
   "cell_type": "code",
   "execution_count": 3,
   "metadata": {},
   "outputs": [],
   "source": [
    "t = Triangle(3)                                                    ##   삼각형 객체를 하나 만든다"
   ]
  },
  {
   "cell_type": "code",
   "execution_count": 4,
   "metadata": {},
   "outputs": [
    {
     "name": "stdout",
     "output_type": "stream",
     "text": [
      "Enter X 좌표 1 : 0\n",
      "Enter X 좌표 2 : 1.5\n",
      "Enter X 좌표 3 : 3\n"
     ]
    }
   ],
   "source": [
    "t.inputXSides()"
   ]
  },
  {
   "cell_type": "code",
   "execution_count": 5,
   "metadata": {},
   "outputs": [
    {
     "name": "stdout",
     "output_type": "stream",
     "text": [
      "Enter Y 좌표 1 : 0\n",
      "Enter Y 좌표 2 : 3\n",
      "Enter Y 좌표 3 : 0\n"
     ]
    }
   ],
   "source": [
    "t.inputYSides()"
   ]
  },
  {
   "cell_type": "code",
   "execution_count": null,
   "metadata": {},
   "outputs": [],
   "source": []
  },
  {
   "cell_type": "code",
   "execution_count": 6,
   "metadata": {},
   "outputs": [
    {
     "data": {
      "text/plain": [
       "4.5"
      ]
     },
     "execution_count": 6,
     "metadata": {},
     "output_type": "execute_result"
    }
   ],
   "source": [
    "t.polygonArea()                                       ## 면적을 구한다"
   ]
  },
  {
   "cell_type": "code",
   "execution_count": 7,
   "metadata": {},
   "outputs": [
    {
     "name": "stdout",
     "output_type": "stream",
     "text": [
      "X 좌표  1 is 0.0\n",
      "Y 좌표  1 is 0.0\n",
      "X 좌표  2 is 1.5\n",
      "Y 좌표  2 is 3.0\n",
      "X 좌표  3 is 3.0\n",
      "Y 좌표  3 is 0.0\n"
     ]
    }
   ],
   "source": [
    "t.dispSides()"
   ]
  },
  {
   "cell_type": "code",
   "execution_count": null,
   "metadata": {},
   "outputs": [],
   "source": []
  },
  {
   "cell_type": "code",
   "execution_count": 8,
   "metadata": {},
   "outputs": [],
   "source": [
    "class Ractangle(Polygon):                              ## 다각형을 사각형 클래스 정의한다\n",
    "    def __init__(self, no_of_sides):  \n",
    "        if no_of_sides == 4 :                                  ##  4개의 변을 처리할 수 있다 \n",
    "            super().__init__(no_of_sides)\n",
    "        else :\n",
    "            raise TypeError(\" 변이 길이가 다릅니다.\")"
   ]
  },
  {
   "cell_type": "code",
   "execution_count": null,
   "metadata": {},
   "outputs": [],
   "source": []
  },
  {
   "cell_type": "code",
   "execution_count": 9,
   "metadata": {},
   "outputs": [],
   "source": [
    "r = Ractangle(4)"
   ]
  },
  {
   "cell_type": "code",
   "execution_count": null,
   "metadata": {},
   "outputs": [],
   "source": []
  },
  {
   "cell_type": "code",
   "execution_count": 10,
   "metadata": {},
   "outputs": [
    {
     "name": "stdout",
     "output_type": "stream",
     "text": [
      "Enter X 좌표 1 : 0\n",
      "Enter X 좌표 2 : 4\n",
      "Enter X 좌표 3 : 4\n",
      "Enter X 좌표 4 : 0\n"
     ]
    }
   ],
   "source": [
    "r.inputXSides()"
   ]
  },
  {
   "cell_type": "code",
   "execution_count": 11,
   "metadata": {},
   "outputs": [
    {
     "name": "stdout",
     "output_type": "stream",
     "text": [
      "Enter Y 좌표 1 : 0\n",
      "Enter Y 좌표 2 : 0\n",
      "Enter Y 좌표 3 : 4\n",
      "Enter Y 좌표 4 : 4\n"
     ]
    }
   ],
   "source": [
    "r.inputYSides()"
   ]
  },
  {
   "cell_type": "code",
   "execution_count": null,
   "metadata": {},
   "outputs": [],
   "source": []
  },
  {
   "cell_type": "code",
   "execution_count": 12,
   "metadata": {},
   "outputs": [
    {
     "data": {
      "text/plain": [
       "16.0"
      ]
     },
     "execution_count": 12,
     "metadata": {},
     "output_type": "execute_result"
    }
   ],
   "source": [
    "r.polygonArea()"
   ]
  },
  {
   "cell_type": "code",
   "execution_count": 13,
   "metadata": {},
   "outputs": [
    {
     "name": "stdout",
     "output_type": "stream",
     "text": [
      "X 좌표  1 is 0.0\n",
      "Y 좌표  1 is 0.0\n",
      "X 좌표  2 is 4.0\n",
      "Y 좌표  2 is 0.0\n",
      "X 좌표  3 is 4.0\n",
      "Y 좌표  3 is 4.0\n",
      "X 좌표  4 is 0.0\n",
      "Y 좌표  4 is 4.0\n"
     ]
    }
   ],
   "source": [
    "r.dispSides()"
   ]
  },
  {
   "cell_type": "code",
   "execution_count": null,
   "metadata": {},
   "outputs": [],
   "source": []
  },
  {
   "cell_type": "markdown",
   "metadata": {},
   "source": [
    "## 예제 34-1-2  다중 상속 알아보기"
   ]
  },
  {
   "cell_type": "code",
   "execution_count": 14,
   "metadata": {},
   "outputs": [],
   "source": [
    "class Person(object) :                                                     ## 사람 클래스를 정의한다\n",
    "    def __init__(self, name, age, nation) :                           ## 초기화 함수에 3 개의 매개변수가 있다\n",
    "        print(\" Person 초기화 사용 \")\n",
    "        self.name = name\n",
    "        self.age  = age\n",
    "        self.nation = nation\n",
    "        \n",
    "    def say(self,message) :                                              ##  say  함수는 메세지를 받고 그대로 반환한다\n",
    "        return message"
   ]
  },
  {
   "cell_type": "code",
   "execution_count": null,
   "metadata": {},
   "outputs": [],
   "source": []
  },
  {
   "cell_type": "code",
   "execution_count": 15,
   "metadata": {},
   "outputs": [],
   "source": [
    "class GrandFather(Person) :                                        ## 할아버지 클래스를 정의한다\n",
    "    pass"
   ]
  },
  {
   "cell_type": "code",
   "execution_count": 16,
   "metadata": {},
   "outputs": [],
   "source": [
    "class GrandMother(Person) :                                      ## 할머니 클래스를 정의한다\n",
    "    pass"
   ]
  },
  {
   "cell_type": "code",
   "execution_count": 17,
   "metadata": {},
   "outputs": [],
   "source": [
    "class Father(GrandFather, GrandMother) :                ##  할아버지와 할머니 클래스를 상속을 받은 아버지 클래스를 만든다\n",
    "    pass"
   ]
  },
  {
   "cell_type": "code",
   "execution_count": null,
   "metadata": {},
   "outputs": [],
   "source": []
  },
  {
   "cell_type": "code",
   "execution_count": 18,
   "metadata": {},
   "outputs": [
    {
     "data": {
      "text/plain": [
       "(__main__.GrandFather, __main__.GrandMother)"
      ]
     },
     "execution_count": 18,
     "metadata": {},
     "output_type": "execute_result"
    }
   ],
   "source": [
    "Father.__bases__                                                         ##  아버지 클래스가 상속한 클래스를 조회한다"
   ]
  },
  {
   "cell_type": "code",
   "execution_count": 19,
   "metadata": {},
   "outputs": [
    {
     "data": {
      "text/plain": [
       "[__main__.Father,\n",
       " __main__.GrandFather,\n",
       " __main__.GrandMother,\n",
       " __main__.Person,\n",
       " object]"
      ]
     },
     "execution_count": 19,
     "metadata": {},
     "output_type": "execute_result"
    }
   ],
   "source": [
    "Father.mro()                                                              ##  아버지 클래스의 모든 상속관계를 조회한다"
   ]
  },
  {
   "cell_type": "code",
   "execution_count": null,
   "metadata": {},
   "outputs": [],
   "source": []
  },
  {
   "cell_type": "code",
   "execution_count": 20,
   "metadata": {},
   "outputs": [
    {
     "name": "stdout",
     "output_type": "stream",
     "text": [
      " Person 초기화 사용 \n"
     ]
    }
   ],
   "source": [
    "f = Father(\"Dahl\",55,\"Korea\")                              ##   객체를 생성한다"
   ]
  },
  {
   "cell_type": "code",
   "execution_count": 21,
   "metadata": {},
   "outputs": [
    {
     "data": {
      "text/plain": [
       "{'name': 'Dahl', 'age': 55, 'nation': 'Korea'}"
      ]
     },
     "execution_count": 21,
     "metadata": {},
     "output_type": "execute_result"
    }
   ],
   "source": [
    "f.__dict__                                                              ## 객체의  이름공간을 확인한다"
   ]
  },
  {
   "cell_type": "code",
   "execution_count": null,
   "metadata": {},
   "outputs": [],
   "source": []
  },
  {
   "cell_type": "code",
   "execution_count": 22,
   "metadata": {},
   "outputs": [],
   "source": [
    "class GrandFather_(Person) :                          ## 외할아버지 클래스를 정의한다\n",
    "    pass"
   ]
  },
  {
   "cell_type": "code",
   "execution_count": 23,
   "metadata": {},
   "outputs": [],
   "source": [
    "class GrandMother_(Person) :                            ## 외할머니 클래스를 정의한다\n",
    "    pass"
   ]
  },
  {
   "cell_type": "code",
   "execution_count": 24,
   "metadata": {},
   "outputs": [],
   "source": [
    "class Mother(GrandFather_, GrandMother_) :      ## 외할아버지, 외할머니 클래스를 같이 상속을 받은 어머니 클래스를 만든다\n",
    "    pass"
   ]
  },
  {
   "cell_type": "code",
   "execution_count": 25,
   "metadata": {},
   "outputs": [
    {
     "data": {
      "text/plain": [
       "(__main__.GrandFather_, __main__.GrandMother_)"
      ]
     },
     "execution_count": 25,
     "metadata": {},
     "output_type": "execute_result"
    }
   ],
   "source": [
    "Mother.__bases__                                                      ## 어머니 클래스의 상속을 확인한다."
   ]
  },
  {
   "cell_type": "code",
   "execution_count": 26,
   "metadata": {},
   "outputs": [
    {
     "data": {
      "text/plain": [
       "[__main__.Mother,\n",
       " __main__.GrandFather_,\n",
       " __main__.GrandMother_,\n",
       " __main__.Person,\n",
       " object]"
      ]
     },
     "execution_count": 26,
     "metadata": {},
     "output_type": "execute_result"
    }
   ],
   "source": [
    "Mother.mro()                                                          ## 어머니 클래스의 모든 상속관계를 확인한다"
   ]
  },
  {
   "cell_type": "code",
   "execution_count": null,
   "metadata": {},
   "outputs": [],
   "source": []
  },
  {
   "cell_type": "code",
   "execution_count": 27,
   "metadata": {},
   "outputs": [],
   "source": [
    "class Son(Father, Mother) :                  ##  아버지와 어머니를 상속하는 아들 클래스를 정의한다\n",
    "    pass"
   ]
  },
  {
   "cell_type": "code",
   "execution_count": 28,
   "metadata": {},
   "outputs": [
    {
     "data": {
      "text/plain": [
       "(__main__.Father, __main__.Mother)"
      ]
     },
     "execution_count": 28,
     "metadata": {},
     "output_type": "execute_result"
    }
   ],
   "source": [
    "Son.__bases__"
   ]
  },
  {
   "cell_type": "code",
   "execution_count": 29,
   "metadata": {},
   "outputs": [
    {
     "data": {
      "text/plain": [
       "[__main__.Son,\n",
       " __main__.Father,\n",
       " __main__.GrandFather,\n",
       " __main__.GrandMother,\n",
       " __main__.Mother,\n",
       " __main__.GrandFather_,\n",
       " __main__.GrandMother_,\n",
       " __main__.Person,\n",
       " object]"
      ]
     },
     "execution_count": 29,
     "metadata": {},
     "output_type": "execute_result"
    }
   ],
   "source": [
    "Son.mro()                                          ## 아들 클래스의 상속관계를 확인하면 아버지와 어머지가 상속한 모든 클래스를 보여준다"
   ]
  },
  {
   "cell_type": "code",
   "execution_count": null,
   "metadata": {},
   "outputs": [],
   "source": []
  },
  {
   "cell_type": "code",
   "execution_count": 30,
   "metadata": {},
   "outputs": [
    {
     "name": "stdout",
     "output_type": "stream",
     "text": [
      " Person 초기화 사용 \n"
     ]
    }
   ],
   "source": [
    "s = Son(\"John\",11,\"Canada\")               ## 객체를 하나 만든다.  최상위 Person 클래스의 초기화 함수를 사용한다"
   ]
  },
  {
   "cell_type": "code",
   "execution_count": 31,
   "metadata": {},
   "outputs": [
    {
     "data": {
      "text/plain": [
       "'Canada'"
      ]
     },
     "execution_count": 31,
     "metadata": {},
     "output_type": "execute_result"
    }
   ],
   "source": [
    "s.say(\"Canada\")                              ## 메소드를 호출하면 최상위 Person 클래스의 say 메소드를 사용한다"
   ]
  },
  {
   "cell_type": "code",
   "execution_count": null,
   "metadata": {},
   "outputs": [],
   "source": []
  }
 ],
 "metadata": {
  "kernelspec": {
   "display_name": "Python 3",
   "language": "python",
   "name": "python3"
  },
  "language_info": {
   "codemirror_mode": {
    "name": "ipython",
    "version": 3
   },
   "file_extension": ".py",
   "mimetype": "text/x-python",
   "name": "python",
   "nbconvert_exporter": "python",
   "pygments_lexer": "ipython3",
   "version": "3.6.8"
  }
 },
 "nbformat": 4,
 "nbformat_minor": 2
}
