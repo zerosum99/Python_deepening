{
 "cells": [
  {
   "cell_type": "markdown",
   "metadata": {},
   "source": [
    "## 예제 33-2-1 내장함수를 이용한 객체 접근하기"
   ]
  },
  {
   "cell_type": "code",
   "execution_count": 18,
   "metadata": {},
   "outputs": [],
   "source": [
    "class Attribute :                          ## 아무것도 하지 않는 클래스를 정의한다\n",
    "    pass"
   ]
  },
  {
   "cell_type": "code",
   "execution_count": 2,
   "metadata": {},
   "outputs": [],
   "source": [
    "a = Attribute()                            ## 하나의 빈 객체를 만든다"
   ]
  },
  {
   "cell_type": "code",
   "execution_count": 3,
   "metadata": {},
   "outputs": [
    {
     "data": {
      "text/plain": [
       "{}"
      ]
     },
     "execution_count": 3,
     "metadata": {},
     "output_type": "execute_result"
    }
   ],
   "source": [
    "a.__dict__"
   ]
  },
  {
   "cell_type": "code",
   "execution_count": null,
   "metadata": {},
   "outputs": [],
   "source": []
  },
  {
   "cell_type": "code",
   "execution_count": 4,
   "metadata": {},
   "outputs": [],
   "source": [
    "setattr(a,\"name\",\"속성값 추가\")         ## 객체 내의 속성을 하나 추가한다 \n",
    "                                                         ## 속성 이름은 객체 이름공간에 키로 들어가서 문자열로 넣는다. 이 속성에 저장될되는 값이 문자열이다."
   ]
  },
  {
   "cell_type": "code",
   "execution_count": 5,
   "metadata": {},
   "outputs": [
    {
     "data": {
      "text/plain": [
       "{'name': '속성값 추가'}"
      ]
     },
     "execution_count": 5,
     "metadata": {},
     "output_type": "execute_result"
    }
   ],
   "source": [
    "a.__dict__"
   ]
  },
  {
   "cell_type": "code",
   "execution_count": 6,
   "metadata": {},
   "outputs": [
    {
     "data": {
      "text/plain": [
       "'속성값 추가'"
      ]
     },
     "execution_count": 6,
     "metadata": {},
     "output_type": "execute_result"
    }
   ],
   "source": [
    "getattr(a,'name')                           ## 객체 내의 속성을 조회한다"
   ]
  },
  {
   "cell_type": "code",
   "execution_count": null,
   "metadata": {},
   "outputs": [],
   "source": []
  },
  {
   "cell_type": "code",
   "execution_count": 8,
   "metadata": {},
   "outputs": [],
   "source": [
    "if hasattr(a,'name') :                                  ## 객체 내에 속성이 있는 지를 확인한다\n",
    "    delattr(a,'name')                                    ## 속성이 있으면 삭제한다"
   ]
  },
  {
   "cell_type": "code",
   "execution_count": null,
   "metadata": {},
   "outputs": [],
   "source": []
  },
  {
   "cell_type": "code",
   "execution_count": 12,
   "metadata": {},
   "outputs": [
    {
     "ename": "AttributeError",
     "evalue": "'Attribute' object has no attribute 'name'",
     "output_type": "error",
     "traceback": [
      "\u001b[1;31m---------------------------------------------------------------------------\u001b[0m",
      "\u001b[1;31mAttributeError\u001b[0m                            Traceback (most recent call last)",
      "\u001b[1;32m<ipython-input-12-ea5965fcd56e>\u001b[0m in \u001b[0;36m<module>\u001b[1;34m\u001b[0m\n\u001b[1;32m----> 1\u001b[1;33m \u001b[0mgetattr\u001b[0m\u001b[1;33m(\u001b[0m\u001b[0ma\u001b[0m\u001b[1;33m,\u001b[0m\u001b[1;34m\"name\"\u001b[0m\u001b[1;33m)\u001b[0m\u001b[1;33m\u001b[0m\u001b[1;33m\u001b[0m\u001b[0m\n\u001b[0m",
      "\u001b[1;31mAttributeError\u001b[0m: 'Attribute' object has no attribute 'name'"
     ]
    }
   ],
   "source": [
    "getattr(a,\"name\")                                                                                    ## 삭제된 속성을 조회하면 예외가 발생한다"
   ]
  },
  {
   "cell_type": "code",
   "execution_count": null,
   "metadata": {},
   "outputs": [],
   "source": []
  },
  {
   "cell_type": "code",
   "execution_count": 13,
   "metadata": {},
   "outputs": [],
   "source": [
    "def __init__(self, name) :                                                 ## 초기화 함수를 일반 함수로 정의한다\n",
    "    self.name = name"
   ]
  },
  {
   "cell_type": "code",
   "execution_count": 19,
   "metadata": {},
   "outputs": [],
   "source": [
    "setattr(Attribute, \"__init__\",__init__)                                           ## 클래스에 속성에 초기화 함수를 할당한다\n",
    "                                                                                                ## 클래스를 정의할 때 초기화 함수가 없었지만 필요한 시점에 초기화 함수를 할당할 수 있다"
   ]
  },
  {
   "cell_type": "code",
   "execution_count": 20,
   "metadata": {},
   "outputs": [
    {
     "data": {
      "text/plain": [
       "mappingproxy({'__module__': '__main__',\n",
       "              '__dict__': <attribute '__dict__' of 'Attribute' objects>,\n",
       "              '__weakref__': <attribute '__weakref__' of 'Attribute' objects>,\n",
       "              '__doc__': None,\n",
       "              '__init__': <function __main__.__init__(self, name)>})"
      ]
     },
     "execution_count": 20,
     "metadata": {},
     "output_type": "execute_result"
    }
   ],
   "source": [
    "Attribute.__dict__                                                                                   ## 클래스의 이름공간을 확인하면 초기화 함수가 있다"
   ]
  },
  {
   "cell_type": "code",
   "execution_count": null,
   "metadata": {},
   "outputs": [],
   "source": []
  },
  {
   "cell_type": "code",
   "execution_count": 21,
   "metadata": {},
   "outputs": [],
   "source": [
    "aa = Attribute(\"초기화 이용\")                ## 클래스로 객체를 생성할 때 초기화 함수의 하나의 속성을 인자로 전달한다"
   ]
  },
  {
   "cell_type": "code",
   "execution_count": 23,
   "metadata": {},
   "outputs": [
    {
     "data": {
      "text/plain": [
       "{'name': '초기화 이용'}"
      ]
     },
     "execution_count": 23,
     "metadata": {},
     "output_type": "execute_result"
    }
   ],
   "source": [
    "aa.__dict__                                             ## 객체의 이름공간을 확인하면 하나의 속성이 만들어진다"
   ]
  },
  {
   "cell_type": "code",
   "execution_count": null,
   "metadata": {},
   "outputs": [],
   "source": []
  },
  {
   "cell_type": "markdown",
   "metadata": {},
   "source": [
    "## 예제 33-2-2  직접 스페셜 메소드를 수정하기 "
   ]
  },
  {
   "cell_type": "code",
   "execution_count": 68,
   "metadata": {},
   "outputs": [],
   "source": [
    "class ObjectAttr :                                                      ## 객체 속성을 접근하는 클래스를 정의한다\n",
    "    \n",
    "    classAttr = \"ObjectAttr\"                                         ## 클래스 속성을 하나 정의한다\n",
    "    \n",
    "    def __init__(self,value) :                                          ## 초기화 함수를 정의한다\n",
    "        self.objattr = value\n",
    "            \n",
    "    def __getattribute__(self,name) :                            ## 객체에서 속성이나 메소드를 접근하는 점연산에 해당하는 스페셜 메소드를 정의한다\n",
    "        print(\" __getattribute__ \")\n",
    "        return super().__getattribute__(name)\n",
    "    \n",
    "    def __getattr__(self,name) :                                    ## 객체에서 속성이나 메소드를 조회했는데 찾을 수가 없을 때 예외를 처리하는 스페셜 메소드를 정의한다\n",
    "        return \" 속성이 없음\""
   ]
  },
  {
   "cell_type": "code",
   "execution_count": 69,
   "metadata": {},
   "outputs": [
    {
     "name": "stdout",
     "output_type": "stream",
     "text": [
      " __getattribute__ \n",
      " __getattribute__ \n",
      " __getattribute__ \n",
      " __getattribute__ \n",
      " __getattribute__ \n",
      " __getattribute__ \n"
     ]
    }
   ],
   "source": [
    "obj = ObjectAttr(\"인스턴스 속성\")                             ## 객체를 생성할 때 내부에서 점연산를 사용해서 스페셜 메소드 내의 print 함수가 출력한다"
   ]
  },
  {
   "cell_type": "code",
   "execution_count": 70,
   "metadata": {},
   "outputs": [
    {
     "name": "stdout",
     "output_type": "stream",
     "text": [
      " __getattribute__ \n"
     ]
    },
    {
     "data": {
      "text/plain": [
       "{'objattr': '인스턴스 속성'}"
      ]
     },
     "execution_count": 70,
     "metadata": {},
     "output_type": "execute_result"
    }
   ],
   "source": [
    "obj.__dict__                                      ## 객체에서 이름공간을 사용할 때도 점연산을 한번 수행하므로 print 함수가 출력한다"
   ]
  },
  {
   "cell_type": "code",
   "execution_count": 71,
   "metadata": {},
   "outputs": [
    {
     "data": {
      "text/plain": [
       "'ObjectAttr'"
      ]
     },
     "execution_count": 71,
     "metadata": {},
     "output_type": "execute_result"
    }
   ],
   "source": [
    "ObjectAttr.classAttr                    ## 클래스에서  클래스 속성을 접근할 때는 클래스에 정의된 점연산 스페셜 메소드를 사용하지 않는다"
   ]
  },
  {
   "cell_type": "code",
   "execution_count": 72,
   "metadata": {},
   "outputs": [
    {
     "name": "stdout",
     "output_type": "stream",
     "text": [
      " __getattribute__ \n"
     ]
    },
    {
     "data": {
      "text/plain": [
       "'ObjectAttr'"
      ]
     },
     "execution_count": 72,
     "metadata": {},
     "output_type": "execute_result"
    }
   ],
   "source": [
    "obj.classAttr                               ## 객체에서 클래스 속성을 접근할 때는 클래스에 있는 점연산 스페셜 메소드를 사용한다"
   ]
  },
  {
   "cell_type": "code",
   "execution_count": null,
   "metadata": {},
   "outputs": [],
   "source": []
  },
  {
   "cell_type": "code",
   "execution_count": 73,
   "metadata": {},
   "outputs": [
    {
     "name": "stdout",
     "output_type": "stream",
     "text": [
      " __getattribute__ \n"
     ]
    },
    {
     "data": {
      "text/plain": [
       "' 속성이 없음'"
      ]
     },
     "execution_count": 73,
     "metadata": {},
     "output_type": "execute_result"
    }
   ],
   "source": [
    "obj.name                                 ## 객체의 속성을 접근할 때도 점연산 스페셜 메소드를 사용한다"
   ]
  },
  {
   "cell_type": "code",
   "execution_count": null,
   "metadata": {},
   "outputs": [],
   "source": []
  },
  {
   "cell_type": "code",
   "execution_count": 74,
   "metadata": {},
   "outputs": [
    {
     "ename": "AttributeError",
     "evalue": "type object 'ObjectAttr' has no attribute 'name'",
     "output_type": "error",
     "traceback": [
      "\u001b[1;31m---------------------------------------------------------------------------\u001b[0m",
      "\u001b[1;31mAttributeError\u001b[0m                            Traceback (most recent call last)",
      "\u001b[1;32m<ipython-input-74-59df74523457>\u001b[0m in \u001b[0;36m<module>\u001b[1;34m\u001b[0m\n\u001b[1;32m----> 1\u001b[1;33m \u001b[0mObjectAttr\u001b[0m\u001b[1;33m.\u001b[0m\u001b[0mname\u001b[0m\u001b[1;33m\u001b[0m\u001b[1;33m\u001b[0m\u001b[0m\n\u001b[0m",
      "\u001b[1;31mAttributeError\u001b[0m: type object 'ObjectAttr' has no attribute 'name'"
     ]
    }
   ],
   "source": [
    "ObjectAttr.name                                                                                  ## 클래스에서 객체 속성은 접근할 수 없다. 클래스 속성만 검색해서 정의된 것이 없어 예외를 발생시킨다"
   ]
  },
  {
   "cell_type": "code",
   "execution_count": null,
   "metadata": {},
   "outputs": [],
   "source": []
  }
 ],
 "metadata": {
  "kernelspec": {
   "display_name": "Python 3",
   "language": "python",
   "name": "python3"
  },
  "language_info": {
   "codemirror_mode": {
    "name": "ipython",
    "version": 3
   },
   "file_extension": ".py",
   "mimetype": "text/x-python",
   "name": "python",
   "nbconvert_exporter": "python",
   "pygments_lexer": "ipython3",
   "version": "3.6.8"
  }
 },
 "nbformat": 4,
 "nbformat_minor": 2
}
