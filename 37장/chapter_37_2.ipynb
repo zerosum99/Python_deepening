{
 "cells": [
  {
   "cell_type": "markdown",
   "metadata": {},
   "source": [
    "## 예제 37-2-1 반복형과 반복자 클래스 만들어보기"
   ]
  },
  {
   "cell_type": "code",
   "execution_count": 4,
   "metadata": {},
   "outputs": [],
   "source": [
    "class MyIterable:                         ## 반복형 클래스를 만든다\n",
    "    def __init__(self,size):               ## 초기화 함수에  리스트 객체를 보관하는 속성을 할당한다\n",
    "        self.data = list(range(size))\n",
    " \n",
    "    def __iter__(self):                    ## 반복형 추상 클래스의 추상메소드를 구현한다\n",
    "        self.index = 0\n",
    "        return list.__iter__(self.data)    ## 리스트 클래스의 __iter__로 데이터를 변환한다"
   ]
  },
  {
   "cell_type": "code",
   "execution_count": null,
   "metadata": {},
   "outputs": [],
   "source": []
  },
  {
   "cell_type": "code",
   "execution_count": 1,
   "metadata": {},
   "outputs": [],
   "source": [
    "import collections.abc as abc               ## 자료구조의 추상화 모듈을 사용한다"
   ]
  },
  {
   "cell_type": "code",
   "execution_count": 15,
   "metadata": {},
   "outputs": [
    {
     "data": {
      "text/plain": [
       "True"
      ]
     },
     "execution_count": 15,
     "metadata": {},
     "output_type": "execute_result"
    }
   ],
   "source": [
    "issubclass(MyIterable, abc.Iterable)       ## 실제 반복형 추상클래스를 상속하지 않지만 상속관계는 성럽한다.\n",
    "                                           ## 추상 클래스의 추상 메소드를 구현하면 상속관계가 내부적으로 성립한다 "
   ]
  },
  {
   "cell_type": "code",
   "execution_count": null,
   "metadata": {},
   "outputs": [],
   "source": []
  },
  {
   "cell_type": "code",
   "execution_count": 5,
   "metadata": {},
   "outputs": [],
   "source": [
    "m = MyIterable(10)                     ## 객체를 하나 만든다 "
   ]
  },
  {
   "cell_type": "code",
   "execution_count": 6,
   "metadata": {},
   "outputs": [
    {
     "data": {
      "text/plain": [
       "{'data': [0, 1, 2, 3, 4, 5, 6, 7, 8, 9]}"
      ]
     },
     "execution_count": 6,
     "metadata": {},
     "output_type": "execute_result"
    }
   ],
   "source": [
    "m.__dict__                                ## 객체의 속성에 10 개의 원소를 가진 리스트를 가진다 "
   ]
  },
  {
   "cell_type": "code",
   "execution_count": null,
   "metadata": {},
   "outputs": [],
   "source": []
  },
  {
   "cell_type": "code",
   "execution_count": 7,
   "metadata": {},
   "outputs": [],
   "source": [
    "mit = iter(m)                          ## 반복자 객체로 변환한다 "
   ]
  },
  {
   "cell_type": "code",
   "execution_count": 8,
   "metadata": {},
   "outputs": [
    {
     "data": {
      "text/plain": [
       "<list_iterator at 0x137bc560cc0>"
      ]
     },
     "execution_count": 8,
     "metadata": {},
     "output_type": "execute_result"
    }
   ],
   "source": [
    "mit                                   ## 리스트 객체를 리스트 반복자 객체로 변환한 것을 볼 수 있다 "
   ]
  },
  {
   "cell_type": "code",
   "execution_count": null,
   "metadata": {},
   "outputs": [],
   "source": []
  },
  {
   "cell_type": "code",
   "execution_count": 9,
   "metadata": {},
   "outputs": [
    {
     "data": {
      "text/plain": [
       "(0, 1, 2, 3, 4)"
      ]
     },
     "execution_count": 9,
     "metadata": {},
     "output_type": "execute_result"
    }
   ],
   "source": [
    "next(mit), next(mit), next(mit), next(mit), next(mit)         ## 반복자는 next 함수로 원소를 하나씩 꺼내어 사용"
   ]
  },
  {
   "cell_type": "code",
   "execution_count": 10,
   "metadata": {},
   "outputs": [
    {
     "data": {
      "text/plain": [
       "(5, 6, 7, 8, 9)"
      ]
     },
     "execution_count": 10,
     "metadata": {},
     "output_type": "execute_result"
    }
   ],
   "source": [
    "next(mit), next(mit), next(mit), next(mit), next(mit)    ## 반복자는 next 함수로 원소를 하나씩 꺼내어 사용"
   ]
  },
  {
   "cell_type": "code",
   "execution_count": 11,
   "metadata": {},
   "outputs": [
    {
     "ename": "StopIteration",
     "evalue": "",
     "output_type": "error",
     "traceback": [
      "\u001b[1;31m---------------------------------------------------------------------------\u001b[0m",
      "\u001b[1;31mStopIteration\u001b[0m                             Traceback (most recent call last)",
      "\u001b[1;32m<ipython-input-11-86c2c401eccb>\u001b[0m in \u001b[0;36m<module>\u001b[1;34m\u001b[0m\n\u001b[1;32m----> 1\u001b[1;33m \u001b[0mnext\u001b[0m\u001b[1;33m(\u001b[0m\u001b[0mmit\u001b[0m\u001b[1;33m)\u001b[0m\u001b[1;33m\u001b[0m\u001b[1;33m\u001b[0m\u001b[0m\n\u001b[0m",
      "\u001b[1;31mStopIteration\u001b[0m: "
     ]
    }
   ],
   "source": [
    "next(mit)            ## 모든 원소를 다 사용하면 더 이상 사용할 원소가 없다고 표시한다"
   ]
  },
  {
   "cell_type": "code",
   "execution_count": null,
   "metadata": {},
   "outputs": [],
   "source": []
  },
  {
   "cell_type": "code",
   "execution_count": 12,
   "metadata": {},
   "outputs": [],
   "source": [
    "class MyIterator:                           ## 반복자 클래스를 정의한다\n",
    "    def __init__(self,size):                ## 초기화 함수에는 하나의 속성을 만든다 \n",
    "        self.data = list(range(size))\n",
    " \n",
    "    def __iter__(self):                    ## 반복자를 만드는 스페셜 메소드에는 반복형과 달리 자기 객체를 반환한다\n",
    "        if not hasattr(self,'index') :     ## 인덱스를 처리하기 위해 객체에 속성을 추가한다\n",
    "            self.index = 0\n",
    "        return self\n",
    " \n",
    "    def __next__(self):                     ##  반복자 객체의 원소를 하나씩 읽는 스페셜 메소드를 작성한다\n",
    "        if not (self.index < len(self.data)) :        ## 데이터의 길이 인덱스가 크면 원소를 전부 처리한 것으로 인식한다\n",
    "            raise StopIteration\n",
    " \n",
    "        n = self.data[self.index]                    ## 인덱스를 넣어서 하나씩 원소를 반환한다\n",
    "        self.index += 1\n",
    "        return n"
   ]
  },
  {
   "cell_type": "code",
   "execution_count": null,
   "metadata": {},
   "outputs": [],
   "source": []
  },
  {
   "cell_type": "code",
   "execution_count": 17,
   "metadata": {},
   "outputs": [
    {
     "data": {
      "text/plain": [
       "True"
      ]
     },
     "execution_count": 17,
     "metadata": {},
     "output_type": "execute_result"
    }
   ],
   "source": [
    "issubclass(MyIterator, abc.Iterator)         ## 상속은 하지 않았지만 반복자 추상 클래스의 메소드를 구현해서 상속관계가 성립한다\n",
    "                                             ## "
   ]
  },
  {
   "cell_type": "code",
   "execution_count": 19,
   "metadata": {},
   "outputs": [],
   "source": [
    "mycol = MyIterator(10)                  ## 하나의  객체를 만든다 "
   ]
  },
  {
   "cell_type": "code",
   "execution_count": 20,
   "metadata": {},
   "outputs": [
    {
     "name": "stdout",
     "output_type": "stream",
     "text": [
      "0, 1, 2, 3, 4, 5, 6, 7, 8, 9, "
     ]
    }
   ],
   "source": [
    "for i in mycol:                        ## 순환문으로 객체의 원소를 다 사용한다\n",
    "    print(i, end=\", \")"
   ]
  },
  {
   "cell_type": "code",
   "execution_count": null,
   "metadata": {},
   "outputs": [],
   "source": []
  },
  {
   "cell_type": "code",
   "execution_count": 21,
   "metadata": {},
   "outputs": [],
   "source": [
    "for i in mycol:                        ## 반복자 객체는 한번 사용하면 모든 원소를 다 소진해서 다시 사용할 때는 객체를 다시 생성해야한다\n",
    "    print(i, end=\", \")"
   ]
  },
  {
   "cell_type": "code",
   "execution_count": 22,
   "metadata": {},
   "outputs": [],
   "source": [
    "mycol = MyIterator(5)         ## 객체를 하나 더 만든다 "
   ]
  },
  {
   "cell_type": "code",
   "execution_count": 23,
   "metadata": {},
   "outputs": [
    {
     "name": "stdout",
     "output_type": "stream",
     "text": [
      "0, 1, 2, 3, 4, "
     ]
    }
   ],
   "source": [
    "for i in mycol:             ## 순환문으로 모든 원소를 다 처리한다\n",
    "    print(i, end=\", \")"
   ]
  },
  {
   "cell_type": "code",
   "execution_count": null,
   "metadata": {},
   "outputs": [],
   "source": []
  }
 ],
 "metadata": {
  "kernelspec": {
   "display_name": "Python 3",
   "language": "python",
   "name": "python3"
  },
  "language_info": {
   "codemirror_mode": {
    "name": "ipython",
    "version": 3
   },
   "file_extension": ".py",
   "mimetype": "text/x-python",
   "name": "python",
   "nbconvert_exporter": "python",
   "pygments_lexer": "ipython3",
   "version": "3.7.3"
  }
 },
 "nbformat": 4,
 "nbformat_minor": 2
}
