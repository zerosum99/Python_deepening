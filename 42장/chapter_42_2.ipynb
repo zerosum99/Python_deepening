{
 "cells": [
  {
   "cell_type": "markdown",
   "metadata": {},
   "source": [
    "## 42-2-1 객체 정보에 대한 포매팅 알아보기"
   ]
  },
  {
   "cell_type": "code",
   "execution_count": null,
   "metadata": {},
   "outputs": [],
   "source": []
  },
  {
   "cell_type": "code",
   "execution_count": 36,
   "metadata": {},
   "outputs": [],
   "source": [
    "class User :                                          ## 클래스를 정의할 때 객체를 문자열 출력과 실행창에 출력 함수를 정의\n",
    "    def __str__(self) :\n",
    "        return \"User  class {}\".format(id(self))       ## 문자열 포맷에 따라 객체의 레퍼런스를 정수로 출력\n",
    "    \n",
    "    def __repr__(self) :\n",
    "        return \"repr  class {}\".format(id(self))       ## 문자열 포맷에 따라 객체의 레퍼런스를 정수로 출력"
   ]
  },
  {
   "cell_type": "code",
   "execution_count": 37,
   "metadata": {},
   "outputs": [],
   "source": [
    "u = User()                      ## 객체를 하나 만든다"
   ]
  },
  {
   "cell_type": "code",
   "execution_count": 38,
   "metadata": {},
   "outputs": [
    {
     "name": "stdout",
     "output_type": "stream",
     "text": [
      "User  class 2363835158144\n"
     ]
    }
   ],
   "source": [
    "print(u)                          ## print 함수로 출력하면 __str__를 사용한다"
   ]
  },
  {
   "cell_type": "code",
   "execution_count": 39,
   "metadata": {},
   "outputs": [
    {
     "name": "stdout",
     "output_type": "stream",
     "text": [
      "User  class 2363835158144\n"
     ]
    }
   ],
   "source": [
    "print(u.__str__())"
   ]
  },
  {
   "cell_type": "code",
   "execution_count": null,
   "metadata": {},
   "outputs": [],
   "source": []
  },
  {
   "cell_type": "code",
   "execution_count": 40,
   "metadata": {},
   "outputs": [
    {
     "data": {
      "text/plain": [
       "repr  class 2363835158144"
      ]
     },
     "execution_count": 40,
     "metadata": {},
     "output_type": "execute_result"
    }
   ],
   "source": [
    "u                               ## 셀에서 객체를 출력하면 __repr__을 실행한다"
   ]
  },
  {
   "cell_type": "code",
   "execution_count": 42,
   "metadata": {},
   "outputs": [
    {
     "data": {
      "text/plain": [
       "'repr  class 2363835158144'"
      ]
     },
     "execution_count": 42,
     "metadata": {},
     "output_type": "execute_result"
    }
   ],
   "source": [
    "u.__repr__()"
   ]
  },
  {
   "cell_type": "code",
   "execution_count": null,
   "metadata": {},
   "outputs": [],
   "source": []
  },
  {
   "cell_type": "code",
   "execution_count": 43,
   "metadata": {},
   "outputs": [
    {
     "data": {
      "text/plain": [
       "'User  class 2363835158144'"
      ]
     },
     "execution_count": 43,
     "metadata": {},
     "output_type": "execute_result"
    }
   ],
   "source": [
    "str(u)                             ## 내장함수 str은  __str__을 호출해서 처리한다"
   ]
  },
  {
   "cell_type": "code",
   "execution_count": 44,
   "metadata": {},
   "outputs": [
    {
     "data": {
      "text/plain": [
       "'repr  class 2363835158144'"
      ]
     },
     "execution_count": 44,
     "metadata": {},
     "output_type": "execute_result"
    }
   ],
   "source": [
    "repr(u)                             ## 내장함수 repr은 __repr__을 호출해서 처리한다"
   ]
  },
  {
   "cell_type": "code",
   "execution_count": null,
   "metadata": {},
   "outputs": [],
   "source": []
  },
  {
   "cell_type": "markdown",
   "metadata": {},
   "source": [
    "## 42-2-2 문자열에 대한 포매팅 알아보기"
   ]
  },
  {
   "cell_type": "code",
   "execution_count": 9,
   "metadata": {},
   "outputs": [
    {
     "data": {
      "text/plain": [
       "<function format(value, format_spec='', /)>"
      ]
     },
     "execution_count": 9,
     "metadata": {},
     "output_type": "execute_result"
    }
   ],
   "source": [
    "format                                         ## 문자열 출력에 사용하는 함수"
   ]
  },
  {
   "cell_type": "code",
   "execution_count": 10,
   "metadata": {},
   "outputs": [
    {
     "data": {
      "text/plain": [
       "<method 'format' of 'str' objects>"
      ]
     },
     "execution_count": 10,
     "metadata": {},
     "output_type": "execute_result"
    }
   ],
   "source": [
    "str.format                                     ## 문자열 클래스의 출력 메소드"
   ]
  },
  {
   "cell_type": "code",
   "execution_count": null,
   "metadata": {},
   "outputs": [],
   "source": []
  },
  {
   "cell_type": "code",
   "execution_count": 11,
   "metadata": {},
   "outputs": [],
   "source": [
    "a = 1000\n",
    "b = 2000\n",
    "c = 3000"
   ]
  },
  {
   "cell_type": "code",
   "execution_count": 12,
   "metadata": {},
   "outputs": [
    {
     "data": {
      "text/plain": [
       "'1000, 2000 3000'"
      ]
     },
     "execution_count": 12,
     "metadata": {},
     "output_type": "execute_result"
    }
   ],
   "source": [
    "format(\"%d, %d %d\" % (a,b,c))               ## 함수를 이용할 때는 %d로 정수에 대한 처리를 한다. 전달되는 변수는 % 다음에 지정한다"
   ]
  },
  {
   "cell_type": "code",
   "execution_count": 13,
   "metadata": {},
   "outputs": [
    {
     "name": "stdout",
     "output_type": "stream",
     "text": [
      "1000, 2000 3000\n"
     ]
    }
   ],
   "source": [
    "print(\"%d, %d %d\" % (a,b,c))             ## print 함수에 format 함수 내부의 인자만 전달해서 처리가 가능하다"
   ]
  },
  {
   "cell_type": "code",
   "execution_count": 14,
   "metadata": {},
   "outputs": [
    {
     "name": "stdout",
     "output_type": "stream",
     "text": [
      " a = 1000, b = 2000, c = 3000 \n"
     ]
    }
   ],
   "source": [
    "print(' a = {}, b = {}, c = {} '.format(a, b, c))   ## 문자열의 포맷메소드로 처리할 때는 중괄호를 사용해서 처리"
   ]
  },
  {
   "cell_type": "code",
   "execution_count": null,
   "metadata": {},
   "outputs": [],
   "source": []
  },
  {
   "cell_type": "code",
   "execution_count": 15,
   "metadata": {},
   "outputs": [
    {
     "name": "stdout",
     "output_type": "stream",
     "text": [
      " a = 1000, b = 2000, c = 3000 \n"
     ]
    }
   ],
   "source": [
    "print(' a = {0}, b = {1}, c = {2} '.format(a, b, c))      ##format 메소드에 전달된 인자를 중괄호 내의 숫자를 표시하면 인자의 위치와 매핑\n",
    "                                  "
   ]
  },
  {
   "cell_type": "code",
   "execution_count": 16,
   "metadata": {},
   "outputs": [
    {
     "name": "stdout",
     "output_type": "stream",
     "text": [
      " a = 1000, b = 1000, c = 1000 \n"
     ]
    }
   ],
   "source": [
    "print(' a = {0}, b = {0}, c = {0} '.format(a, b, c))   ## 인자가 3개지만 중괄호에 0으로만 표시하면 첫번째 인자만 매핑"
   ]
  },
  {
   "cell_type": "code",
   "execution_count": null,
   "metadata": {},
   "outputs": [],
   "source": []
  },
  {
   "cell_type": "code",
   "execution_count": 46,
   "metadata": {},
   "outputs": [],
   "source": [
    "d = {'a':2, 'b':4 , 'c':6}                      ## 딕셔너리를 만든다"
   ]
  },
  {
   "cell_type": "code",
   "execution_count": 53,
   "metadata": {},
   "outputs": [
    {
     "data": {
      "text/plain": [
       "' a = 2, b = 4, c = 6 '"
      ]
     },
     "execution_count": 53,
     "metadata": {},
     "output_type": "execute_result"
    }
   ],
   "source": [
    "' a = {0[a]}, b = {0[b]}, c = {0[c]} '.format(d)     ## 포맷 함수에 딕셔너리를 인자로 전달하면 중괄호에 0을 넣고 대괄호에 \n",
    "                                                     ## 딕셔너리 내의 키를 전달할 수 있다"
   ]
  },
  {
   "cell_type": "code",
   "execution_count": 54,
   "metadata": {},
   "outputs": [
    {
     "data": {
      "text/plain": [
       "' a = 2, b = 4, c = 6 '"
      ]
     },
     "execution_count": 54,
     "metadata": {},
     "output_type": "execute_result"
    }
   ],
   "source": [
    "' a = {a}, b = {b}, c = {c} '.format(**d)            ## format 메소드에 딕셔너리 앞에 별표 2개를 붙이면 키워드 인자로 전달된다.\n",
    "                                                     ## 이때는 중괄호에 키를 입력하면 매핑된다"
   ]
  },
  {
   "cell_type": "code",
   "execution_count": null,
   "metadata": {},
   "outputs": [],
   "source": []
  },
  {
   "cell_type": "code",
   "execution_count": 17,
   "metadata": {},
   "outputs": [
    {
     "name": "stdout",
     "output_type": "stream",
     "text": [
      "a = [ 1000],  b = [      2000], c = [                3000]\n"
     ]
    }
   ],
   "source": [
    "print('a = [{0:5d}],  b = [{1:10d}], c = [{2:20d}]'.format(a, b, c))   ## 콜론다음에 포매팅을 붙여서 출력할 수 있다"
   ]
  },
  {
   "cell_type": "code",
   "execution_count": 18,
   "metadata": {},
   "outputs": [
    {
     "name": "stdout",
     "output_type": "stream",
     "text": [
      "a = [ 1000],  b = [      2000], c = [                3000]\n"
     ]
    }
   ],
   "source": [
    "print('a = [{0:>5d}],  b = [{1:>10d}], c = [{2:>20d}]'.format(a, b, c))"
   ]
  },
  {
   "cell_type": "code",
   "execution_count": 19,
   "metadata": {},
   "outputs": [
    {
     "name": "stdout",
     "output_type": "stream",
     "text": [
      "a = [1000 ],  b = [2000      ], c = [3000                ]\n"
     ]
    }
   ],
   "source": [
    "print('a = [{0:<5d}],  b = [{1:<10d}], c = [{2:<20d}]'.format(a, b, c))  ##  출력되는 곳이 좌측부터처다는 부등호 표시로 지정한다"
   ]
  },
  {
   "cell_type": "code",
   "execution_count": 20,
   "metadata": {},
   "outputs": [
    {
     "name": "stdout",
     "output_type": "stream",
     "text": [
      "a = [1000 ],  b = [   2000   ], c = [        3000        ] \n"
     ]
    }
   ],
   "source": [
    "print('a = [{0:^5d}],  b = [{1:^10d}], c = [{2:^20d}] ' .format(a,b,c))  ##  중간부터 포매팅을 하려면 ^ 기호를 사용한다"
   ]
  },
  {
   "cell_type": "code",
   "execution_count": null,
   "metadata": {},
   "outputs": [],
   "source": []
  },
  {
   "cell_type": "code",
   "execution_count": 56,
   "metadata": {},
   "outputs": [
    {
     "data": {
      "text/plain": [
       "'a = [          1000.33300],  b = [     2000.33300     ], c = [3000.33300          ]'"
      ]
     },
     "execution_count": 56,
     "metadata": {},
     "output_type": "execute_result"
    }
   ],
   "source": [
    "'a = [{0:>20.5f}],  b = [{1:^20.5f}], c = [{2:<20.5f}]'.format(1000.333, 2000.333, 3000.333) ## 실수일 때는 소숫점이하도 표시할 수 있다"
   ]
  },
  {
   "cell_type": "code",
   "execution_count": null,
   "metadata": {},
   "outputs": [],
   "source": []
  },
  {
   "cell_type": "code",
   "execution_count": 57,
   "metadata": {},
   "outputs": [
    {
     "data": {
      "text/plain": [
       "'1,000,000'"
      ]
     },
     "execution_count": 57,
     "metadata": {},
     "output_type": "execute_result"
    }
   ],
   "source": [
    "'{:,}'.format(1000000)        ## 천단위로 쉼표를 붙일 때는 콜론다음에 쉼표를 붙인다"
   ]
  },
  {
   "cell_type": "code",
   "execution_count": null,
   "metadata": {},
   "outputs": [],
   "source": []
  },
  {
   "cell_type": "code",
   "execution_count": 58,
   "metadata": {},
   "outputs": [],
   "source": [
    "points = 19"
   ]
  },
  {
   "cell_type": "code",
   "execution_count": 59,
   "metadata": {},
   "outputs": [],
   "source": [
    "total = 22"
   ]
  },
  {
   "cell_type": "code",
   "execution_count": 61,
   "metadata": {},
   "outputs": [
    {
     "data": {
      "text/plain": [
       "'백분율 처리 : 86.36%'"
      ]
     },
     "execution_count": 61,
     "metadata": {},
     "output_type": "execute_result"
    }
   ],
   "source": [
    "'백분율 처리 : {:.2%}'.format(points/total)      ## %를 표시할 수도 있다"
   ]
  },
  {
   "cell_type": "code",
   "execution_count": null,
   "metadata": {},
   "outputs": [],
   "source": []
  },
  {
   "cell_type": "code",
   "execution_count": 29,
   "metadata": {},
   "outputs": [],
   "source": [
    "import datetime"
   ]
  },
  {
   "cell_type": "code",
   "execution_count": 63,
   "metadata": {},
   "outputs": [],
   "source": [
    "d = datetime.datetime(2019, 2,5, 12, 15, 58)"
   ]
  },
  {
   "cell_type": "code",
   "execution_count": 64,
   "metadata": {},
   "outputs": [
    {
     "data": {
      "text/plain": [
       "'2019-02-05 12:15:58'"
      ]
     },
     "execution_count": 64,
     "metadata": {},
     "output_type": "execute_result"
    }
   ],
   "source": [
    "'{:%Y-%m-%d %H:%M:%S}'.format(d)          ## 날짜를 표시할 때도 콜론 다음에 표시할 수 있다"
   ]
  },
  {
   "cell_type": "code",
   "execution_count": 65,
   "metadata": {},
   "outputs": [
    {
     "name": "stdout",
     "output_type": "stream",
     "text": [
      "2019-02-05 12:15:58\n"
     ]
    }
   ],
   "source": [
    "print(f'{d:%Y-%m-%d %H:%M:%S}')           ## f 문자열을 사용하면 변수명을 받고 바로 포매팅을 처리할 수 있다."
   ]
  },
  {
   "cell_type": "code",
   "execution_count": null,
   "metadata": {},
   "outputs": [],
   "source": []
  }
 ],
 "metadata": {
  "kernelspec": {
   "display_name": "Python 3",
   "language": "python",
   "name": "python3"
  },
  "language_info": {
   "codemirror_mode": {
    "name": "ipython",
    "version": 3
   },
   "file_extension": ".py",
   "mimetype": "text/x-python",
   "name": "python",
   "nbconvert_exporter": "python",
   "pygments_lexer": "ipython3",
   "version": "3.7.3"
  }
 },
 "nbformat": 4,
 "nbformat_minor": 2
}
