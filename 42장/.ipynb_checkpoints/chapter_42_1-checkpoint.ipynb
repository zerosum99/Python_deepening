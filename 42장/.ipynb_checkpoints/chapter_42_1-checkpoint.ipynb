{
 "cells": [
  {
   "cell_type": "markdown",
   "metadata": {},
   "source": [
    "## 42-1-1 표준 입출력 함수 알아보기"
   ]
  },
  {
   "cell_type": "code",
   "execution_count": 1,
   "metadata": {},
   "outputs": [
    {
     "data": {
      "text/plain": [
       "<bound method Kernel.raw_input of <ipykernel.ipkernel.IPythonKernel object at 0x000002DB46DA6438>>"
      ]
     },
     "execution_count": 1,
     "metadata": {},
     "output_type": "execute_result"
    }
   ],
   "source": [
    "input                  ##  표준 입력함수가 아닌 메소드라는 것을 알 수 있다 "
   ]
  },
  {
   "cell_type": "code",
   "execution_count": 2,
   "metadata": {},
   "outputs": [
    {
     "data": {
      "text/plain": [
       "<function print>"
      ]
     },
     "execution_count": 2,
     "metadata": {},
     "output_type": "execute_result"
    }
   ],
   "source": [
    "print               ## 표준 출력을 처리하는 함수이다"
   ]
  },
  {
   "cell_type": "code",
   "execution_count": 3,
   "metadata": {},
   "outputs": [
    {
     "name": "stdout",
     "output_type": "stream",
     "text": [
      " 입력하세요 8\n"
     ]
    },
    {
     "data": {
      "text/plain": [
       "'8'"
      ]
     },
     "execution_count": 3,
     "metadata": {},
     "output_type": "execute_result"
    }
   ],
   "source": [
    "input(\" 입력하세요 \")     ## 표준 입력에 문자열을 넣고 실행하면 문자열이 출력되고 입력값을 넣을 수 있다"
   ]
  },
  {
   "cell_type": "code",
   "execution_count": null,
   "metadata": {},
   "outputs": [],
   "source": []
  },
  {
   "cell_type": "code",
   "execution_count": 7,
   "metadata": {},
   "outputs": [
    {
     "name": "stdout",
     "output_type": "stream",
     "text": [
      " 입력을 받고 출력하세요 \n",
      " 입력하세요 : 9999\n",
      " 입력받은 것을 출력합니다.  9999\n"
     ]
    }
   ],
   "source": [
    "print(\" 입력을 받고 출력하세요 \")             ## print 함수를 출력한 후에 \n",
    "s = input(\" 입력하세요 : \")                   ## 입력을 받는다\n",
    "print(\" 입력받은 것을 출력합니다. \",s)        ## 입력을 받아서 변수에 저장한 후에 출력이 가능하다"
   ]
  },
  {
   "cell_type": "code",
   "execution_count": null,
   "metadata": {},
   "outputs": [],
   "source": []
  },
  {
   "cell_type": "code",
   "execution_count": 8,
   "metadata": {},
   "outputs": [],
   "source": [
    "def add(x,y) :                             ## 함수를 정의한다\n",
    "    return x+y"
   ]
  },
  {
   "cell_type": "code",
   "execution_count": 10,
   "metadata": {},
   "outputs": [
    {
     "name": "stdout",
     "output_type": "stream",
     "text": [
      " 정수 값을  입력하세요 : 10\n"
     ]
    }
   ],
   "source": [
    "x = int(input(\" 정수 값을  입력하세요 : \"))     ## 표준입력을 받아서 정수로 변환한 후에 변수에 저장한다"
   ]
  },
  {
   "cell_type": "code",
   "execution_count": 11,
   "metadata": {},
   "outputs": [
    {
     "name": "stdout",
     "output_type": "stream",
     "text": [
      " 정수 값을  입력하세요 : 20\n"
     ]
    }
   ],
   "source": [
    "y = int(input(\" 정수 값을  입력하세요 : \"))    ## 표준입력을 받아서 정수로 변환한 후에 변수에 저장한다"
   ]
  },
  {
   "cell_type": "code",
   "execution_count": 12,
   "metadata": {},
   "outputs": [
    {
     "name": "stdout",
     "output_type": "stream",
     "text": [
      "add 함수 실행  30\n"
     ]
    }
   ],
   "source": [
    "print(\"add 함수 실행 \",add(x,y))        ## 두 개의 변수를 함수에 인자로 전달한 후에 실행하고 print 함수로 출력한다"
   ]
  },
  {
   "cell_type": "code",
   "execution_count": null,
   "metadata": {},
   "outputs": [],
   "source": []
  }
 ],
 "metadata": {
  "kernelspec": {
   "display_name": "Python 3",
   "language": "python",
   "name": "python3"
  },
  "language_info": {
   "codemirror_mode": {
    "name": "ipython",
    "version": 3
   },
   "file_extension": ".py",
   "mimetype": "text/x-python",
   "name": "python",
   "nbconvert_exporter": "python",
   "pygments_lexer": "ipython3",
   "version": "3.7.3"
  }
 },
 "nbformat": 4,
 "nbformat_minor": 2
}
