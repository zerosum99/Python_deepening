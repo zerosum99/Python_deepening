{
 "cells": [
  {
   "cell_type": "markdown",
   "metadata": {},
   "source": [
    "## 예제 42-3-1  :  수학산식 계산하기 "
   ]
  },
  {
   "cell_type": "code",
   "execution_count": null,
   "metadata": {},
   "outputs": [],
   "source": []
  },
  {
   "cell_type": "code",
   "execution_count": 35,
   "metadata": {
    "scrolled": true
   },
   "outputs": [
    {
     "name": "stdout",
     "output_type": "stream",
     "text": [
      " 수학산식을 입력하세요 :1000 + 1000\n",
      "2000\n",
      " 수학산식을 입력하세요 :3000 ** 3\n",
      "27000000000\n",
      " 수학산식을 입력하세요 :quit\n"
     ]
    }
   ],
   "source": [
    "while True :                                          ##  무한 순환을 처리한다\n",
    "    expr = input(\" 수학산식을 입력하세요 :\")           ## 수학 수식을 입력받는다\n",
    "    if expr == 'quit' :                             ## quit를 맞나면 순환을 중단한다\n",
    "        break\n",
    "    print(eval(expr))                               ## 문자열을 바로 eval로 평가해서 결과를 출력한다"
   ]
  },
  {
   "cell_type": "code",
   "execution_count": null,
   "metadata": {},
   "outputs": [],
   "source": []
  },
  {
   "cell_type": "code",
   "execution_count": null,
   "metadata": {},
   "outputs": [],
   "source": []
  },
  {
   "cell_type": "code",
   "execution_count": 2,
   "metadata": {},
   "outputs": [],
   "source": [
    "import operator as op                                   ## 연산자를 함수로 처리하는 모듈을 사용한다"
   ]
  },
  {
   "cell_type": "code",
   "execution_count": 3,
   "metadata": {},
   "outputs": [],
   "source": [
    "d = {'+': op.add, '-':op.sub, '*':op.mul, '/':op.truediv}   ## 연산자를 키로 정하고 값으로 함수를 할당한다"
   ]
  },
  {
   "cell_type": "code",
   "execution_count": null,
   "metadata": {},
   "outputs": [],
   "source": []
  },
  {
   "cell_type": "code",
   "execution_count": 8,
   "metadata": {},
   "outputs": [
    {
     "name": "stdout",
     "output_type": "stream",
     "text": [
      "  start or quit  :start\n",
      " 첫번째 값을 넣으세요 :100\n",
      " 두번째 값을 넣으세요 :200\n",
      " 연산자 기호를 넣으세요 :+\n",
      "300\n",
      "  start or quit  :a\n"
     ]
    }
   ],
   "source": [
    "while True :\n",
    "    start = input(\"  start or quit  :\")\n",
    "    if start == 'start' :\n",
    "        var1  = input(\" 첫번째 값을 넣으세요 :\")         ## 두 개의 인자를 받는다\n",
    "        var2  = input(\" 두번째 값을 넣으세요 :\")\n",
    "        op_code  = input(\" 연산자 기호를 넣으세요 :\")    ## 연산자 기호를 받는다\n",
    "        exer = d.get(op_code.strip(), op.add)           ## 딕셔너리 내에서 기호해당되는 함수를 조회\n",
    "        print(exer(int(var1), int(var2)))               ## 두 개의 변수를 정수로 변환한 것을 함수의 인자로 전달해서 함수를 실행\n",
    "    else :\n",
    "        break\n"
   ]
  },
  {
   "cell_type": "code",
   "execution_count": null,
   "metadata": {},
   "outputs": [],
   "source": []
  },
  {
   "cell_type": "code",
   "execution_count": null,
   "metadata": {},
   "outputs": [],
   "source": []
  }
 ],
 "metadata": {
  "kernelspec": {
   "display_name": "Python 3",
   "language": "python",
   "name": "python3"
  },
  "language_info": {
   "codemirror_mode": {
    "name": "ipython",
    "version": 3
   },
   "file_extension": ".py",
   "mimetype": "text/x-python",
   "name": "python",
   "nbconvert_exporter": "python",
   "pygments_lexer": "ipython3",
   "version": "3.7.3"
  }
 },
 "nbformat": 4,
 "nbformat_minor": 2
}
