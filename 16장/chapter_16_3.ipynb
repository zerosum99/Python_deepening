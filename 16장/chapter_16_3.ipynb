{
 "cells": [
  {
   "cell_type": "markdown",
   "metadata": {},
   "source": [
    "## 예제 16-3-1  독테스팅 처리 알아보기 "
   ]
  },
  {
   "cell_type": "code",
   "execution_count": 1,
   "metadata": {},
   "outputs": [],
   "source": [
    "import doctest                       ## 문서화 내부에 특정 기능을 넣으면 테스트가 가능하는 함수 등을 제공"
   ]
  },
  {
   "cell_type": "code",
   "execution_count": 2,
   "metadata": {},
   "outputs": [],
   "source": [
    "def add(x,y):                             ## 함수를 정의할 때 문서화에 >>>와 함수 실행을 적고 다음 줄에 결과값을 넣는다\n",
    "    '''\n",
    "    >>> add(5,10)\n",
    "    15\n",
    "    '''\n",
    "    return x+y"
   ]
  },
  {
   "cell_type": "code",
   "execution_count": 3,
   "metadata": {},
   "outputs": [
    {
     "data": {
      "text/plain": [
       "TestResults(failed=0, attempted=1)"
      ]
     },
     "execution_count": 3,
     "metadata": {},
     "output_type": "execute_result"
    }
   ],
   "source": [
    "doctest.testmod()                                      ## 함수를 테스트 모드로 실행하면 문서화 내부의 함수 실행이 정상적으로 실행된다"
   ]
  },
  {
   "cell_type": "code",
   "execution_count": 4,
   "metadata": {},
   "outputs": [],
   "source": [
    "def my_fun():                                            ## 아무것도 처리하지 않는 함수를 정의한다. 문서화에는 실행된 결과를 작성한다\n",
    "    '''\n",
    "    >>> my_fun(2,3)\n",
    "    6\n",
    "    '''\n",
    "    pass\n"
   ]
  },
  {
   "cell_type": "code",
   "execution_count": 5,
   "metadata": {},
   "outputs": [
    {
     "name": "stdout",
     "output_type": "stream",
     "text": [
      "**********************************************************************\n",
      "File \"__main__\", line 3, in __main__.my_fun\n",
      "Failed example:\n",
      "    my_fun(2,3)\n",
      "Exception raised:\n",
      "    Traceback (most recent call last):\n",
      "      File \"/Users/dahlmoon/anaconda/lib/python3.7/doctest.py\", line 1329, in __run\n",
      "        compileflags, 1), test.globs)\n",
      "      File \"<doctest __main__.my_fun[0]>\", line 1, in <module>\n",
      "        my_fun(2,3)\n",
      "    TypeError: my_fun() takes 0 positional arguments but 2 were given\n",
      "**********************************************************************\n",
      "1 items had failures:\n",
      "   1 of   1 in __main__.my_fun\n",
      "***Test Failed*** 1 failures.\n"
     ]
    },
    {
     "data": {
      "text/plain": [
       "TestResults(failed=1, attempted=2)"
      ]
     },
     "execution_count": 5,
     "metadata": {},
     "output_type": "execute_result"
    }
   ],
   "source": [
    "doctest.testmod()                                                                            ## 문서화 테스트를 수행하면 예외를 표시한다"
   ]
  },
  {
   "cell_type": "markdown",
   "metadata": {},
   "source": [
    "## 실행을 doctest로 처리하기\n"
   ]
  },
  {
   "cell_type": "code",
   "execution_count": null,
   "metadata": {},
   "outputs": [],
   "source": [
    "                                             ## 별도의 모듈로 만든다"
   ]
  },
  {
   "cell_type": "code",
   "execution_count": 22,
   "metadata": {},
   "outputs": [
    {
     "name": "stdout",
     "output_type": "stream",
     "text": [
      "Overwriting add_.py\n"
     ]
    }
   ],
   "source": [
    "%%writefile add_.py\n",
    "def add_(x,y):\n",
    "    '''\n",
    "    >>> add_(5,10)\n",
    "    15\n",
    "    '''\n",
    "    return x + y"
   ]
  },
  {
   "cell_type": "code",
   "execution_count": null,
   "metadata": {},
   "outputs": [],
   "source": [
    "                                                    ## 파이썬 실행명렬으로 테스트를 한다. 정상적인 결과이므로 예외 없이 결과를 보여준다"
   ]
  },
  {
   "cell_type": "code",
   "execution_count": 23,
   "metadata": {},
   "outputs": [
    {
     "name": "stdout",
     "output_type": "stream",
     "text": [
      "Trying:\r\n",
      "    add_(5,10)\r\n",
      "Expecting:\r\n",
      "    15\r\n",
      "ok\r\n",
      "1 items had no tests:\r\n",
      "    add_\r\n",
      "1 items passed all tests:\r\n",
      "   1 tests in add_.add_\r\n",
      "1 tests in 2 items.\r\n",
      "1 passed and 0 failed.\r\n",
      "Test passed.\r\n"
     ]
    }
   ],
   "source": [
    "!python -m doctest add_.py -v "
   ]
  },
  {
   "cell_type": "code",
   "execution_count": null,
   "metadata": {},
   "outputs": [],
   "source": []
  },
  {
   "cell_type": "markdown",
   "metadata": {},
   "source": [
    "##  메인에 doctest 넣고 별도 모듈로 처리하기"
   ]
  },
  {
   "cell_type": "code",
   "execution_count": null,
   "metadata": {},
   "outputs": [],
   "source": [
    "                                                                ## 모듈을 만들 때 모듈 내부에서 직접 테스트를 할 수 있도록 정의한다"
   ]
  },
  {
   "cell_type": "code",
   "execution_count": 26,
   "metadata": {},
   "outputs": [
    {
     "name": "stdout",
     "output_type": "stream",
     "text": [
      "Overwriting Foo.py\n"
     ]
    }
   ],
   "source": [
    "%%writefile Foo.py\n",
    "def foo(x):\n",
    "    \"\"\"\n",
    "    >>> foo(5)\n",
    "    5\n",
    "    \"\"\"\n",
    "    return x\n",
    "\n",
    "if __name__ in (\"__main__\", \"__console__\"):          ## 이 모듈을 실행하면 이 제어문 내의 로직이 처리되도록 구성한다\n",
    "    import doctest\n",
    "    doctest.testmod(verbose=True)"
   ]
  },
  {
   "cell_type": "code",
   "execution_count": null,
   "metadata": {},
   "outputs": [],
   "source": [
    "                                       ## 주피터 노트북 명령으로 모듈을 실행하면  모듈 내의 제어문이 실행되어 테스트 결과를 출력한다"
   ]
  },
  {
   "cell_type": "code",
   "execution_count": 27,
   "metadata": {},
   "outputs": [
    {
     "name": "stdout",
     "output_type": "stream",
     "text": [
      "Trying:\n",
      "    foo(5)\n",
      "Expecting:\n",
      "    5\n",
      "ok\n",
      "1 items had no tests:\n",
      "    __main__\n",
      "1 items passed all tests:\n",
      "   1 tests in __main__.foo\n",
      "1 tests in 2 items.\n",
      "1 passed and 0 failed.\n",
      "Test passed.\n"
     ]
    }
   ],
   "source": [
    "%run Foo.py"
   ]
  },
  {
   "cell_type": "code",
   "execution_count": null,
   "metadata": {},
   "outputs": [],
   "source": [
    "                                                                                   ## 객체를 생성할 때 주의할 점은 항상 새로운 레퍼런스를 만든다.\n",
    "                                                                                   ## 그래서 #doctest: + ELLIPSIS를 작성해서 테스트할 때 객체 러퍼런스를 생략처리한다"
   ]
  },
  {
   "cell_type": "code",
   "execution_count": 10,
   "metadata": {},
   "outputs": [
    {
     "name": "stdout",
     "output_type": "stream",
     "text": [
      "Overwriting unpredictable.py\n"
     ]
    }
   ],
   "source": [
    "%%writefile unpredictable.py\n",
    "class MyClass(object):\n",
    "    pass\n",
    "\n",
    "def unpredictable(obj):\n",
    "    \"\"\"Returns a new list containing obj.\n",
    "\n",
    "    >>> unpredictable(MyClass()) #doctest: +ELLIPSIS\n",
    "    [<__main__.MyClass object at 0x...>]\n",
    "    \"\"\"\n",
    "    return [obj]\n",
    "\n",
    "if __name__ in (\"__main__\", \"__console__\"):\n",
    "    import doctest\n",
    "    doctest.testmod(verbose=True)"
   ]
  },
  {
   "cell_type": "code",
   "execution_count": null,
   "metadata": {},
   "outputs": [],
   "source": [
    "                                                                                     ## 테스트를 실행하면 정상으로 처리한다"
   ]
  },
  {
   "cell_type": "code",
   "execution_count": 11,
   "metadata": {},
   "outputs": [
    {
     "name": "stdout",
     "output_type": "stream",
     "text": [
      "Trying:\n",
      "    unpredictable(MyClass()) #doctest: +ELLIPSIS\n",
      "Expecting:\n",
      "    [<__main__.MyClass object at 0x...>]\n",
      "ok\n",
      "2 items had no tests:\n",
      "    __main__\n",
      "    __main__.MyClass\n",
      "1 items passed all tests:\n",
      "   1 tests in __main__.unpredictable\n",
      "1 tests in 3 items.\n",
      "1 passed and 0 failed.\n",
      "Test passed.\n"
     ]
    }
   ],
   "source": [
    "%run  unpredictable.py"
   ]
  },
  {
   "cell_type": "code",
   "execution_count": null,
   "metadata": {},
   "outputs": [],
   "source": [
    "                                                                      ##  생략기호를 뺀다"
   ]
  },
  {
   "cell_type": "code",
   "execution_count": 12,
   "metadata": {},
   "outputs": [
    {
     "name": "stdout",
     "output_type": "stream",
     "text": [
      "Overwriting unpredictable__.py\n"
     ]
    }
   ],
   "source": [
    "%%writefile unpredictable__.py\n",
    "class MyClass(object):\n",
    "    pass\n",
    "\n",
    "def unpredictable(obj):\n",
    "    \"\"\"Returns a new list containing obj.\n",
    "\n",
    "    >>> unpredictable(MyClass())\n",
    "    [<__main__.MyClass object at 0x...>]\n",
    "    \"\"\"\n",
    "    return [obj]\n",
    "\n",
    "if __name__ in (\"__main__\", \"__console__\"):\n",
    "    import doctest\n",
    "    doctest.testmod(verbose=True)"
   ]
  },
  {
   "cell_type": "code",
   "execution_count": null,
   "metadata": {},
   "outputs": [],
   "source": [
    "                                                            ## 이를 테스트하면  객체 레퍼런스를 체크해서 예외를 발생한다"
   ]
  },
  {
   "cell_type": "code",
   "execution_count": 13,
   "metadata": {},
   "outputs": [
    {
     "name": "stdout",
     "output_type": "stream",
     "text": [
      "Trying:\n",
      "    unpredictable(MyClass())\n",
      "Expecting:\n",
      "    [<__main__.MyClass object at 0x...>]\n",
      "**********************************************************************\n",
      "File \"/Users/dahlmoon/Documents/GitHub/python_book/책쓰기_토마토/파이썬 문법/실습자료/16장/unpredictable__.py\", line 7, in __main__.unpredictable\n",
      "Failed example:\n",
      "    unpredictable(MyClass())\n",
      "Expected:\n",
      "    [<__main__.MyClass object at 0x...>]\n",
      "Got:\n",
      "    [<__main__.MyClass object at 0x107cc32b0>]\n",
      "2 items had no tests:\n",
      "    __main__\n",
      "    __main__.MyClass\n",
      "**********************************************************************\n",
      "1 items had failures:\n",
      "   1 of   1 in __main__.unpredictable\n",
      "1 tests in 3 items.\n",
      "0 passed and 1 failed.\n",
      "***Test Failed*** 1 failures.\n"
     ]
    }
   ],
   "source": [
    "%run  unpredictable__.py"
   ]
  },
  {
   "cell_type": "code",
   "execution_count": null,
   "metadata": {},
   "outputs": [],
   "source": []
  }
 ],
 "metadata": {
  "kernelspec": {
   "display_name": "Python 3",
   "language": "python",
   "name": "python3"
  },
  "language_info": {
   "codemirror_mode": {
    "name": "ipython",
    "version": 3
   },
   "file_extension": ".py",
   "mimetype": "text/x-python",
   "name": "python",
   "nbconvert_exporter": "python",
   "pygments_lexer": "ipython3",
   "version": "3.6.8"
  }
 },
 "nbformat": 4,
 "nbformat_minor": 2
}
