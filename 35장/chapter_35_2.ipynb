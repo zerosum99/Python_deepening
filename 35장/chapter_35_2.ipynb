{
 "cells": [
  {
   "cell_type": "markdown",
   "metadata": {},
   "source": [
    "## 예제 35-2-1 결합관계 이해하기"
   ]
  },
  {
   "cell_type": "code",
   "execution_count": 13,
   "metadata": {},
   "outputs": [],
   "source": [
    "class Balance(object):                                             ## 계정 잔액을 관리하는 클래스를 정의한다\n",
    "    def __init__(self, account_code, money=0) :         ## 초기화 함수에 계정과목코드와 잔액 속성을 만든다\n",
    "        self.account_code = account_code\n",
    "        self.balance = money\n",
    "        \n",
    "    def setBalance(self, money ) :                             ## 계정의 잔액을 변경하는 함수를 정의한다\n",
    "        self.balance += money"
   ]
  },
  {
   "cell_type": "code",
   "execution_count": 33,
   "metadata": {},
   "outputs": [],
   "source": [
    "class Agreement(object):                                        ## 계약을 관리하는 클래스를 정의한다\n",
    "    def __init__(self,money,b):                                    ## 초기화 함수는 계좌의 잔액과  계정잔액의 객체를 가진다\n",
    "        self.acc_balance = money\n",
    "        self.b = b\n",
    "        self.b.setBalance(money)\n",
    "        \n",
    "    def __del__(self) :                                                   ## 계약 객체를 삭제할 때 계정 잔액을 빼준다\n",
    "        self.b.setBalance(-self.acc_balance)                 \n",
    "        del self                                                              ## 삭제할 때는 계약 객체만 삭제한다\n"
   ]
  },
  {
   "cell_type": "code",
   "execution_count": null,
   "metadata": {},
   "outputs": [],
   "source": []
  },
  {
   "cell_type": "code",
   "execution_count": 34,
   "metadata": {},
   "outputs": [],
   "source": [
    "b = Balance(\"1234\")                    ## 계정과목 코드를 인자로 전달해서 객체를 만든다"
   ]
  },
  {
   "cell_type": "code",
   "execution_count": 35,
   "metadata": {},
   "outputs": [],
   "source": [
    "a = Agreement(100,b)                ## 계약 객체를 만들 때 금액과 계정과목의 잔액을 관리하는 객체를 전달한다"
   ]
  },
  {
   "cell_type": "code",
   "execution_count": 29,
   "metadata": {},
   "outputs": [
    {
     "data": {
      "text/plain": [
       "{'acc_balance': 100, 'b': <__main__.Balance at 0x229b60d9d30>}"
      ]
     },
     "execution_count": 29,
     "metadata": {},
     "output_type": "execute_result"
    }
   ],
   "source": [
    "a.__dict__                                                                                          ## 계약 객체의 이름공간을 확인한다"
   ]
  },
  {
   "cell_type": "code",
   "execution_count": 36,
   "metadata": {},
   "outputs": [
    {
     "data": {
      "text/plain": [
       "{'account_code': '1234', 'balance': 100}"
      ]
     },
     "execution_count": 36,
     "metadata": {},
     "output_type": "execute_result"
    }
   ],
   "source": [
    "b.__dict__                                                                         ## 계정과목 잔액 객체의 이름공간을 확인한다"
   ]
  },
  {
   "cell_type": "code",
   "execution_count": null,
   "metadata": {},
   "outputs": [],
   "source": []
  },
  {
   "cell_type": "code",
   "execution_count": 37,
   "metadata": {},
   "outputs": [],
   "source": [
    "del a                                                             ## 계약 객체를 삭제한다"
   ]
  },
  {
   "cell_type": "code",
   "execution_count": 38,
   "metadata": {},
   "outputs": [
    {
     "data": {
      "text/plain": [
       "<__main__.Balance at 0x229b615a630>"
      ]
     },
     "execution_count": 38,
     "metadata": {},
     "output_type": "execute_result"
    }
   ],
   "source": [
    "b                                                                    ## 계정과목 잔액을 관리하는 객체는 사라지지 않는다"
   ]
  },
  {
   "cell_type": "code",
   "execution_count": 39,
   "metadata": {},
   "outputs": [
    {
     "data": {
      "text/plain": [
       "{'account_code': '1234', 'balance': 0}"
      ]
     },
     "execution_count": 39,
     "metadata": {},
     "output_type": "execute_result"
    }
   ],
   "source": [
    "b.__dict__                                                       ## 다음 계약이 생기면 잔액을 변경할 수 있도록 잔액만 0으로 처리된 것을 볼 수 있다"
   ]
  },
  {
   "cell_type": "code",
   "execution_count": null,
   "metadata": {},
   "outputs": [],
   "source": []
  }
 ],
 "metadata": {
  "kernelspec": {
   "display_name": "Python 3",
   "language": "python",
   "name": "python3"
  },
  "language_info": {
   "codemirror_mode": {
    "name": "ipython",
    "version": 3
   },
   "file_extension": ".py",
   "mimetype": "text/x-python",
   "name": "python",
   "nbconvert_exporter": "python",
   "pygments_lexer": "ipython3",
   "version": "3.6.8"
  }
 },
 "nbformat": 4,
 "nbformat_minor": 2
}
