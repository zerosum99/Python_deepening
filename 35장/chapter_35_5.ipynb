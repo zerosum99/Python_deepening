{
 "cells": [
  {
   "cell_type": "markdown",
   "metadata": {},
   "source": [
    "## 예제 35-5-1  옵저버 패턴 알아보기"
   ]
  },
  {
   "cell_type": "code",
   "execution_count": 1,
   "metadata": {},
   "outputs": [],
   "source": [
    "from abc import ABC, abstractmethod               ## 추상 클래스 모듈을 사용한다\n",
    "from random import randrange                          ## 난수를 구하는 모듈을 사용한다"
   ]
  },
  {
   "cell_type": "code",
   "execution_count": 2,
   "metadata": {},
   "outputs": [],
   "source": [
    "class StateMachine(ABC):                                  ## 추상 클래스로 상태 머신을 정의한다.\n",
    "\n",
    "    @abstractmethod                                          ##  데코레이터로 추상 메소드로 attach 를 정의한다\n",
    "    def attach(self, observer):\n",
    "        pass\n",
    "\n",
    "    @abstractmethod                                         ##  데코레이터로 추상 메소드로 detach 를 정의한다\n",
    "    def detach(self, observer):\n",
    "        pass\n",
    "\n",
    "    @abstractmethod                                         ##  데코레이터로 추상 메소드로 notify 를 정의한다\n",
    "    def notify(self):\n",
    "        pass"
   ]
  },
  {
   "cell_type": "code",
   "execution_count": 3,
   "metadata": {},
   "outputs": [],
   "source": [
    "class ConcreteStateMachine(StateMachine):           ## 상태 머신의 구현 클래스를 정의한다\n",
    "  \n",
    "    _state = 0                                                              ##  상태를 관리하는 클래스 속성\n",
    "    _observers = []                                                      ##.  관찰자 객체를 관리하는 클래스 속성\n",
    "  \n",
    "    def attach(self, observer):                                    ##  관찰자 객체를 등록하는 함수를 정의한다\n",
    "        print(\" 업저버 등록 \")\n",
    "        self._observers.append(observer)\n",
    "\n",
    "    def detach(self, observer) :                                  ## 관찰자 객체를 삭제하는 함수를 정의한다\n",
    "        print(\" 업저버 삭제 \")\n",
    "        self._observers.remove(observer)\n",
    "   \n",
    "    def notify(self) :                                                    ## 이벤트를 관찰자 객체에게 전달하는 함수를 정의한다\n",
    "        print(\" 등록된 옵저버에서 통보 ...\")\n",
    "        for observer in self._observers:\n",
    "            observer.update(self)\n",
    "\n",
    "    def some_business_logic(self) :                              ## 상태를 변경하는 이밴트를 받고 관찰자에게 통지하는 함수를 정의한다\n",
    "        print(\"상태 변경하기  .\")\n",
    "        self._state = randrange(0, 10)\n",
    "\n",
    "        print(f\"상태 값 확인하기 : {self._state}\")\n",
    "        self.notify()"
   ]
  },
  {
   "cell_type": "code",
   "execution_count": 4,
   "metadata": {},
   "outputs": [],
   "source": [
    "class Observer(ABC):                                             ## 관찰자  클래스를 정의하는 추상 클래스를 정의한다\n",
    "\n",
    "    @abstractmethod                                               ##  특정 이벤트를  받고 처리할 수 있는 지를 판단하는 추상 메소드 정의\n",
    "    def update(self, subject):\n",
    "        pass\n"
   ]
  },
  {
   "cell_type": "code",
   "execution_count": 5,
   "metadata": {},
   "outputs": [],
   "source": [
    "class ConcreteObserverA(Observer):                   ##  관찰자 구현 클래스를  하나 만든다\n",
    "    def update(self, subject) :                                ## 상태가 9보다 작거나 같은 경우는 이 이벤트를 처리한다\n",
    "        if subject._state <= 9 :\n",
    "            print(\" 관찰 상태 A: 이벤트 실행\")\n"
   ]
  },
  {
   "cell_type": "code",
   "execution_count": 6,
   "metadata": {},
   "outputs": [],
   "source": [
    "class ConcreteObserverB(Observer):                           ##  관찰자 구현 클래스를 하나 더 만든다\n",
    "    def update(self, subject):                                         ##  상태가 0 또는 2 이상일 경우에 이벤트를 처리한다\n",
    "        if subject._state == 0 or subject._state >= 2:\n",
    "            print(\" 관찰 상태 B: 이벤트 실행 \")"
   ]
  },
  {
   "cell_type": "code",
   "execution_count": null,
   "metadata": {},
   "outputs": [],
   "source": []
  },
  {
   "cell_type": "code",
   "execution_count": 7,
   "metadata": {},
   "outputs": [],
   "source": [
    "state = ConcreteStateMachine()                     ## 상태 머신 객체를 만든다"
   ]
  },
  {
   "cell_type": "code",
   "execution_count": 8,
   "metadata": {},
   "outputs": [
    {
     "name": "stdout",
     "output_type": "stream",
     "text": [
      " 업저버 등록 \n"
     ]
    }
   ],
   "source": [
    "observer_a = ConcreteObserverA()                 ## 관찰자 객체를 하나 만들고 상태머신에 등록한다\n",
    "state.attach(observer_a)"
   ]
  },
  {
   "cell_type": "code",
   "execution_count": 9,
   "metadata": {},
   "outputs": [
    {
     "name": "stdout",
     "output_type": "stream",
     "text": [
      " 업저버 등록 \n"
     ]
    }
   ],
   "source": [
    "observer_b = ConcreteObserverB()               ## 관찰자 객체를 또 하나 만들고 상태머신에 등록한다\n",
    "state.attach(observer_b)"
   ]
  },
  {
   "cell_type": "code",
   "execution_count": null,
   "metadata": {},
   "outputs": [],
   "source": []
  },
  {
   "cell_type": "code",
   "execution_count": 10,
   "metadata": {},
   "outputs": [
    {
     "name": "stdout",
     "output_type": "stream",
     "text": [
      "상태 변경하기  .\n",
      "상태 값 확인하기 : 3\n",
      " 등록된 옵저버에서 통보 ...\n",
      " 관찰 상태 A: 이벤트 실행\n",
      " 관찰 상태 B: 이벤트 실행 \n"
     ]
    }
   ],
   "source": [
    "state.some_business_logic()                          ## 상태 머신에 특정 이벤트를 발생시켜서 관찰자에게 알려주면 관찰자들의 이벤트에 대한 반응을 처리한다"
   ]
  },
  {
   "cell_type": "code",
   "execution_count": null,
   "metadata": {},
   "outputs": [],
   "source": []
  },
  {
   "cell_type": "code",
   "execution_count": 11,
   "metadata": {},
   "outputs": [
    {
     "name": "stdout",
     "output_type": "stream",
     "text": [
      " 업저버 삭제 \n"
     ]
    }
   ],
   "source": [
    "state.detach(observer_a)                              ## 관찰자 객체를 하나 삭제한다"
   ]
  },
  {
   "cell_type": "code",
   "execution_count": 12,
   "metadata": {},
   "outputs": [
    {
     "name": "stdout",
     "output_type": "stream",
     "text": [
      "상태 변경하기  .\n",
      "상태 값 확인하기 : 7\n",
      " 등록된 옵저버에서 통보 ...\n",
      " 관찰 상태 B: 이벤트 실행 \n"
     ]
    }
   ],
   "source": [
    "state.some_business_logic()                          ## 상태 머신에 특정 이벤트를 발생시켜서 관찰자에게 알려주면 관찰자들의 이벤트에 대한 반응을 처리한다"
   ]
  },
  {
   "cell_type": "code",
   "execution_count": null,
   "metadata": {},
   "outputs": [],
   "source": []
  },
  {
   "cell_type": "code",
   "execution_count": null,
   "metadata": {},
   "outputs": [],
   "source": []
  },
  {
   "cell_type": "code",
   "execution_count": null,
   "metadata": {},
   "outputs": [],
   "source": []
  }
 ],
 "metadata": {
  "kernelspec": {
   "display_name": "Python 3",
   "language": "python",
   "name": "python3"
  },
  "language_info": {
   "codemirror_mode": {
    "name": "ipython",
    "version": 3
   },
   "file_extension": ".py",
   "mimetype": "text/x-python",
   "name": "python",
   "nbconvert_exporter": "python",
   "pygments_lexer": "ipython3",
   "version": "3.6.8"
  }
 },
 "nbformat": 4,
 "nbformat_minor": 2
}
