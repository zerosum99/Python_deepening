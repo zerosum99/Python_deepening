{
 "cells": [
  {
   "cell_type": "markdown",
   "metadata": {},
   "source": [
    "## 예제 35-1-1 사용관계 이해하기"
   ]
  },
  {
   "cell_type": "code",
   "execution_count": 22,
   "metadata": {},
   "outputs": [],
   "source": [
    "class Master :                                   ##  마스터 클래스를 정의한다\n",
    "    def __init__(self,name) :                 ##  초기화 함수를  작성한다\n",
    "        self._name = name\n",
    "        self.Name = Slave()                   ##   Slave 클래스를 사용하기 하나의 객체를  속성을  할당한다"
   ]
  },
  {
   "cell_type": "code",
   "execution_count": 23,
   "metadata": {},
   "outputs": [],
   "source": [
    "class Slave :                                      ## 슬레이브 클래스를 정의한다\n",
    "    def getName(self,other) :             ##  마스터 객체를 전달을 받아서 조회하는 역할을 수행한다\n",
    "        return other._name"
   ]
  },
  {
   "cell_type": "code",
   "execution_count": null,
   "metadata": {},
   "outputs": [],
   "source": []
  },
  {
   "cell_type": "code",
   "execution_count": 24,
   "metadata": {},
   "outputs": [],
   "source": [
    "m = Master(\"고요한\")                        ## 객체를 하나 만든다"
   ]
  },
  {
   "cell_type": "code",
   "execution_count": 27,
   "metadata": {},
   "outputs": [
    {
     "data": {
      "text/plain": [
       "'고요한'"
      ]
     },
     "execution_count": 27,
     "metadata": {},
     "output_type": "execute_result"
    }
   ],
   "source": [
    "m.Name.getName(m)                       ##  객체의  Name 속성에 있는 슬라이브 객체를 가지고 마스터의 name 속성을 조회한다"
   ]
  },
  {
   "cell_type": "markdown",
   "metadata": {},
   "source": [
    "# 뒤 예제는 미 포함된 내용입니다"
   ]
  },
  {
   "cell_type": "code",
   "execution_count": 28,
   "metadata": {},
   "outputs": [],
   "source": [
    "class B(object):                               ##  클래스를 하나 정의한다\n",
    "    pass"
   ]
  },
  {
   "cell_type": "code",
   "execution_count": 29,
   "metadata": {},
   "outputs": [],
   "source": [
    "class A(object):                               ##  클래스를 정의한다 \n",
    "    def __init__(self, b):                      ##  초기화 함수에 객체를 하나 받고 속성으로 저장한다\n",
    "        self.b = b\n"
   ]
  },
  {
   "cell_type": "code",
   "execution_count": 30,
   "metadata": {},
   "outputs": [],
   "source": [
    "b = B()                                             ## 먼저 B 클래스의 객체를 하나 만든다\n",
    "a = A(b)                                            ##  A 클래스의 객체를 생성할 때 인자로 b 객체를 전달을 받는다. "
   ]
  },
  {
   "cell_type": "code",
   "execution_count": null,
   "metadata": {},
   "outputs": [],
   "source": []
  },
  {
   "cell_type": "code",
   "execution_count": null,
   "metadata": {},
   "outputs": [],
   "source": []
  }
 ],
 "metadata": {
  "kernelspec": {
   "display_name": "Python 3",
   "language": "python",
   "name": "python3"
  },
  "language_info": {
   "codemirror_mode": {
    "name": "ipython",
    "version": 3
   },
   "file_extension": ".py",
   "mimetype": "text/x-python",
   "name": "python",
   "nbconvert_exporter": "python",
   "pygments_lexer": "ipython3",
   "version": "3.6.8"
  }
 },
 "nbformat": 4,
 "nbformat_minor": 2
}
