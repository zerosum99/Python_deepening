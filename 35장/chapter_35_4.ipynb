{
 "cells": [
  {
   "cell_type": "markdown",
   "metadata": {},
   "source": [
    "## 예제 35-4-1 의존관계 이해하기"
   ]
  },
  {
   "cell_type": "code",
   "execution_count": 18,
   "metadata": {},
   "outputs": [],
   "source": [
    "class Balance(object):                                           ## 잔액을 관리하는 클래스를 정의한다\n",
    "    def __init__(self, money=0) :                              ## 초기화 함수에 하나의 속성을 만든다\n",
    "        self._bal=0\n",
    "        \n",
    "    def getBalance(self) :                                       ## 잔액을 조회하는 함수를 정의한다\n",
    "        return self._bal\n",
    "        \n",
    "    def setBalance(self,acc_no,money) :                ## 잔액을 갱신하는 함수를 정의한다\n",
    "        if not hasattr(self,\"_acc_no\") :                       ##  특정 계좌번호에 대한 속성이 없으면 계좌번호를  속성을 생성하고 잔액도 갱신한다\n",
    "            self._acc_no = acc_no\n",
    "        self._bal += money\n",
    "        \n",
    "    def __del__(self):                                                ## 소멸자 함수를 정의한다\n",
    "        del self"
   ]
  },
  {
   "cell_type": "code",
   "execution_count": null,
   "metadata": {},
   "outputs": [],
   "source": []
  },
  {
   "cell_type": "code",
   "execution_count": 29,
   "metadata": {},
   "outputs": [],
   "source": [
    "class Agreement(object):                                  ## 계약 클래스를 정의한다\n",
    "    def __init__(self, acc_no,b, money):                 ## 초기화 함수에 계좌번호, 잔액 , 잔액을 관리하는 객체를 전달한다\n",
    "        self.acc_no = acc_no\n",
    "        self.setBalance(b,money)                           ##  잔액을 관리하는 객체를 갱신한다 \n",
    "               \n",
    "    def getBalance(self,b) :                                  ##  잔액 관리하는 객체를 조회하는 함수를 정의한다\n",
    "        return b.getBalance()\n",
    "    \n",
    "    def setBalance(self, b, money) :                    ##  잔액관리하는 객체의 값을 ㅂ녀경하는 함수를 정의한다\n",
    "        b.setBalance(self.acc_no, money)\n",
    "        \n",
    "    def __del__(self) :                                            ## 소멸자 함수를 정의한다\n",
    "        del self"
   ]
  },
  {
   "cell_type": "code",
   "execution_count": null,
   "metadata": {},
   "outputs": [],
   "source": []
  },
  {
   "cell_type": "code",
   "execution_count": 30,
   "metadata": {},
   "outputs": [],
   "source": [
    "b = Balance()                                                   ##   잔액관리하는 객체를 만든다"
   ]
  },
  {
   "cell_type": "code",
   "execution_count": 31,
   "metadata": {},
   "outputs": [],
   "source": [
    "a = Agreement(\"1234\",b,1000)                       ##  계약 객체를 하나 만든다"
   ]
  },
  {
   "cell_type": "code",
   "execution_count": 32,
   "metadata": {},
   "outputs": [
    {
     "data": {
      "text/plain": [
       "{'acc_no': '1234'}"
      ]
     },
     "execution_count": 32,
     "metadata": {},
     "output_type": "execute_result"
    }
   ],
   "source": [
    "a.__dict__                                                        ## 계약 객체에는 계좌번호 속성만 갖는다"
   ]
  },
  {
   "cell_type": "code",
   "execution_count": null,
   "metadata": {},
   "outputs": [],
   "source": []
  },
  {
   "cell_type": "code",
   "execution_count": 33,
   "metadata": {},
   "outputs": [
    {
     "data": {
      "text/plain": [
       "{'_bal': 1000, '_acc_no': '1234'}"
      ]
     },
     "execution_count": 33,
     "metadata": {},
     "output_type": "execute_result"
    }
   ],
   "source": [
    "b.__dict__                                                        ## 잔액관리 객체를 확인하면 잔액과 계좌번호가 있다"
   ]
  },
  {
   "cell_type": "code",
   "execution_count": 34,
   "metadata": {},
   "outputs": [
    {
     "data": {
      "text/plain": [
       "1000"
      ]
     },
     "execution_count": 34,
     "metadata": {},
     "output_type": "execute_result"
    }
   ],
   "source": [
    "a.getBalance(b)                                             ##  잔액을 조회할 때 잔액관리 객체를 인자로 전달한다"
   ]
  },
  {
   "cell_type": "code",
   "execution_count": null,
   "metadata": {},
   "outputs": [],
   "source": []
  },
  {
   "cell_type": "code",
   "execution_count": 35,
   "metadata": {},
   "outputs": [],
   "source": [
    "del a                                                               ## 계좌 객체를  삭제하면 더 이상 사용할 수 없다"
   ]
  },
  {
   "cell_type": "code",
   "execution_count": 36,
   "metadata": {},
   "outputs": [
    {
     "ename": "NameError",
     "evalue": "name 'a' is not defined",
     "output_type": "error",
     "traceback": [
      "\u001b[1;31m---------------------------------------------------------------------------\u001b[0m",
      "\u001b[1;31mNameError\u001b[0m                                 Traceback (most recent call last)",
      "\u001b[1;32m<ipython-input-36-012a0094be22>\u001b[0m in \u001b[0;36m<module>\u001b[1;34m\u001b[0m\n\u001b[1;32m----> 1\u001b[1;33m \u001b[0ma\u001b[0m\u001b[1;33m.\u001b[0m\u001b[0mgetBalance\u001b[0m\u001b[1;33m(\u001b[0m\u001b[0mb\u001b[0m\u001b[1;33m)\u001b[0m\u001b[1;33m\u001b[0m\u001b[1;33m\u001b[0m\u001b[0m\n\u001b[0m",
      "\u001b[1;31mNameError\u001b[0m: name 'a' is not defined"
     ]
    }
   ],
   "source": [
    "a.getBalance(b)"
   ]
  },
  {
   "cell_type": "code",
   "execution_count": null,
   "metadata": {},
   "outputs": [],
   "source": []
  },
  {
   "cell_type": "code",
   "execution_count": 37,
   "metadata": {},
   "outputs": [
    {
     "data": {
      "text/plain": [
       "{'_bal': 1000, '_acc_no': '1234'}"
      ]
     },
     "execution_count": 37,
     "metadata": {},
     "output_type": "execute_result"
    }
   ],
   "source": [
    "b.__dict__                                                   ##  잔액 객체는 아직 소멸이 되지 않아서 조회가 가능하다"
   ]
  },
  {
   "cell_type": "code",
   "execution_count": 38,
   "metadata": {},
   "outputs": [],
   "source": [
    "del b                                                          ## 잔액 객체도 삭제한다"
   ]
  },
  {
   "cell_type": "code",
   "execution_count": 39,
   "metadata": {},
   "outputs": [
    {
     "ename": "NameError",
     "evalue": "name 'b' is not defined",
     "output_type": "error",
     "traceback": [
      "\u001b[1;31m---------------------------------------------------------------------------\u001b[0m",
      "\u001b[1;31mNameError\u001b[0m                                 Traceback (most recent call last)",
      "\u001b[1;32m<ipython-input-39-89e6c98d9288>\u001b[0m in \u001b[0;36m<module>\u001b[1;34m\u001b[0m\n\u001b[1;32m----> 1\u001b[1;33m \u001b[0mb\u001b[0m\u001b[1;33m\u001b[0m\u001b[1;33m\u001b[0m\u001b[0m\n\u001b[0m",
      "\u001b[1;31mNameError\u001b[0m: name 'b' is not defined"
     ]
    }
   ],
   "source": [
    "b"
   ]
  },
  {
   "cell_type": "code",
   "execution_count": null,
   "metadata": {},
   "outputs": [],
   "source": []
  }
 ],
 "metadata": {
  "kernelspec": {
   "display_name": "Python 3",
   "language": "python",
   "name": "python3"
  },
  "language_info": {
   "codemirror_mode": {
    "name": "ipython",
    "version": 3
   },
   "file_extension": ".py",
   "mimetype": "text/x-python",
   "name": "python",
   "nbconvert_exporter": "python",
   "pygments_lexer": "ipython3",
   "version": "3.6.8"
  }
 },
 "nbformat": 4,
 "nbformat_minor": 2
}
