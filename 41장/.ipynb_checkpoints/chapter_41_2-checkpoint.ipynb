{
 "cells": [
  {
   "cell_type": "markdown",
   "metadata": {},
   "source": [
    "## 예제 41-2-1  경고 알아보기"
   ]
  },
  {
   "cell_type": "code",
   "execution_count": 2,
   "metadata": {},
   "outputs": [],
   "source": [
    "import warnings                         ## 경고를 사용하는 모듈을 사용한다 "
   ]
  },
  {
   "cell_type": "code",
   "execution_count": null,
   "metadata": {},
   "outputs": [],
   "source": []
  },
  {
   "cell_type": "code",
   "execution_count": 3,
   "metadata": {},
   "outputs": [
    {
     "name": "stdout",
     "output_type": "stream",
     "text": [
      " 경고처리 전\n",
      " 경고처리 후\n"
     ]
    },
    {
     "name": "stderr",
     "output_type": "stream",
     "text": [
      "C:\\Users\\John\\Anaconda3\\lib\\site-packages\\ipykernel_launcher.py:2: UserWarning:  이 모듈은 사용이 정지된 것입니다. \n",
      "  \n"
     ]
    }
   ],
   "source": [
    "print(' 경고처리 전')\n",
    "warnings.warn(' 이 모듈은 사용이 정지된 것입니다. ')        ## 경고를 처리하는 warn을 처리한다\n",
    "print(' 경고처리 후')"
   ]
  },
  {
   "cell_type": "code",
   "execution_count": null,
   "metadata": {},
   "outputs": [],
   "source": []
  },
  {
   "cell_type": "code",
   "execution_count": 6,
   "metadata": {},
   "outputs": [],
   "source": [
    "def add(x,y) :                                            ## 함수를 정의한다\n",
    "    warnings.warn(\" 이 함수는 조만간 변경됩니다. \")       ## 이 함수를 처리할 때 경고 메시지를 처리한다\n",
    "    return x + y"
   ]
  },
  {
   "cell_type": "code",
   "execution_count": 7,
   "metadata": {},
   "outputs": [
    {
     "name": "stderr",
     "output_type": "stream",
     "text": [
      "C:\\Users\\John\\Anaconda3\\lib\\site-packages\\ipykernel_launcher.py:2: UserWarning:  이 함수는 조만간 변경됩니다. \n",
      "  \n"
     ]
    },
    {
     "data": {
      "text/plain": [
       "10"
      ]
     },
     "execution_count": 7,
     "metadata": {},
     "output_type": "execute_result"
    }
   ],
   "source": [
    "add(5,5)                                ## 함수를 호출하면 경고를 처리한다"
   ]
  },
  {
   "cell_type": "code",
   "execution_count": null,
   "metadata": {},
   "outputs": [],
   "source": []
  },
  {
   "cell_type": "code",
   "execution_count": 8,
   "metadata": {},
   "outputs": [],
   "source": [
    "def function_with_warning():                                    ## 함수에 정의할 때  내부에 경고 창을 작성한다 \n",
    "    warnings.warn(' 이 함수는 이제 사용을 중단해야 합니다.!')"
   ]
  },
  {
   "cell_type": "code",
   "execution_count": 9,
   "metadata": {},
   "outputs": [],
   "source": [
    "warnings.simplefilter('once', UserWarning)                   ## 경고를 발생할 때 한번만 경고를 지정한다 "
   ]
  },
  {
   "cell_type": "code",
   "execution_count": 10,
   "metadata": {},
   "outputs": [
    {
     "name": "stderr",
     "output_type": "stream",
     "text": [
      "C:\\Users\\John\\Anaconda3\\lib\\site-packages\\ipykernel_launcher.py:2: UserWarning:  이 함수는 이제 사용을 중단해야 합니다.!\n",
      "  \n"
     ]
    }
   ],
   "source": [
    "function_with_warning()                                      ## 3번의 함수를 실행하지만 한번의 경고만 발생한다\n",
    "function_with_warning()\n",
    "function_with_warning()"
   ]
  },
  {
   "cell_type": "code",
   "execution_count": null,
   "metadata": {},
   "outputs": [],
   "source": []
  },
  {
   "cell_type": "code",
   "execution_count": 5,
   "metadata": {},
   "outputs": [],
   "source": [
    "def fxn():                                                  ## 함수 내에 경고 메시지를 지정한다. \n",
    "    warnings.warn(\"deprecated\", DeprecationWarning)         ## 경고 메시지를 지정하면 이 함수를 실행하면 처리된다\n",
    "    print(\" 처리됩니다.\")"
   ]
  },
  {
   "cell_type": "code",
   "execution_count": 6,
   "metadata": {},
   "outputs": [
    {
     "name": "stdout",
     "output_type": "stream",
     "text": [
      " 처리됩니다.\n"
     ]
    },
    {
     "name": "stderr",
     "output_type": "stream",
     "text": [
      "C:\\Users\\John\\Anaconda3\\lib\\site-packages\\ipykernel_launcher.py:2: DeprecationWarning: deprecated\n",
      "  \n"
     ]
    }
   ],
   "source": [
    "fxn()                                                      ## 함수가 실행하면 경고 메시지가 나온다"
   ]
  },
  {
   "cell_type": "code",
   "execution_count": null,
   "metadata": {},
   "outputs": [],
   "source": []
  },
  {
   "cell_type": "code",
   "execution_count": null,
   "metadata": {},
   "outputs": [],
   "source": []
  }
 ],
 "metadata": {
  "kernelspec": {
   "display_name": "Python 3",
   "language": "python",
   "name": "python3"
  },
  "language_info": {
   "codemirror_mode": {
    "name": "ipython",
    "version": 3
   },
   "file_extension": ".py",
   "mimetype": "text/x-python",
   "name": "python",
   "nbconvert_exporter": "python",
   "pygments_lexer": "ipython3",
   "version": "3.7.3"
  }
 },
 "nbformat": 4,
 "nbformat_minor": 2
}
