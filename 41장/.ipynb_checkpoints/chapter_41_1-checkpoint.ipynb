{
 "cells": [
  {
   "cell_type": "markdown",
   "metadata": {},
   "source": [
    "## 예제 41-1-1  예외 알아보기"
   ]
  },
  {
   "cell_type": "code",
   "execution_count": 2,
   "metadata": {},
   "outputs": [
    {
     "data": {
      "text/plain": [
       "Exception"
      ]
     },
     "execution_count": 2,
     "metadata": {},
     "output_type": "execute_result"
    }
   ],
   "source": [
    "Exception                          ## 최상위 예외 클래스"
   ]
  },
  {
   "cell_type": "code",
   "execution_count": 3,
   "metadata": {},
   "outputs": [
    {
     "data": {
      "text/plain": [
       "True"
      ]
     },
     "execution_count": 3,
     "metadata": {},
     "output_type": "execute_result"
    }
   ],
   "source": [
    "isinstance(Exception, type)         ## 예외 클래스도 다른 클래스처럼 메타 클래스로 만든다"
   ]
  },
  {
   "cell_type": "code",
   "execution_count": null,
   "metadata": {},
   "outputs": [],
   "source": []
  },
  {
   "cell_type": "code",
   "execution_count": 4,
   "metadata": {},
   "outputs": [],
   "source": [
    "e = Exception(\" 예외를 발생합니다 \")      ## 예외 클래스의 객체를 하나 생성한다"
   ]
  },
  {
   "cell_type": "code",
   "execution_count": 5,
   "metadata": {},
   "outputs": [
    {
     "data": {
      "text/plain": [
       "Exception"
      ]
     },
     "execution_count": 5,
     "metadata": {},
     "output_type": "execute_result"
    }
   ],
   "source": [
    "type(e)"
   ]
  },
  {
   "cell_type": "code",
   "execution_count": 6,
   "metadata": {},
   "outputs": [
    {
     "data": {
      "text/plain": [
       "(' 예외를 발생합니다 ',)"
      ]
     },
     "execution_count": 6,
     "metadata": {},
     "output_type": "execute_result"
    }
   ],
   "source": [
    "e.args                                   ## 예외 객체 내의 속성을 확인한다"
   ]
  },
  {
   "cell_type": "code",
   "execution_count": null,
   "metadata": {},
   "outputs": [],
   "source": []
  },
  {
   "cell_type": "code",
   "execution_count": 7,
   "metadata": {},
   "outputs": [
    {
     "data": {
      "text/plain": [
       "TypeError"
      ]
     },
     "execution_count": 7,
     "metadata": {},
     "output_type": "execute_result"
    }
   ],
   "source": [
    "TypeError                        ## 클래스가 잘 못 되었을 때 이 예외를 발생시킨다"
   ]
  },
  {
   "cell_type": "code",
   "execution_count": 8,
   "metadata": {},
   "outputs": [
    {
     "data": {
      "text/plain": [
       "True"
      ]
     },
     "execution_count": 8,
     "metadata": {},
     "output_type": "execute_result"
    }
   ],
   "source": [
    "issubclass(TypeError, Exception)   ## 예외 최상의 클래스를 상속한다"
   ]
  },
  {
   "cell_type": "code",
   "execution_count": 9,
   "metadata": {},
   "outputs": [
    {
     "data": {
      "text/plain": [
       "(Exception,)"
      ]
     },
     "execution_count": 9,
     "metadata": {},
     "output_type": "execute_result"
    }
   ],
   "source": [
    "TypeError.__bases__"
   ]
  },
  {
   "cell_type": "code",
   "execution_count": null,
   "metadata": {},
   "outputs": [],
   "source": []
  },
  {
   "cell_type": "code",
   "execution_count": 12,
   "metadata": {},
   "outputs": [
    {
     "name": "stdout",
     "output_type": "stream",
     "text": [
      "정수를 입력하세요: 9\n",
      " 입력값  9\n",
      "정수를 입력하세요: 9.\n"
     ]
    },
    {
     "ename": "ValueError",
     "evalue": "invalid literal for int() with base 10: '9.'",
     "output_type": "error",
     "traceback": [
      "\u001b[1;31m---------------------------------------------------------------------------\u001b[0m",
      "\u001b[1;31mValueError\u001b[0m                                Traceback (most recent call last)",
      "\u001b[1;32m<ipython-input-12-2e5b603afd9b>\u001b[0m in \u001b[0;36m<module>\u001b[1;34m\u001b[0m\n\u001b[0;32m      1\u001b[0m \u001b[1;32mwhile\u001b[0m \u001b[1;32mTrue\u001b[0m\u001b[1;33m:\u001b[0m\u001b[1;33m\u001b[0m\u001b[1;33m\u001b[0m\u001b[0m\n\u001b[1;32m----> 2\u001b[1;33m     \u001b[0mx\u001b[0m \u001b[1;33m=\u001b[0m \u001b[0mint\u001b[0m\u001b[1;33m(\u001b[0m\u001b[0minput\u001b[0m\u001b[1;33m(\u001b[0m\u001b[1;34m\"정수를 입력하세요: \"\u001b[0m\u001b[1;33m)\u001b[0m\u001b[1;33m)\u001b[0m\u001b[1;33m\u001b[0m\u001b[1;33m\u001b[0m\u001b[0m\n\u001b[0m\u001b[0;32m      3\u001b[0m     \u001b[1;32mif\u001b[0m \u001b[0misinstance\u001b[0m\u001b[1;33m(\u001b[0m\u001b[0mx\u001b[0m\u001b[1;33m,\u001b[0m \u001b[0mint\u001b[0m\u001b[1;33m)\u001b[0m \u001b[1;33m:\u001b[0m\u001b[1;33m\u001b[0m\u001b[1;33m\u001b[0m\u001b[0m\n\u001b[0;32m      4\u001b[0m         \u001b[0mprint\u001b[0m\u001b[1;33m(\u001b[0m\u001b[1;34m\" 입력값 \"\u001b[0m\u001b[1;33m,\u001b[0m \u001b[0mx\u001b[0m\u001b[1;33m)\u001b[0m\u001b[1;33m\u001b[0m\u001b[1;33m\u001b[0m\u001b[0m\n",
      "\u001b[1;31mValueError\u001b[0m: invalid literal for int() with base 10: '9.'"
     ]
    }
   ],
   "source": [
    "while True:                                    ## 무한 순환을 작성한다\n",
    "    x = int(input(\"정수를 입력하세요: \"))       ## 입력을 받아서 정수로 변환한다.\n",
    "    if isinstance(x, int) :                    ## 정수 객체이면 print 함수를 출력한다\n",
    "        print(\" 입력값 \", x) \n",
    "                                               ## 입력이 9.으로 들어오면 점때문에 정수로 변환이 불가능해서 예외를 발생시킨다"
   ]
  },
  {
   "cell_type": "code",
   "execution_count": 10,
   "metadata": {},
   "outputs": [
    {
     "name": "stdout",
     "output_type": "stream",
     "text": [
      "정수를 입력하세요: 가\n",
      "정수가 아닌 다른 값을 넣었습니다. \n",
      "정수를 입력하세요: 5\n"
     ]
    }
   ],
   "source": [
    "while True:                                    ## 예외가 발생하면 진행되지 않는다\n",
    "    try:                                       ## 예외가 발생해도 추가적인 처리를 하려면 try 구문에 예외발생문장을 넣는다\n",
    "        x = int(input(\"정수를 입력하세요: \"))\n",
    "        break\n",
    "    except ValueError:                               ## 예외를 잡을 때는 except 구문에 발생할 예외 클래스를 정의한다\n",
    "        print(\"정수가 아닌 다른 값을 넣었습니다. \")   ## 예외가 발생하면 예외 클래스에 따라 except 구문을 실행한다"
   ]
  },
  {
   "cell_type": "code",
   "execution_count": null,
   "metadata": {},
   "outputs": [],
   "source": []
  },
  {
   "cell_type": "code",
   "execution_count": 13,
   "metadata": {},
   "outputs": [],
   "source": [
    "def this_fails():                          ## 함수를 정의한다.\n",
    "     x = 1/0                            ## 나누기를 0으로 하면 예외가 발생한다"
   ]
  },
  {
   "cell_type": "code",
   "execution_count": 15,
   "metadata": {},
   "outputs": [
    {
     "name": "stdout",
     "output_type": "stream",
     "text": [
      "함수를 처리할 때 예외 발생 : division by zero\n"
     ]
    }
   ],
   "source": [
    "try:\n",
    "    this_fails()                              ## 이 함수는 무조건 예외를 처리한다\n",
    "except ZeroDivisionError as err:                ## 예외의 결과를 확인하려면 try except 문으로 에외발생할 문장을 감싸야 한다\n",
    "    print('함수를 처리할 때 예외 발생 :', err)"
   ]
  },
  {
   "cell_type": "code",
   "execution_count": null,
   "metadata": {},
   "outputs": [],
   "source": []
  },
  {
   "cell_type": "code",
   "execution_count": 21,
   "metadata": {},
   "outputs": [
    {
     "name": "stdout",
     "output_type": "stream",
     "text": [
      "('강제 예외 발생', 'raise 문을 사용함')\n",
      "('강제 예외 발생', 'raise 문을 사용함') <class 'Exception'>\n",
      "x = 강제 예외 발생\n",
      "y = raise 문을 사용함\n"
     ]
    }
   ],
   "source": [
    "try:\n",
    "    raise Exception('강제 예외 발생', 'raise 문을 사용함')          ## 강제로 예외를 raise 구문으로 발생시킨다.\n",
    "    \n",
    "except Exception as e :                                           ## 에외를 잡고 내부의 속성을 확인한다\n",
    "    print(e.args)     \n",
    "    print(e, type(e))          \n",
    "\n",
    "    x, y = e.args                                                 ## 두 개의 메시지를 전달해서 이를 분리해서 처리할 수 있다\n",
    "    print('x =', x)\n",
    "    print('y =', y)"
   ]
  },
  {
   "cell_type": "code",
   "execution_count": null,
   "metadata": {},
   "outputs": [],
   "source": []
  },
  {
   "cell_type": "code",
   "execution_count": 22,
   "metadata": {},
   "outputs": [],
   "source": [
    "class InputError(Exception):                            ## 사용자 예외 클래스를 정의한다. Exception 클래스를 상속한다\n",
    "    \"\"\"Exception raised for errors in the input.\n",
    "\n",
    "    Attributes:\n",
    "        expression -- 에러나 예외의 메시지\n",
    "        module     --  모듈명\n",
    "    \"\"\"\n",
    "\n",
    "    def __init__(self, expression, module):              ## 초기화 함수를 통해 메시지와 모듈을 저장한다\n",
    "        self.expression = expression\n",
    "        self.module = module\n"
   ]
  },
  {
   "cell_type": "code",
   "execution_count": 23,
   "metadata": {},
   "outputs": [
    {
     "name": "stdout",
     "output_type": "stream",
     "text": [
      " 예외발생 \n",
      "__main__\n"
     ]
    }
   ],
   "source": [
    "try :\n",
    "    raise InputError(\" 예외발생 \", __name__)               ## 위의 사용자 정의 예외클래스로 예외를 강제로 발생한다\n",
    "    \n",
    "except InputError as e :                                ## 이 예외를 잡아서 메시지와 모듈을 출력한다\n",
    "    print(e.expression)\n",
    "    print(e.module)"
   ]
  },
  {
   "cell_type": "code",
   "execution_count": 24,
   "metadata": {},
   "outputs": [
    {
     "name": "stdout",
     "output_type": "stream",
     "text": [
      " 예외발생 \n",
      "__main__\n",
      "반드시 처리 합니다\n"
     ]
    }
   ],
   "source": [
    "try :\n",
    "    raise InputError(\" 예외발생 \", __name__)               ## 예외를 발생시킨다\n",
    "        \n",
    "except InputError as e :\n",
    "    print(e.expression)\n",
    "    print(e.module)\n",
    "    \n",
    "finally :                                      ## 예외를 처리한 후에 이 구문은 반드시 처리할 로직을 넣는다\n",
    "    print( \"반드시 처리 합니다\" )"
   ]
  },
  {
   "cell_type": "code",
   "execution_count": null,
   "metadata": {},
   "outputs": [],
   "source": []
  },
  {
   "cell_type": "code",
   "execution_count": 25,
   "metadata": {},
   "outputs": [
    {
     "name": "stdout",
     "output_type": "stream",
     "text": [
      " 정상처리 \n",
      " 예외가 발생하지 않았습니다.\n",
      "반드시 처리 합니다\n"
     ]
    }
   ],
   "source": [
    "try :\n",
    "    print(\" 정상처리 \")\n",
    "        \n",
    "except InputError as e :\n",
    "    print(e.expression)\n",
    "    print(e.module)\n",
    "else :                                             ## 예외가 발생하지 않을 경우만 else 문이 처리된다\n",
    "    print(\" 예외가 발생하지 않았습니다.\")\n",
    "finally :\n",
    "    print( \"반드시 처리 합니다\" )"
   ]
  },
  {
   "cell_type": "code",
   "execution_count": null,
   "metadata": {},
   "outputs": [],
   "source": []
  }
 ],
 "metadata": {
  "kernelspec": {
   "display_name": "Python 3",
   "language": "python",
   "name": "python3"
  },
  "language_info": {
   "codemirror_mode": {
    "name": "ipython",
    "version": 3
   },
   "file_extension": ".py",
   "mimetype": "text/x-python",
   "name": "python",
   "nbconvert_exporter": "python",
   "pygments_lexer": "ipython3",
   "version": "3.7.3"
  }
 },
 "nbformat": 4,
 "nbformat_minor": 2
}
