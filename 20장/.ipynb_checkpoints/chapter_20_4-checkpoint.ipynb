{
 "cells": [
  {
   "cell_type": "markdown",
   "metadata": {},
   "source": [
    "##  예제 20-4-1  :  인덱스 검색을 함수와 메소드로  만들기"
   ]
  },
  {
   "cell_type": "code",
   "execution_count": null,
   "metadata": {},
   "outputs": [],
   "source": []
  },
  {
   "cell_type": "code",
   "execution_count": 1,
   "metadata": {},
   "outputs": [],
   "source": [
    "import operator "
   ]
  },
  {
   "cell_type": "code",
   "execution_count": 6,
   "metadata": {},
   "outputs": [],
   "source": [
    "def search(iterable, index) :                             ## 인덱스 색인 연산을 함수로 작성한다 2 개의 매개변수를 정의해서 리스트 등의 객체와 인덱스를 받는다\n",
    "    if len(iterable) <=  index :                             ## 인덱스 범위 내에서만 처리한다\n",
    "        index = len(iterable) - 1\n",
    "    \n",
    "    return operator.getitem(iterable, index)      ## 색인 조회는 getitem 함수를 사용한다"
   ]
  },
  {
   "cell_type": "code",
   "execution_count": null,
   "metadata": {},
   "outputs": [],
   "source": []
  },
  {
   "cell_type": "code",
   "execution_count": 7,
   "metadata": {},
   "outputs": [],
   "source": [
    "l = [1,2,3,4]"
   ]
  },
  {
   "cell_type": "code",
   "execution_count": 8,
   "metadata": {},
   "outputs": [
    {
     "data": {
      "text/plain": [
       "4"
      ]
     },
     "execution_count": 8,
     "metadata": {},
     "output_type": "execute_result"
    }
   ],
   "source": [
    "search(l,4)                        ## 이 함수를 상요해서 리스트 범위를 벗어난 인덱스를 넣고 조회하면 마지막 원소를 반환한다"
   ]
  },
  {
   "cell_type": "code",
   "execution_count": null,
   "metadata": {},
   "outputs": [],
   "source": []
  },
  {
   "cell_type": "code",
   "execution_count": 16,
   "metadata": {},
   "outputs": [],
   "source": [
    "class Search :\n",
    "    def __init__(self, iterable) :                                     ## 클래스로 변환하려면 매개변수 중에 값을 관리하는 것을 초기화 속성으로 받는다\n",
    "        self._iterable = iterable\n",
    "        \n",
    "    def search(self, index) :                                         ##  객체가 메소드를 호출하려면 첫번째 매개변수 self를 반드시 첫번째 매개변수에 정의한다\n",
    "        if len(self._iterable) <=  index :                           ## 함수에 매개변수를 초기화 속성에 넣어서 메소드를 처리할 때는 self 로 접근해서 속성을 참조해한다\n",
    "            index = len(self._iterable) - 1\n",
    "    \n",
    "        return operator.getitem(self._iterable, index)"
   ]
  },
  {
   "cell_type": "code",
   "execution_count": null,
   "metadata": {},
   "outputs": [],
   "source": []
  },
  {
   "cell_type": "code",
   "execution_count": 17,
   "metadata": {},
   "outputs": [],
   "source": [
    "s = Search(l)                         ## 객체를 하나 생성한다"
   ]
  },
  {
   "cell_type": "code",
   "execution_count": 18,
   "metadata": {},
   "outputs": [
    {
     "data": {
      "text/plain": [
       "4"
      ]
     },
     "execution_count": 18,
     "metadata": {},
     "output_type": "execute_result"
    }
   ],
   "source": [
    "s.search(4)                            ## 이 객체를 사용해서 메소드를 접근하고 값을 넣으면 검색한다. "
   ]
  },
  {
   "cell_type": "code",
   "execution_count": null,
   "metadata": {},
   "outputs": [],
   "source": []
  }
 ],
 "metadata": {
  "kernelspec": {
   "display_name": "Python 3",
   "language": "python",
   "name": "python3"
  },
  "language_info": {
   "codemirror_mode": {
    "name": "ipython",
    "version": 3
   },
   "file_extension": ".py",
   "mimetype": "text/x-python",
   "name": "python",
   "nbconvert_exporter": "python",
   "pygments_lexer": "ipython3",
   "version": "3.6.8"
  }
 },
 "nbformat": 4,
 "nbformat_minor": 2
}
