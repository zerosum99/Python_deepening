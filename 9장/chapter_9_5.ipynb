{
 "cells": [
  {
   "cell_type": "markdown",
   "metadata": {},
   "source": [
    "## 예제 9-5-1 순환문을 이용해서 반복형 객체의 원소를 분리하기"
   ]
  },
  {
   "cell_type": "code",
   "execution_count": 1,
   "metadata": {},
   "outputs": [],
   "source": [
    "l = [1,2,3,4]                          ## 4개의 원소를 가진 리스트 객체를 생성합니다"
   ]
  },
  {
   "cell_type": "code",
   "execution_count": 3,
   "metadata": {},
   "outputs": [
    {
     "name": "stdout",
     "output_type": "stream",
     "text": [
      "index:  0 value :  1\n",
      "index:  1 value :  2\n",
      "index:  2 value :  3\n",
      "index:  3 value :  4\n"
     ]
    }
   ],
   "source": [
    "for i,v in enumerate(l) :                ## 리스트의 인덱스와 원소를 출력하기 위해 enumerate 클래스로 객체를 만들어서 순환합니다\n",
    "    print(\"index: \",i, \"value : \",v)     ##  순환문에 있는 인덱스와 원소의 값을 출력합니다"
   ]
  },
  {
   "cell_type": "code",
   "execution_count": null,
   "metadata": {},
   "outputs": [],
   "source": []
  },
  {
   "cell_type": "code",
   "execution_count": 9,
   "metadata": {},
   "outputs": [],
   "source": [
    "ll = [4,5,6,7,8]                        ## 다른 리스트 객체를 만듭니다"
   ]
  },
  {
   "cell_type": "code",
   "execution_count": 10,
   "metadata": {},
   "outputs": [
    {
     "name": "stdout",
     "output_type": "stream",
     "text": [
      "(1, 4)\n",
      "(2, 5)\n",
      "(3, 6)\n",
      "(4, 7)\n"
     ]
    }
   ],
   "source": [
    "for i in zip(l,ll) :                    ## 두 개의 리스르 객체를 받아서 순서쌍을 만드는 zip 클래스의 객체를 만들어서 순환을 합니다\n",
    "    print(i)                            ## 원소를 출력하는 두 리스트 객체의 원소를 가지고 순서쌍을 만듭니다. 원소가 작은 리스트를 \n",
    "                                        ## 기준으로 순서쌍을 만듭니다"
   ]
  },
  {
   "cell_type": "code",
   "execution_count": null,
   "metadata": {},
   "outputs": [],
   "source": []
  },
  {
   "cell_type": "code",
   "execution_count": 1,
   "metadata": {},
   "outputs": [],
   "source": [
    "import itertools as it                 ## 반복형 자료구조를 가지는 모듈을 import 합니다"
   ]
  },
  {
   "cell_type": "code",
   "execution_count": null,
   "metadata": {},
   "outputs": [],
   "source": []
  },
  {
   "cell_type": "code",
   "execution_count": 12,
   "metadata": {},
   "outputs": [
    {
     "name": "stdout",
     "output_type": "stream",
     "text": [
      "(1, 4)\n",
      "(2, 5)\n",
      "(3, 6)\n",
      "(4, 7)\n",
      "(None, 8)\n"
     ]
    }
   ],
   "source": [
    "for i in it.zip_longest(l,ll) :        ## 두 개의 리스트를 넣고 순서쌍을 만드는 zip_longest 클래스로 객체를 만듭니다.\n",
    "    print(i)                           ## 더 많은 원소를 가진 리스트 객체를 기준으로 순서쌍을 만듭니다. 원소가 없을 경우 None을 출력합니다"
   ]
  },
  {
   "cell_type": "code",
   "execution_count": null,
   "metadata": {},
   "outputs": [],
   "source": []
  },
  {
   "cell_type": "code",
   "execution_count": 15,
   "metadata": {},
   "outputs": [
    {
     "name": "stdout",
     "output_type": "stream",
     "text": [
      "1\n",
      "2\n",
      "3\n",
      "4\n",
      "4\n",
      "5\n",
      "6\n",
      "7\n",
      "8\n"
     ]
    }
   ],
   "source": [
    "for i in it.chain(l,ll) :             ## 두 개의 리스트를  하나로 묶어서 원소를 반환하는 chain 클래스를 사용합니다\n",
    "    print(i)                          ## 원소 하나씩 출력합니다"
   ]
  },
  {
   "cell_type": "code",
   "execution_count": null,
   "metadata": {},
   "outputs": [],
   "source": []
  },
  {
   "cell_type": "code",
   "execution_count": 22,
   "metadata": {},
   "outputs": [
    {
     "name": "stdout",
     "output_type": "stream",
     "text": [
      "(1, 2, 3)\n",
      "(1, 2, 4)\n",
      "(1, 3, 4)\n",
      "(2, 3, 4)\n"
     ]
    }
   ],
   "source": [
    "for i in it.combinations(l, 3) :      ## 리스트의 원소 중에 3개를 선택해서 중복없는 경우의 수를 만드는 조합으로 순환합니다\n",
    "    print(i)                          ##  중복이 없는 4개를 출력합니다"
   ]
  },
  {
   "cell_type": "code",
   "execution_count": null,
   "metadata": {},
   "outputs": [],
   "source": []
  },
  {
   "cell_type": "code",
   "execution_count": 24,
   "metadata": {},
   "outputs": [
    {
     "name": "stdout",
     "output_type": "stream",
     "text": [
      "(1, 2, 3), (1, 2, 4), (1, 3, 2), (1, 3, 4), (1, 4, 2), \n",
      "(1, 4, 3), (2, 1, 3), (2, 1, 4), (2, 3, 1), (2, 3, 4), \n",
      "(2, 4, 1), (2, 4, 3), (3, 1, 2), (3, 1, 4), (3, 2, 1), \n",
      "(3, 2, 4), (3, 4, 1), (3, 4, 2), (4, 1, 2), (4, 1, 3), \n",
      "(4, 2, 1), (4, 2, 3), (4, 3, 1), (4, 3, 2), "
     ]
    }
   ],
   "source": [
    "count = 0\n",
    "for i in it.permutations(l, 3) :          ## 리스트 원소 중에 3 개를 선택해서 순서적으로 나열한 원소 순열로 처리합니다\n",
    "    print(i, end=\", \")                     ## 한줄에 5개씩 출력하기 위해 end=\", \" 으로 개행문자를 쉼표로 바꿉니다\n",
    "    count += 1\n",
    "    if count % 5 == 0 :                   ## 5개씩 출력하기 위해 모드 연산을 사용합니다\n",
    "        print()"
   ]
  },
  {
   "cell_type": "code",
   "execution_count": null,
   "metadata": {},
   "outputs": [],
   "source": []
  }
 ],
 "metadata": {
  "kernelspec": {
   "display_name": "Python 3",
   "language": "python",
   "name": "python3"
  },
  "language_info": {
   "codemirror_mode": {
    "name": "ipython",
    "version": 3
   },
   "file_extension": ".py",
   "mimetype": "text/x-python",
   "name": "python",
   "nbconvert_exporter": "python",
   "pygments_lexer": "ipython3",
   "version": "3.7.3"
  }
 },
 "nbformat": 4,
 "nbformat_minor": 2
}
